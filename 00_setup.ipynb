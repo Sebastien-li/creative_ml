{
 "cells": [
  {
   "cell_type": "markdown",
   "id": "bd506b52-ef84-4acf-8222-fc91792a9d33",
   "metadata": {
    "tags": []
   },
   "source": [
    "# Creative machine learning - Setup\n",
    "\n",
    "### Author: Philippe Esling (esling@ircam.fr)\n",
    "\n",
    "This notebook serves as a simple introduction and setup guide for the **Creative Machine Learning** course. Hence, we will see here\n",
    "1. How to setup your [environment](#environment) at home or online\n",
    "2. Check if you have properly installed all [requirements](#requirements)\n",
    "3. Quickly discuss our [library](#library) developed specifically for this course\n",
    "4. Provide examples of different [interactive exercises](#exercises)\n",
    "5. Guide you through the [animated](#animations) sections of the course\n",
    "6. Provide [supplementary notebooks](#supplementary-notebooks) for sharpening your skills\n",
    "7. Provide some interesting [external references](#references) for different mathematical and programming notions.\n",
    "\n",
    "*All the contents of this course are under the CC-BY-NC-SA 4.0 licence.*"
   ]
  },
  {
   "cell_type": "markdown",
   "id": "040686f5-d3c8-46b0-b4cc-c78bf2f466c0",
   "metadata": {
    "tags": []
   },
   "source": [
    "## Environment\n",
    "\n",
    "Along the tutorials, we provide a reference code for each section. \n",
    "This code contains helper functions that will alleviate you from the burden of data import and other sideline implementations. \n",
    "You will find designated spaces in each file to develop your solutions. \n",
    "The code is in Python (notebooks impending) and relies on the concept of [Jupyter Notebooks](http://www.jupyter.org), which allows you to interactively follow the course and evaluate only part of the code (to avoid running long import tasks multiple times and concentrate on the question at hand).\n",
    "\n",
    "**Although you can follow this course entirely online, we highly recommend that you rather fork the [GitHub repo](http://github.com/esling/creative_ml) and setup your own environment (see next section). This will allow you to pursue research in machine learning directly after the course.**\n",
    "\n",
    "### Dependencies\n",
    "\n",
    "#### Python installation\n",
    "\n",
    "In order to get the baseline scripts and notebooks to work, you need to have a working distribution of `Python 3.7` as a minimum (we also recommend to update your version to `Python 3.9`). We will also be using a large set of libraries (as detailed in the next section)\n",
    "\n",
    "We highly recommend that you install [Pip](https://pypi.python.org/pypi/pip/) or [Anaconda](https://www.anaconda.com/download/) that will manage the automatic installation of those Python libraries (along with their dependencies). If you are using `Pip`, you can use the following commands\n",
    "\n",
    "```\n",
    "pip install -r requirements.txt\n",
    "```\n",
    "\n",
    "If you prefer to install all the libraries by hand to check their version, you can use individual commands\n",
    "\n",
    "```\n",
    "pip install numpy\n",
    "pip install scikit-learn\n",
    "pip install torch\n",
    "pip install jax\n",
    "pip install librosa\n",
    "pip install matplotlib\n",
    "```\n",
    "\n",
    "For those of you who have never coded in Python, here are a few interesting resources to get started.\n",
    "\n",
    "- [TutorialPoint](https://www.tutorialspoint.com/python/)\n",
    "- [Programiz](https://www.programiz.com/python-programming)\n",
    "\n",
    "#### Jupyter notebooks and lab\n",
    "\n",
    "In order to ease following the exercises along with the course, we will be relying on [**Jupyter Notebooks**](https://jupyter.org/). If you have never used a notebook before, we recommend that you look at their website to understand the concept. Here we also provide the instructions to install **Jupyter Lab** which is a more integrative version of notebooks. You can install it on your computer as follows (if you use `pip`)\n",
    "\n",
    "```\n",
    "pip install jupyterlab\n",
    "```\n",
    "\n",
    "Then, once installed, you can go to the folder where you cloned this repository, and type in\n",
    "\n",
    "```\n",
    "jupyter lab\n",
    "```"
   ]
  },
  {
   "cell_type": "code",
   "execution_count": 32,
   "id": "312f0859-e116-4ede-b0c8-defcb74704e6",
   "metadata": {},
   "outputs": [],
   "source": [
    "# Notebook related\n",
    "import jupyterlab\n",
    "import notebook"
   ]
  },
  {
   "cell_type": "markdown",
   "id": "723df501-0e93-4a87-841d-3b564c30bf2a",
   "metadata": {},
   "source": [
    "## Requirements\n",
    "\n",
    "Across the course, we will rely on several Python libraries that simplify our work by providing advanced functions in different domains. We list them here with a same explanation and provide imports so that you can test your environment."
   ]
  },
  {
   "cell_type": "markdown",
   "id": "5723821d-8736-40e5-bdf8-e0a545e6824c",
   "metadata": {},
   "source": [
    "### Scientific computing libraries\n",
    "\n",
    "Some of the most prominent scientific libraries for Python are NumPy, SciPy, and scikit-learn.\n",
    "\n",
    "- [NumPy](https://numpy.org/) is a fundamental library for numerical computing offering support for N-dimensional arrays and scientific computing tasks, such as linear algebra, statistical analysis, and matrix manipulation. The official NumPy website provides [tutorials](https://numpy.org/learn/) and [documentation](https://numpy.org/doc/stable/).\n",
    "- [SciPy](https://www.scipy.org/) is a library built on top of NumPy with additional tools and functions for optimization, integration, interpolation, signal and image processing, and more. The SciPy website offers[tutorials](https://www.scipy.org/getting-started.html) and [documentation](https://docs.scipy.org/doc/scipy/reference/).\n",
    "- [Scikit-learn](https://scikit-learn.org/) is a popular machine learning library for Python, featuring simple and efficient tools for a wide range of algorithms for supervised and unsupervised learning tasks. The official scikit-learn website provides [comprehensive tutorials](https://scikit-learn.org/stable/tutorial/index.html) and [documentation](https://scikit-learn.org/stable/user_guide.html)."
   ]
  },
  {
   "cell_type": "code",
   "execution_count": 33,
   "id": "60b1f333-df29-4469-b0d5-147c59707c91",
   "metadata": {},
   "outputs": [],
   "source": [
    "import gin\n",
    "import einops\n",
    "import numpy\n",
    "import sklearn\n",
    "import scipy\n",
    "import seaborn\n",
    "import tqdm"
   ]
  },
  {
   "cell_type": "markdown",
   "id": "fa2ba2fe-dfd1-4352-8dd1-fb6bd2a0587c",
   "metadata": {},
   "source": [
    "### Plotting\n",
    "\n",
    "Python offers a variety of powerful plotting libraries for creating visually appealing and informative data visualizations.\n",
    "- [Matplotlib](https://matplotlib.org/) is a widely-used plotting library for creating visualizations in Python. The official Matplotlib website offers [tutorials](https://matplotlib.org/stable/tutorials/index.html) and [documentation](https://matplotlib.org/stable/contents.html).\n",
    "- [Pandas](https://pandas.pydata.org/) is a data manipulation library for Python that also includes basic plotting capabilities built on top of Matplotlib. The Pandas website provides [tutorials](https://pandas.pydata.org/docs/getting_started/intro_tutorials/index.html) and [documentation](https://pandas.pydata.org/docs/).\n",
    "- [Bokeh](https://bokeh.org/) is a library for creating interactive and web-based visualizations with complex, interactive plots and allows creating web applications and dashboards. The official Bokeh website offers a [user guide](https://docs.bokeh.org/en/latest/index.html) and various tutorials.\n",
    "- [Plotly](https://plotly.com/python/) is another library for creating interactive and web-based visualizations. The official Plotly Python website provides an extensive [collection of tutorials](https://plotly.com/python/plotly-express/) and [documentation](https://plotly.com/python-api-reference/)."
   ]
  },
  {
   "cell_type": "code",
   "execution_count": 34,
   "id": "b2f7879a-c840-4f7a-ae36-dfbba333849d",
   "metadata": {},
   "outputs": [],
   "source": [
    "import bokeh\n",
    "import matplotlib\n",
    "import pandas\n",
    "import plotly"
   ]
  },
  {
   "cell_type": "markdown",
   "id": "af772af4-a88d-412b-b32c-f7d3990bdaf1",
   "metadata": {},
   "source": [
    "### Deep learning"
   ]
  },
  {
   "cell_type": "markdown",
   "id": "78a47d21-af99-4f17-a431-6b76d16a21e3",
   "metadata": {
    "tags": []
   },
   "source": [
    "#### Pytorch\n",
    "\n",
    "[PyTorch](https://pytorch.org/) is an open-source machine learning framework developed by Facebook and designed for deep learning applications. PyTorch provides a flexible and efficient platform for building and training various neural network architectures using dynamic computation graphs and automatic differentiation. It is particularly popular among researchers and developers due to its ease of use and strong community support. The official PyTorch website offers a wealth of resources, including [tutorials for beginners and advanced users](https://pytorch.org/tutorials/), as well as [extensive documentation](https://pytorch.org/docs/stable/index.html)."
   ]
  },
  {
   "cell_type": "code",
   "execution_count": 35,
   "id": "5c5891d8-76a5-48b8-a9a7-b4033e1f1436",
   "metadata": {},
   "outputs": [],
   "source": [
    "import torch\n",
    "import torchaudio\n",
    "import torchvision"
   ]
  },
  {
   "cell_type": "markdown",
   "id": "b012c6f2-120f-45f0-8a63-4dfd657646ff",
   "metadata": {},
   "source": [
    "#### JAX\n",
    "\n",
    "[JAX](https://github.com/google/jax) is developed by Google and extends NumPy with autograd, and XLA, while providing a functional approach to numerical computing, allowing for easy gradient computation and just-in-time (JIT) compilation. Its ability to handle complex and custom gradients makes JAX particularly well-suited for advanced research projects. To learn more about JAX and get started, visit the official [JAX GitHub repository](https://github.com/google/jax), which provides a [comprehensive collection of examples and tutorials](https://jax.readthedocs.io/en/latest/)."
   ]
  },
  {
   "cell_type": "code",
   "execution_count": 36,
   "id": "2f64126e-a77f-4284-9157-4c6b171cd0be",
   "metadata": {},
   "outputs": [],
   "source": [
    "import jax\n",
    "import jaxlib\n",
    "import flax\n",
    "import flaxmodels\n",
    "import chex\n",
    "import distrax\n",
    "import dm_aux\n",
    "import dm_pix\n",
    "import optax"
   ]
  },
  {
   "cell_type": "markdown",
   "id": "777c1d26-fbec-4b5a-a239-17d05ccfcf0b",
   "metadata": {},
   "source": [
    "#### Tensorflow\n",
    "TensorFlow is developed by Google Brain Team, designed for building and deploying machine learning and deep learning models across various platforms. The framework is mostly popular for developers and industrials as it facilitates the deployment on various plaforms. The official TensorFlow website offers numerous resources, such as [tutorials](https://www.tensorflow.org/tutorials), [documentation](https://www.tensorflow.org/guide), and [pre-built models and libraries](https://www.tensorflow.org/resources/models-datasets)."
   ]
  },
  {
   "cell_type": "code",
   "execution_count": 37,
   "id": "51bcd498-d203-4faa-9147-76c6ade2eb99",
   "metadata": {},
   "outputs": [
    {
     "ename": "TypeError",
     "evalue": "Unable to convert function return value to a Python type! The signature was\n\t() -> handle",
     "output_type": "error",
     "traceback": [
      "\u001b[1;31m---------------------------------------------------------------------------\u001b[0m",
      "\u001b[1;31mTypeError\u001b[0m                                 Traceback (most recent call last)",
      "\u001b[1;32mc:\\Users\\lxqse\\Documents\\ATIAM ML\\creative_ml\\00_setup.ipynb Cell 15\u001b[0m line \u001b[0;36m2\n\u001b[0;32m      <a href='vscode-notebook-cell:/c%3A/Users/lxqse/Documents/ATIAM%20ML/creative_ml/00_setup.ipynb#X20sZmlsZQ%3D%3D?line=0'>1</a>\u001b[0m \u001b[39mimport\u001b[39;00m \u001b[39mtensorboard\u001b[39;00m\n\u001b[1;32m----> <a href='vscode-notebook-cell:/c%3A/Users/lxqse/Documents/ATIAM%20ML/creative_ml/00_setup.ipynb#X20sZmlsZQ%3D%3D?line=1'>2</a>\u001b[0m \u001b[39mimport\u001b[39;00m \u001b[39mtensorflow_estimator\u001b[39;00m\n\u001b[0;32m      <a href='vscode-notebook-cell:/c%3A/Users/lxqse/Documents/ATIAM%20ML/creative_ml/00_setup.ipynb#X20sZmlsZQ%3D%3D?line=2'>3</a>\u001b[0m \u001b[39mimport\u001b[39;00m \u001b[39mtensorflow_probability\u001b[39;00m\n",
      "File \u001b[1;32mc:\\Users\\lxqse\\Documents\\ATIAM ML\\creative_ml\\venv\\Lib\\site-packages\\tensorflow_estimator\\__init__.py:8\u001b[0m\n\u001b[0;32m      3\u001b[0m \u001b[39m\"\"\"Public API for tf. namespace.\u001b[39;00m\n\u001b[0;32m      4\u001b[0m \u001b[39m\"\"\"\u001b[39;00m\n\u001b[0;32m      6\u001b[0m \u001b[39mimport\u001b[39;00m \u001b[39msys\u001b[39;00m \u001b[39mas\u001b[39;00m \u001b[39m_sys\u001b[39;00m\n\u001b[1;32m----> 8\u001b[0m \u001b[39mfrom\u001b[39;00m \u001b[39mtensorflow_estimator\u001b[39;00m\u001b[39m.\u001b[39;00m\u001b[39m_api\u001b[39;00m\u001b[39m.\u001b[39;00m\u001b[39mv1\u001b[39;00m \u001b[39mimport\u001b[39;00m estimator\n\u001b[0;32m      9\u001b[0m \u001b[39mfrom\u001b[39;00m \u001b[39mtensorflow\u001b[39;00m\u001b[39m.\u001b[39;00m\u001b[39mpython\u001b[39;00m\u001b[39m.\u001b[39;00m\u001b[39mutil\u001b[39;00m \u001b[39mimport\u001b[39;00m module_wrapper \u001b[39mas\u001b[39;00m _module_wrapper\n\u001b[0;32m     11\u001b[0m \u001b[39mif\u001b[39;00m \u001b[39mnot\u001b[39;00m \u001b[39misinstance\u001b[39m(_sys\u001b[39m.\u001b[39mmodules[\u001b[39m__name__\u001b[39m], _module_wrapper\u001b[39m.\u001b[39mTFModuleWrapper):\n",
      "File \u001b[1;32mc:\\Users\\lxqse\\Documents\\ATIAM ML\\creative_ml\\venv\\Lib\\site-packages\\tensorflow_estimator\\_api\\v1\\estimator\\__init__.py:8\u001b[0m\n\u001b[0;32m      3\u001b[0m \u001b[39m\"\"\"Estimator: High level tools for working with models.\u001b[39;00m\n\u001b[0;32m      4\u001b[0m \u001b[39m\"\"\"\u001b[39;00m\n\u001b[0;32m      6\u001b[0m \u001b[39mimport\u001b[39;00m \u001b[39msys\u001b[39;00m \u001b[39mas\u001b[39;00m \u001b[39m_sys\u001b[39;00m\n\u001b[1;32m----> 8\u001b[0m \u001b[39mfrom\u001b[39;00m \u001b[39mtensorflow_estimator\u001b[39;00m\u001b[39m.\u001b[39;00m\u001b[39m_api\u001b[39;00m\u001b[39m.\u001b[39;00m\u001b[39mv1\u001b[39;00m\u001b[39m.\u001b[39;00m\u001b[39mestimator\u001b[39;00m \u001b[39mimport\u001b[39;00m experimental\n\u001b[0;32m      9\u001b[0m \u001b[39mfrom\u001b[39;00m \u001b[39mtensorflow_estimator\u001b[39;00m\u001b[39m.\u001b[39;00m\u001b[39m_api\u001b[39;00m\u001b[39m.\u001b[39;00m\u001b[39mv1\u001b[39;00m\u001b[39m.\u001b[39;00m\u001b[39mestimator\u001b[39;00m \u001b[39mimport\u001b[39;00m export\n\u001b[0;32m     10\u001b[0m \u001b[39mfrom\u001b[39;00m \u001b[39mtensorflow_estimator\u001b[39;00m\u001b[39m.\u001b[39;00m\u001b[39m_api\u001b[39;00m\u001b[39m.\u001b[39;00m\u001b[39mv1\u001b[39;00m\u001b[39m.\u001b[39;00m\u001b[39mestimator\u001b[39;00m \u001b[39mimport\u001b[39;00m inputs\n",
      "File \u001b[1;32mc:\\Users\\lxqse\\Documents\\ATIAM ML\\creative_ml\\venv\\Lib\\site-packages\\tensorflow_estimator\\_api\\v1\\estimator\\experimental\\__init__.py:8\u001b[0m\n\u001b[0;32m      3\u001b[0m \u001b[39m\"\"\"Public API for tf.estimator.experimental namespace.\u001b[39;00m\n\u001b[0;32m      4\u001b[0m \u001b[39m\"\"\"\u001b[39;00m\n\u001b[0;32m      6\u001b[0m \u001b[39mimport\u001b[39;00m \u001b[39msys\u001b[39;00m \u001b[39mas\u001b[39;00m \u001b[39m_sys\u001b[39;00m\n\u001b[1;32m----> 8\u001b[0m \u001b[39mfrom\u001b[39;00m \u001b[39mtensorflow_estimator\u001b[39;00m\u001b[39m.\u001b[39;00m\u001b[39mpython\u001b[39;00m\u001b[39m.\u001b[39;00m\u001b[39mestimator\u001b[39;00m\u001b[39m.\u001b[39;00m\u001b[39mcanned\u001b[39;00m\u001b[39m.\u001b[39;00m\u001b[39mdnn\u001b[39;00m \u001b[39mimport\u001b[39;00m dnn_logit_fn_builder\n\u001b[0;32m      9\u001b[0m \u001b[39mfrom\u001b[39;00m \u001b[39mtensorflow_estimator\u001b[39;00m\u001b[39m.\u001b[39;00m\u001b[39mpython\u001b[39;00m\u001b[39m.\u001b[39;00m\u001b[39mestimator\u001b[39;00m\u001b[39m.\u001b[39;00m\u001b[39mcanned\u001b[39;00m\u001b[39m.\u001b[39;00m\u001b[39mkmeans\u001b[39;00m \u001b[39mimport\u001b[39;00m KMeansClustering \u001b[39mas\u001b[39;00m KMeans\n\u001b[0;32m     10\u001b[0m \u001b[39mfrom\u001b[39;00m \u001b[39mtensorflow_estimator\u001b[39;00m\u001b[39m.\u001b[39;00m\u001b[39mpython\u001b[39;00m\u001b[39m.\u001b[39;00m\u001b[39mestimator\u001b[39;00m\u001b[39m.\u001b[39;00m\u001b[39mcanned\u001b[39;00m\u001b[39m.\u001b[39;00m\u001b[39mlinear\u001b[39;00m \u001b[39mimport\u001b[39;00m LinearSDCA\n",
      "File \u001b[1;32mc:\\Users\\lxqse\\Documents\\ATIAM ML\\creative_ml\\venv\\Lib\\site-packages\\tensorflow_estimator\\python\\estimator\\canned\\dnn.py:22\u001b[0m\n\u001b[0;32m     19\u001b[0m \u001b[39mfrom\u001b[39;00m \u001b[39m__future__\u001b[39;00m \u001b[39mimport\u001b[39;00m print_function\n\u001b[0;32m     21\u001b[0m \u001b[39mimport\u001b[39;00m \u001b[39msix\u001b[39;00m\n\u001b[1;32m---> 22\u001b[0m \u001b[39mimport\u001b[39;00m \u001b[39mtensorflow\u001b[39;00m \u001b[39mas\u001b[39;00m \u001b[39mtf\u001b[39;00m\n\u001b[0;32m     23\u001b[0m \u001b[39mfrom\u001b[39;00m \u001b[39mtensorflow\u001b[39;00m\u001b[39m.\u001b[39;00m\u001b[39mpython\u001b[39;00m\u001b[39m.\u001b[39;00m\u001b[39mfeature_column\u001b[39;00m \u001b[39mimport\u001b[39;00m feature_column\n\u001b[0;32m     24\u001b[0m \u001b[39mfrom\u001b[39;00m \u001b[39mtensorflow\u001b[39;00m\u001b[39m.\u001b[39;00m\u001b[39mpython\u001b[39;00m\u001b[39m.\u001b[39;00m\u001b[39mfeature_column\u001b[39;00m \u001b[39mimport\u001b[39;00m feature_column_lib\n",
      "File \u001b[1;32mc:\\Users\\lxqse\\Documents\\ATIAM ML\\creative_ml\\venv\\Lib\\site-packages\\tensorflow\\__init__.py:38\u001b[0m\n\u001b[0;32m     35\u001b[0m \u001b[39mimport\u001b[39;00m \u001b[39msys\u001b[39;00m \u001b[39mas\u001b[39;00m \u001b[39m_sys\u001b[39;00m\n\u001b[0;32m     36\u001b[0m \u001b[39mimport\u001b[39;00m \u001b[39mtyping\u001b[39;00m \u001b[39mas\u001b[39;00m \u001b[39m_typing\u001b[39;00m\n\u001b[1;32m---> 38\u001b[0m \u001b[39mfrom\u001b[39;00m \u001b[39mtensorflow\u001b[39;00m\u001b[39m.\u001b[39;00m\u001b[39mpython\u001b[39;00m\u001b[39m.\u001b[39;00m\u001b[39mtools\u001b[39;00m \u001b[39mimport\u001b[39;00m module_util \u001b[39mas\u001b[39;00m _module_util\n\u001b[0;32m     39\u001b[0m \u001b[39mfrom\u001b[39;00m \u001b[39mtensorflow\u001b[39;00m\u001b[39m.\u001b[39;00m\u001b[39mpython\u001b[39;00m\u001b[39m.\u001b[39;00m\u001b[39mutil\u001b[39;00m\u001b[39m.\u001b[39;00m\u001b[39mlazy_loader\u001b[39;00m \u001b[39mimport\u001b[39;00m LazyLoader \u001b[39mas\u001b[39;00m _LazyLoader\n\u001b[0;32m     41\u001b[0m \u001b[39m# Make sure code inside the TensorFlow codebase can use tf2.enabled() at import.\u001b[39;00m\n",
      "File \u001b[1;32mc:\\Users\\lxqse\\Documents\\ATIAM ML\\creative_ml\\venv\\Lib\\site-packages\\tensorflow\\python\\__init__.py:42\u001b[0m\n\u001b[0;32m     36\u001b[0m \u001b[39mfrom\u001b[39;00m \u001b[39mtensorflow\u001b[39;00m\u001b[39m.\u001b[39;00m\u001b[39mpython\u001b[39;00m \u001b[39mimport\u001b[39;00m pywrap_tensorflow \u001b[39mas\u001b[39;00m _pywrap_tensorflow\n\u001b[0;32m     38\u001b[0m \u001b[39m# pylint: enable=wildcard-import\u001b[39;00m\n\u001b[0;32m     39\u001b[0m \n\u001b[0;32m     40\u001b[0m \u001b[39m# from tensorflow.python import keras\u001b[39;00m\n\u001b[0;32m     41\u001b[0m \u001b[39m# from tensorflow.python.layers import layers\u001b[39;00m\n\u001b[1;32m---> 42\u001b[0m \u001b[39mfrom\u001b[39;00m \u001b[39mtensorflow\u001b[39;00m\u001b[39m.\u001b[39;00m\u001b[39mpython\u001b[39;00m\u001b[39m.\u001b[39;00m\u001b[39msaved_model\u001b[39;00m \u001b[39mimport\u001b[39;00m saved_model\n\u001b[0;32m     43\u001b[0m \u001b[39mfrom\u001b[39;00m \u001b[39mtensorflow\u001b[39;00m\u001b[39m.\u001b[39;00m\u001b[39mpython\u001b[39;00m\u001b[39m.\u001b[39;00m\u001b[39mtpu\u001b[39;00m \u001b[39mimport\u001b[39;00m api\n\u001b[0;32m     45\u001b[0m \u001b[39m# Sub-package for performing i/o directly instead of via ops in a graph.\u001b[39;00m\n",
      "File \u001b[1;32mc:\\Users\\lxqse\\Documents\\ATIAM ML\\creative_ml\\venv\\Lib\\site-packages\\tensorflow\\python\\saved_model\\saved_model.py:20\u001b[0m\n\u001b[0;32m     15\u001b[0m \u001b[39m\"\"\"Convenience functions to save a model.\u001b[39;00m\n\u001b[0;32m     16\u001b[0m \u001b[39m\"\"\"\u001b[39;00m\n\u001b[0;32m     19\u001b[0m \u001b[39m# pylint: disable=unused-import\u001b[39;00m\n\u001b[1;32m---> 20\u001b[0m \u001b[39mfrom\u001b[39;00m \u001b[39mtensorflow\u001b[39;00m\u001b[39m.\u001b[39;00m\u001b[39mpython\u001b[39;00m\u001b[39m.\u001b[39;00m\u001b[39msaved_model\u001b[39;00m \u001b[39mimport\u001b[39;00m builder\n\u001b[0;32m     21\u001b[0m \u001b[39mfrom\u001b[39;00m \u001b[39mtensorflow\u001b[39;00m\u001b[39m.\u001b[39;00m\u001b[39mpython\u001b[39;00m\u001b[39m.\u001b[39;00m\u001b[39msaved_model\u001b[39;00m \u001b[39mimport\u001b[39;00m constants\n\u001b[0;32m     22\u001b[0m \u001b[39mfrom\u001b[39;00m \u001b[39mtensorflow\u001b[39;00m\u001b[39m.\u001b[39;00m\u001b[39mpython\u001b[39;00m\u001b[39m.\u001b[39;00m\u001b[39msaved_model\u001b[39;00m \u001b[39mimport\u001b[39;00m loader\n",
      "File \u001b[1;32mc:\\Users\\lxqse\\Documents\\ATIAM ML\\creative_ml\\venv\\Lib\\site-packages\\tensorflow\\python\\saved_model\\builder.py:23\u001b[0m\n\u001b[0;32m     15\u001b[0m \u001b[39m\"\"\"SavedModel builder.\u001b[39;00m\n\u001b[0;32m     16\u001b[0m \n\u001b[0;32m     17\u001b[0m \u001b[39mBuilds a SavedModel that can be saved to storage, is language neutral, and\u001b[39;00m\n\u001b[0;32m     18\u001b[0m \u001b[39menables systems to produce, consume, or transform TensorFlow Models.\u001b[39;00m\n\u001b[0;32m     19\u001b[0m \n\u001b[0;32m     20\u001b[0m \u001b[39m\"\"\"\u001b[39;00m\n\u001b[0;32m     22\u001b[0m \u001b[39m# pylint: disable=unused-import\u001b[39;00m\n\u001b[1;32m---> 23\u001b[0m \u001b[39mfrom\u001b[39;00m \u001b[39mtensorflow\u001b[39;00m\u001b[39m.\u001b[39;00m\u001b[39mpython\u001b[39;00m\u001b[39m.\u001b[39;00m\u001b[39msaved_model\u001b[39;00m\u001b[39m.\u001b[39;00m\u001b[39mbuilder_impl\u001b[39;00m \u001b[39mimport\u001b[39;00m _SavedModelBuilder\n\u001b[0;32m     24\u001b[0m \u001b[39mfrom\u001b[39;00m \u001b[39mtensorflow\u001b[39;00m\u001b[39m.\u001b[39;00m\u001b[39mpython\u001b[39;00m\u001b[39m.\u001b[39;00m\u001b[39msaved_model\u001b[39;00m\u001b[39m.\u001b[39;00m\u001b[39mbuilder_impl\u001b[39;00m \u001b[39mimport\u001b[39;00m SavedModelBuilder\n\u001b[0;32m     25\u001b[0m \u001b[39m# pylint: enable=unused-import\u001b[39;00m\n",
      "File \u001b[1;32mc:\\Users\\lxqse\\Documents\\ATIAM ML\\creative_ml\\venv\\Lib\\site-packages\\tensorflow\\python\\saved_model\\builder_impl.py:26\u001b[0m\n\u001b[0;32m     24\u001b[0m \u001b[39mfrom\u001b[39;00m \u001b[39mtensorflow\u001b[39;00m\u001b[39m.\u001b[39;00m\u001b[39mcore\u001b[39;00m\u001b[39m.\u001b[39;00m\u001b[39mprotobuf\u001b[39;00m \u001b[39mimport\u001b[39;00m saved_model_pb2\n\u001b[0;32m     25\u001b[0m \u001b[39mfrom\u001b[39;00m \u001b[39mtensorflow\u001b[39;00m\u001b[39m.\u001b[39;00m\u001b[39mcore\u001b[39;00m\u001b[39m.\u001b[39;00m\u001b[39mprotobuf\u001b[39;00m \u001b[39mimport\u001b[39;00m saver_pb2\n\u001b[1;32m---> 26\u001b[0m \u001b[39mfrom\u001b[39;00m \u001b[39mtensorflow\u001b[39;00m\u001b[39m.\u001b[39;00m\u001b[39mpython\u001b[39;00m\u001b[39m.\u001b[39;00m\u001b[39mframework\u001b[39;00m \u001b[39mimport\u001b[39;00m dtypes\n\u001b[0;32m     27\u001b[0m \u001b[39mfrom\u001b[39;00m \u001b[39mtensorflow\u001b[39;00m\u001b[39m.\u001b[39;00m\u001b[39mpython\u001b[39;00m\u001b[39m.\u001b[39;00m\u001b[39mframework\u001b[39;00m \u001b[39mimport\u001b[39;00m ops\n\u001b[0;32m     28\u001b[0m \u001b[39mfrom\u001b[39;00m \u001b[39mtensorflow\u001b[39;00m\u001b[39m.\u001b[39;00m\u001b[39mpython\u001b[39;00m\u001b[39m.\u001b[39;00m\u001b[39mframework\u001b[39;00m \u001b[39mimport\u001b[39;00m tensor\n",
      "File \u001b[1;32mc:\\Users\\lxqse\\Documents\\ATIAM ML\\creative_ml\\venv\\Lib\\site-packages\\tensorflow\\python\\framework\\dtypes.py:39\u001b[0m\n\u001b[0;32m     37\u001b[0m _np_bfloat16 \u001b[39m=\u001b[39m pywrap_ml_dtypes\u001b[39m.\u001b[39mbfloat16()\n\u001b[0;32m     38\u001b[0m _np_float8_e4m3fn \u001b[39m=\u001b[39m pywrap_ml_dtypes\u001b[39m.\u001b[39mfloat8_e4m3fn()\n\u001b[1;32m---> 39\u001b[0m _np_float8_e5m2 \u001b[39m=\u001b[39m pywrap_ml_dtypes\u001b[39m.\u001b[39;49mfloat8_e5m2()\n\u001b[0;32m     42\u001b[0m \u001b[39mclass\u001b[39;00m \u001b[39mDTypeMeta\u001b[39;00m(\u001b[39mtype\u001b[39m(_dtypes\u001b[39m.\u001b[39mDType), abc\u001b[39m.\u001b[39mABCMeta):\n\u001b[0;32m     43\u001b[0m   \u001b[39mpass\u001b[39;00m\n",
      "\u001b[1;31mTypeError\u001b[0m: Unable to convert function return value to a Python type! The signature was\n\t() -> handle"
     ]
    }
   ],
   "source": [
    "import tensorboard\n",
    "import tensorflow_estimator\n",
    "import tensorflow_probability"
   ]
  },
  {
   "cell_type": "markdown",
   "id": "e56a00d8-55a6-45aa-b96e-a6dc7fda0e08",
   "metadata": {},
   "source": [
    "### Audio-related\n",
    "\n",
    "Python offers several libraries for working with audio and music, enabling users to analyze, manipulate, and generate audio data.\n",
    "- [Librosa](https://librosa.org/) is a powerful library for music and audio analysis in Python. It provides feature extraction, audio segmentation, and various music information retrieval and audio processing tasks. The official Librosa website offers a comprehensive [user guide](https://librosa.org/doc/main/index.html) and [examples](https://librosa.org/doc/main/auto_examples/index.html).\n",
    "- [Pretty midi](https://github.com/craffel/pretty-midi) is a library for handling MIDI data in Python, allowing tasks such as transposing, tempo scaling, and extracting information from MIDI data. For a more detailed tutorial, users can refer to the [library documentation](https://craffel.github.io/pretty-midi/)."
   ]
  },
  {
   "cell_type": "code",
   "execution_count": 47,
   "id": "82de75bf-12b1-4bc8-9199-c1989fa876fb",
   "metadata": {},
   "outputs": [],
   "source": [
    "import audioread\n",
    "import librosa\n",
    "import pretty_midi\n",
    "import pyrubberband\n",
    "import resampy"
   ]
  },
  {
   "cell_type": "markdown",
   "id": "712ceaf4-dc14-42fd-ab82-69296b21ff7d",
   "metadata": {
    "tags": []
   },
   "source": [
    "### Interactive course aspects\n",
    "\n",
    "For creating dynamic and engaging presentations, visualizations, and animations, we rely on Manim, Panel, and RISE.\n",
    "- [Manim](https://www.manim.community/) is a powerful library for creating mathematical animations using Python, developed by Grant Sanderson of [3Blue1Brown](https://www.youtube.com/c/3blue1brown). The official Manim website offers comprehensive [documentation](https://docs.manim.community/en/stable/) and a series of [tutorials](https://manim.community/en/stable/tutorials.html).\n",
    "- [Panel](https://panel.holoviz.org/) is a high-level library for creating web-based interactive applications and dashboards in Python.. The official Panel website provides a [user guide](https://panel.holoviz.org/user_guide/index.html) and a collection of [examples](https://panel.holoviz.org/gallery/index.html).\n",
    "- [RISE](https://rise.readthedocs.io/) is an extension for Jupyter Notebook that allows users to create interactive, live-coding presentations directly within their notebooks. The official [RISE](https://rise.readthedocs.io/en/stable/) offers a detailed guide on installation, usage, and customization."
   ]
  },
  {
   "cell_type": "code",
   "execution_count": 39,
   "id": "7db513a6-ad14-4ae2-9a5e-83252386dbdf",
   "metadata": {},
   "outputs": [],
   "source": [
    "import holoviews\n",
    "#import manim\n",
    "import panel\n",
    "import rise"
   ]
  },
  {
   "cell_type": "markdown",
   "id": "b6db4d24-8460-4526-8a02-dfa0180f4d24",
   "metadata": {},
   "source": [
    "## Library\n",
    "\n",
    "This course has been designed and ships with a specific homemade library (called *CML*) that allows to provide interactive exercises and all the baseline code to solve machine learning tasks across the proposed courses. Here, we just check if we can import this library and test some of the interactive exercises and animations."
   ]
  },
  {
   "cell_type": "code",
   "execution_count": 49,
   "id": "2d406685-c614-4ce8-a4a6-c737684a8e95",
   "metadata": {},
   "outputs": [
    {
     "ename": "TypeError",
     "evalue": "Unable to convert function return value to a Python type! The signature was\n\t() -> handle",
     "output_type": "error",
     "traceback": [
      "\u001b[1;31m---------------------------------------------------------------------------\u001b[0m",
      "\u001b[1;31mTypeError\u001b[0m                                 Traceback (most recent call last)",
      "\u001b[1;32mc:\\Users\\lxqse\\Documents\\ATIAM ML\\creative_ml\\00_setup.ipynb Cell 21\u001b[0m line \u001b[0;36m1\n\u001b[1;32m----> <a href='vscode-notebook-cell:/c%3A/Users/lxqse/Documents/ATIAM%20ML/creative_ml/00_setup.ipynb#X26sZmlsZQ%3D%3D?line=0'>1</a>\u001b[0m \u001b[39mimport\u001b[39;00m \u001b[39mcml\u001b[39;00m\n",
      "File \u001b[1;32mc:\\Users\\lxqse\\Documents\\ATIAM ML\\creative_ml\\cml\\__init__.py:16\u001b[0m\n\u001b[0;32m     13\u001b[0m _PROJECT_ROOT \u001b[39m=\u001b[39m os\u001b[39m.\u001b[39mpath\u001b[39m.\u001b[39mdirname(_PACKAGE_ROOT)\n\u001b[0;32m     15\u001b[0m \u001b[39m# Data generation\u001b[39;00m\n\u001b[1;32m---> 16\u001b[0m \u001b[39mfrom\u001b[39;00m \u001b[39mcml\u001b[39;00m\u001b[39m.\u001b[39;00m\u001b[39mdata\u001b[39;00m \u001b[39mimport\u001b[39;00m (\n\u001b[0;32m     17\u001b[0m     polynomial,\n\u001b[0;32m     18\u001b[0m     swiss_roll\n\u001b[0;32m     19\u001b[0m )\n\u001b[0;32m     20\u001b[0m \u001b[39m# Randomness generator\u001b[39;00m\n\u001b[0;32m     21\u001b[0m \u001b[39mfrom\u001b[39;00m \u001b[39mcml\u001b[39;00m\u001b[39m.\u001b[39;00m\u001b[39mrandomness\u001b[39;00m \u001b[39mimport\u001b[39;00m (\n\u001b[0;32m     22\u001b[0m     Random\n\u001b[0;32m     23\u001b[0m )\n",
      "File \u001b[1;32mc:\\Users\\lxqse\\Documents\\ATIAM ML\\creative_ml\\cml\\data\\__init__.py:13\u001b[0m\n\u001b[0;32m      1\u001b[0m \u001b[39m\"\"\"\u001b[39;00m\n\u001b[0;32m      2\u001b[0m \u001b[39m ~ CML // Creative Machine Learning ~\u001b[39;00m\n\u001b[0;32m      3\u001b[0m \u001b[39m data/__init__.py : Initializing data generating functions\u001b[39;00m\n\u001b[1;32m   (...)\u001b[0m\n\u001b[0;32m     10\u001b[0m \u001b[39m                        <esling@ircam.fr>\u001b[39;00m\n\u001b[0;32m     11\u001b[0m \u001b[39m\"\"\"\u001b[39;00m\n\u001b[1;32m---> 13\u001b[0m \u001b[39mfrom\u001b[39;00m \u001b[39mcml\u001b[39;00m\u001b[39m.\u001b[39;00m\u001b[39mdata\u001b[39;00m\u001b[39m.\u001b[39;00m\u001b[39maudio\u001b[39;00m \u001b[39mimport\u001b[39;00m (\n\u001b[0;32m     14\u001b[0m     AudioSupervisedDataset,\n\u001b[0;32m     15\u001b[0m     import_dataset,\n\u001b[0;32m     16\u001b[0m )\n\u001b[0;32m     17\u001b[0m \u001b[39mfrom\u001b[39;00m \u001b[39mcml\u001b[39;00m\u001b[39m.\u001b[39;00m\u001b[39mdata\u001b[39;00m\u001b[39m.\u001b[39;00m\u001b[39mregression\u001b[39;00m \u001b[39mimport\u001b[39;00m (\n\u001b[0;32m     18\u001b[0m     polynomial,\n\u001b[0;32m     19\u001b[0m     linear,\n\u001b[0;32m     20\u001b[0m     swiss_roll\n\u001b[0;32m     21\u001b[0m )\n\u001b[0;32m     22\u001b[0m \u001b[39mfrom\u001b[39;00m \u001b[39mcml\u001b[39;00m\u001b[39m.\u001b[39;00m\u001b[39mdata\u001b[39;00m\u001b[39m.\u001b[39;00m\u001b[39mclassification\u001b[39;00m \u001b[39mimport\u001b[39;00m (\n\u001b[0;32m     23\u001b[0m     linear_separation,\n\u001b[0;32m     24\u001b[0m     xor_separation,\n\u001b[1;32m   (...)\u001b[0m\n\u001b[0;32m     27\u001b[0m     make_blobs\n\u001b[0;32m     28\u001b[0m )\n",
      "File \u001b[1;32mc:\\Users\\lxqse\\Documents\\ATIAM ML\\creative_ml\\cml\\data\\audio.py:12\u001b[0m\n\u001b[0;32m     10\u001b[0m \u001b[39mfrom\u001b[39;00m \u001b[39mtqdm\u001b[39;00m \u001b[39mimport\u001b[39;00m tqdm\n\u001b[0;32m     11\u001b[0m \u001b[39mfrom\u001b[39;00m \u001b[39mtorch\u001b[39;00m\u001b[39m.\u001b[39;00m\u001b[39mutils\u001b[39;00m\u001b[39m.\u001b[39;00m\u001b[39mdata\u001b[39;00m \u001b[39mimport\u001b[39;00m Dataset\n\u001b[1;32m---> 12\u001b[0m \u001b[39mimport\u001b[39;00m \u001b[39mtensorflow\u001b[39;00m \u001b[39mas\u001b[39;00m \u001b[39mtf\u001b[39;00m\n\u001b[0;32m     13\u001b[0m \u001b[39mimport\u001b[39;00m \u001b[39mtensorflow_datasets\u001b[39;00m \u001b[39mas\u001b[39;00m \u001b[39mtfds\u001b[39;00m\n\u001b[0;32m     14\u001b[0m \u001b[39mfrom\u001b[39;00m \u001b[39mtyping\u001b[39;00m \u001b[39mimport\u001b[39;00m Callable, List\n",
      "File \u001b[1;32mc:\\Users\\lxqse\\Documents\\ATIAM ML\\creative_ml\\venv\\Lib\\site-packages\\tensorflow\\__init__.py:38\u001b[0m\n\u001b[0;32m     35\u001b[0m \u001b[39mimport\u001b[39;00m \u001b[39msys\u001b[39;00m \u001b[39mas\u001b[39;00m \u001b[39m_sys\u001b[39;00m\n\u001b[0;32m     36\u001b[0m \u001b[39mimport\u001b[39;00m \u001b[39mtyping\u001b[39;00m \u001b[39mas\u001b[39;00m \u001b[39m_typing\u001b[39;00m\n\u001b[1;32m---> 38\u001b[0m \u001b[39mfrom\u001b[39;00m \u001b[39mtensorflow\u001b[39;00m\u001b[39m.\u001b[39;00m\u001b[39mpython\u001b[39;00m\u001b[39m.\u001b[39;00m\u001b[39mtools\u001b[39;00m \u001b[39mimport\u001b[39;00m module_util \u001b[39mas\u001b[39;00m _module_util\n\u001b[0;32m     39\u001b[0m \u001b[39mfrom\u001b[39;00m \u001b[39mtensorflow\u001b[39;00m\u001b[39m.\u001b[39;00m\u001b[39mpython\u001b[39;00m\u001b[39m.\u001b[39;00m\u001b[39mutil\u001b[39;00m\u001b[39m.\u001b[39;00m\u001b[39mlazy_loader\u001b[39;00m \u001b[39mimport\u001b[39;00m LazyLoader \u001b[39mas\u001b[39;00m _LazyLoader\n\u001b[0;32m     41\u001b[0m \u001b[39m# Make sure code inside the TensorFlow codebase can use tf2.enabled() at import.\u001b[39;00m\n",
      "File \u001b[1;32mc:\\Users\\lxqse\\Documents\\ATIAM ML\\creative_ml\\venv\\Lib\\site-packages\\tensorflow\\python\\__init__.py:42\u001b[0m\n\u001b[0;32m     36\u001b[0m \u001b[39mfrom\u001b[39;00m \u001b[39mtensorflow\u001b[39;00m\u001b[39m.\u001b[39;00m\u001b[39mpython\u001b[39;00m \u001b[39mimport\u001b[39;00m pywrap_tensorflow \u001b[39mas\u001b[39;00m _pywrap_tensorflow\n\u001b[0;32m     38\u001b[0m \u001b[39m# pylint: enable=wildcard-import\u001b[39;00m\n\u001b[0;32m     39\u001b[0m \n\u001b[0;32m     40\u001b[0m \u001b[39m# from tensorflow.python import keras\u001b[39;00m\n\u001b[0;32m     41\u001b[0m \u001b[39m# from tensorflow.python.layers import layers\u001b[39;00m\n\u001b[1;32m---> 42\u001b[0m \u001b[39mfrom\u001b[39;00m \u001b[39mtensorflow\u001b[39;00m\u001b[39m.\u001b[39;00m\u001b[39mpython\u001b[39;00m\u001b[39m.\u001b[39;00m\u001b[39msaved_model\u001b[39;00m \u001b[39mimport\u001b[39;00m saved_model\n\u001b[0;32m     43\u001b[0m \u001b[39mfrom\u001b[39;00m \u001b[39mtensorflow\u001b[39;00m\u001b[39m.\u001b[39;00m\u001b[39mpython\u001b[39;00m\u001b[39m.\u001b[39;00m\u001b[39mtpu\u001b[39;00m \u001b[39mimport\u001b[39;00m api\n\u001b[0;32m     45\u001b[0m \u001b[39m# Sub-package for performing i/o directly instead of via ops in a graph.\u001b[39;00m\n",
      "File \u001b[1;32mc:\\Users\\lxqse\\Documents\\ATIAM ML\\creative_ml\\venv\\Lib\\site-packages\\tensorflow\\python\\saved_model\\saved_model.py:20\u001b[0m\n\u001b[0;32m     15\u001b[0m \u001b[39m\"\"\"Convenience functions to save a model.\u001b[39;00m\n\u001b[0;32m     16\u001b[0m \u001b[39m\"\"\"\u001b[39;00m\n\u001b[0;32m     19\u001b[0m \u001b[39m# pylint: disable=unused-import\u001b[39;00m\n\u001b[1;32m---> 20\u001b[0m \u001b[39mfrom\u001b[39;00m \u001b[39mtensorflow\u001b[39;00m\u001b[39m.\u001b[39;00m\u001b[39mpython\u001b[39;00m\u001b[39m.\u001b[39;00m\u001b[39msaved_model\u001b[39;00m \u001b[39mimport\u001b[39;00m builder\n\u001b[0;32m     21\u001b[0m \u001b[39mfrom\u001b[39;00m \u001b[39mtensorflow\u001b[39;00m\u001b[39m.\u001b[39;00m\u001b[39mpython\u001b[39;00m\u001b[39m.\u001b[39;00m\u001b[39msaved_model\u001b[39;00m \u001b[39mimport\u001b[39;00m constants\n\u001b[0;32m     22\u001b[0m \u001b[39mfrom\u001b[39;00m \u001b[39mtensorflow\u001b[39;00m\u001b[39m.\u001b[39;00m\u001b[39mpython\u001b[39;00m\u001b[39m.\u001b[39;00m\u001b[39msaved_model\u001b[39;00m \u001b[39mimport\u001b[39;00m loader\n",
      "File \u001b[1;32mc:\\Users\\lxqse\\Documents\\ATIAM ML\\creative_ml\\venv\\Lib\\site-packages\\tensorflow\\python\\saved_model\\builder.py:23\u001b[0m\n\u001b[0;32m     15\u001b[0m \u001b[39m\"\"\"SavedModel builder.\u001b[39;00m\n\u001b[0;32m     16\u001b[0m \n\u001b[0;32m     17\u001b[0m \u001b[39mBuilds a SavedModel that can be saved to storage, is language neutral, and\u001b[39;00m\n\u001b[0;32m     18\u001b[0m \u001b[39menables systems to produce, consume, or transform TensorFlow Models.\u001b[39;00m\n\u001b[0;32m     19\u001b[0m \n\u001b[0;32m     20\u001b[0m \u001b[39m\"\"\"\u001b[39;00m\n\u001b[0;32m     22\u001b[0m \u001b[39m# pylint: disable=unused-import\u001b[39;00m\n\u001b[1;32m---> 23\u001b[0m \u001b[39mfrom\u001b[39;00m \u001b[39mtensorflow\u001b[39;00m\u001b[39m.\u001b[39;00m\u001b[39mpython\u001b[39;00m\u001b[39m.\u001b[39;00m\u001b[39msaved_model\u001b[39;00m\u001b[39m.\u001b[39;00m\u001b[39mbuilder_impl\u001b[39;00m \u001b[39mimport\u001b[39;00m _SavedModelBuilder\n\u001b[0;32m     24\u001b[0m \u001b[39mfrom\u001b[39;00m \u001b[39mtensorflow\u001b[39;00m\u001b[39m.\u001b[39;00m\u001b[39mpython\u001b[39;00m\u001b[39m.\u001b[39;00m\u001b[39msaved_model\u001b[39;00m\u001b[39m.\u001b[39;00m\u001b[39mbuilder_impl\u001b[39;00m \u001b[39mimport\u001b[39;00m SavedModelBuilder\n\u001b[0;32m     25\u001b[0m \u001b[39m# pylint: enable=unused-import\u001b[39;00m\n",
      "File \u001b[1;32mc:\\Users\\lxqse\\Documents\\ATIAM ML\\creative_ml\\venv\\Lib\\site-packages\\tensorflow\\python\\saved_model\\builder_impl.py:26\u001b[0m\n\u001b[0;32m     24\u001b[0m \u001b[39mfrom\u001b[39;00m \u001b[39mtensorflow\u001b[39;00m\u001b[39m.\u001b[39;00m\u001b[39mcore\u001b[39;00m\u001b[39m.\u001b[39;00m\u001b[39mprotobuf\u001b[39;00m \u001b[39mimport\u001b[39;00m saved_model_pb2\n\u001b[0;32m     25\u001b[0m \u001b[39mfrom\u001b[39;00m \u001b[39mtensorflow\u001b[39;00m\u001b[39m.\u001b[39;00m\u001b[39mcore\u001b[39;00m\u001b[39m.\u001b[39;00m\u001b[39mprotobuf\u001b[39;00m \u001b[39mimport\u001b[39;00m saver_pb2\n\u001b[1;32m---> 26\u001b[0m \u001b[39mfrom\u001b[39;00m \u001b[39mtensorflow\u001b[39;00m\u001b[39m.\u001b[39;00m\u001b[39mpython\u001b[39;00m\u001b[39m.\u001b[39;00m\u001b[39mframework\u001b[39;00m \u001b[39mimport\u001b[39;00m dtypes\n\u001b[0;32m     27\u001b[0m \u001b[39mfrom\u001b[39;00m \u001b[39mtensorflow\u001b[39;00m\u001b[39m.\u001b[39;00m\u001b[39mpython\u001b[39;00m\u001b[39m.\u001b[39;00m\u001b[39mframework\u001b[39;00m \u001b[39mimport\u001b[39;00m ops\n\u001b[0;32m     28\u001b[0m \u001b[39mfrom\u001b[39;00m \u001b[39mtensorflow\u001b[39;00m\u001b[39m.\u001b[39;00m\u001b[39mpython\u001b[39;00m\u001b[39m.\u001b[39;00m\u001b[39mframework\u001b[39;00m \u001b[39mimport\u001b[39;00m tensor\n",
      "File \u001b[1;32mc:\\Users\\lxqse\\Documents\\ATIAM ML\\creative_ml\\venv\\Lib\\site-packages\\tensorflow\\python\\framework\\dtypes.py:39\u001b[0m\n\u001b[0;32m     37\u001b[0m _np_bfloat16 \u001b[39m=\u001b[39m pywrap_ml_dtypes\u001b[39m.\u001b[39mbfloat16()\n\u001b[0;32m     38\u001b[0m _np_float8_e4m3fn \u001b[39m=\u001b[39m pywrap_ml_dtypes\u001b[39m.\u001b[39mfloat8_e4m3fn()\n\u001b[1;32m---> 39\u001b[0m _np_float8_e5m2 \u001b[39m=\u001b[39m pywrap_ml_dtypes\u001b[39m.\u001b[39;49mfloat8_e5m2()\n\u001b[0;32m     42\u001b[0m \u001b[39mclass\u001b[39;00m \u001b[39mDTypeMeta\u001b[39;00m(\u001b[39mtype\u001b[39m(_dtypes\u001b[39m.\u001b[39mDType), abc\u001b[39m.\u001b[39mABCMeta):\n\u001b[0;32m     43\u001b[0m   \u001b[39mpass\u001b[39;00m\n",
      "\u001b[1;31mTypeError\u001b[0m: Unable to convert function return value to a Python type! The signature was\n\t() -> handle"
     ]
    }
   ],
   "source": [
    "import cml"
   ]
  },
  {
   "cell_type": "markdown",
   "id": "4ae1f397-18a8-4d7d-94f6-de01d1fbe7c9",
   "metadata": {},
   "source": [
    "### Exercises"
   ]
  },
  {
   "cell_type": "code",
   "execution_count": 41,
   "id": "472efbdf-d8e8-45ab-aa6f-4af81ac97f23",
   "metadata": {},
   "outputs": [
    {
     "ename": "AttributeError",
     "evalue": "module 'numpy' has no attribute 'complex'.\n`np.complex` was a deprecated alias for the builtin `complex`. To avoid this error in existing code, use `complex` by itself. Doing this will not modify any behavior and is safe. If you specifically wanted the numpy scalar type, use `np.complex128` here.\nThe aliases was originally deprecated in NumPy 1.20; for more details and guidance see the original release note at:\n    https://numpy.org/devdocs/release/1.20.0-notes.html#deprecations",
     "output_type": "error",
     "traceback": [
      "\u001b[1;31m---------------------------------------------------------------------------\u001b[0m",
      "\u001b[1;31mAttributeError\u001b[0m                            Traceback (most recent call last)",
      "\u001b[1;32mc:\\Users\\lxqse\\Documents\\ATIAM ML\\creative_ml\\00_setup.ipynb Cell 23\u001b[0m line \u001b[0;36m1\n\u001b[1;32m----> <a href='vscode-notebook-cell:/c%3A/Users/lxqse/Documents/ATIAM%20ML/creative_ml/00_setup.ipynb#X31sZmlsZQ%3D%3D?line=0'>1</a>\u001b[0m \u001b[39mfrom\u001b[39;00m \u001b[39mcml\u001b[39;00m\u001b[39m.\u001b[39;00m\u001b[39mplot\u001b[39;00m \u001b[39mimport\u001b[39;00m initialize_bokeh\n\u001b[0;32m      <a href='vscode-notebook-cell:/c%3A/Users/lxqse/Documents/ATIAM%20ML/creative_ml/00_setup.ipynb#X31sZmlsZQ%3D%3D?line=1'>2</a>\u001b[0m \u001b[39mfrom\u001b[39;00m \u001b[39mcml\u001b[39;00m\u001b[39m.\u001b[39;00m\u001b[39mpanel\u001b[39;00m \u001b[39mimport\u001b[39;00m initialize_panel\n\u001b[0;32m      <a href='vscode-notebook-cell:/c%3A/Users/lxqse/Documents/ATIAM%20ML/creative_ml/00_setup.ipynb#X31sZmlsZQ%3D%3D?line=2'>3</a>\u001b[0m \u001b[39mfrom\u001b[39;00m \u001b[39mjupyterthemes\u001b[39;00m\u001b[39m.\u001b[39;00m\u001b[39mstylefx\u001b[39;00m \u001b[39mimport\u001b[39;00m set_nb_theme\n",
      "File \u001b[1;32mc:\\Users\\lxqse\\Documents\\ATIAM ML\\creative_ml\\cml\\__init__.py:16\u001b[0m\n\u001b[0;32m     13\u001b[0m _PROJECT_ROOT \u001b[39m=\u001b[39m os\u001b[39m.\u001b[39mpath\u001b[39m.\u001b[39mdirname(_PACKAGE_ROOT)\n\u001b[0;32m     15\u001b[0m \u001b[39m# Data generation\u001b[39;00m\n\u001b[1;32m---> 16\u001b[0m \u001b[39mfrom\u001b[39;00m \u001b[39mcml\u001b[39;00m\u001b[39m.\u001b[39;00m\u001b[39mdata\u001b[39;00m \u001b[39mimport\u001b[39;00m (\n\u001b[0;32m     17\u001b[0m     polynomial,\n\u001b[0;32m     18\u001b[0m     swiss_roll\n\u001b[0;32m     19\u001b[0m )\n\u001b[0;32m     20\u001b[0m \u001b[39m# Randomness generator\u001b[39;00m\n\u001b[0;32m     21\u001b[0m \u001b[39mfrom\u001b[39;00m \u001b[39mcml\u001b[39;00m\u001b[39m.\u001b[39;00m\u001b[39mrandomness\u001b[39;00m \u001b[39mimport\u001b[39;00m (\n\u001b[0;32m     22\u001b[0m     Random\n\u001b[0;32m     23\u001b[0m )\n",
      "File \u001b[1;32mc:\\Users\\lxqse\\Documents\\ATIAM ML\\creative_ml\\cml\\data\\__init__.py:13\u001b[0m\n\u001b[0;32m      1\u001b[0m \u001b[39m\"\"\"\u001b[39;00m\n\u001b[0;32m      2\u001b[0m \u001b[39m ~ CML // Creative Machine Learning ~\u001b[39;00m\n\u001b[0;32m      3\u001b[0m \u001b[39m data/__init__.py : Initializing data generating functions\u001b[39;00m\n\u001b[1;32m   (...)\u001b[0m\n\u001b[0;32m     10\u001b[0m \u001b[39m                        <esling@ircam.fr>\u001b[39;00m\n\u001b[0;32m     11\u001b[0m \u001b[39m\"\"\"\u001b[39;00m\n\u001b[1;32m---> 13\u001b[0m \u001b[39mfrom\u001b[39;00m \u001b[39mcml\u001b[39;00m\u001b[39m.\u001b[39;00m\u001b[39mdata\u001b[39;00m\u001b[39m.\u001b[39;00m\u001b[39maudio\u001b[39;00m \u001b[39mimport\u001b[39;00m (\n\u001b[0;32m     14\u001b[0m     AudioSupervisedDataset,\n\u001b[0;32m     15\u001b[0m     import_dataset,\n\u001b[0;32m     16\u001b[0m )\n\u001b[0;32m     17\u001b[0m \u001b[39mfrom\u001b[39;00m \u001b[39mcml\u001b[39;00m\u001b[39m.\u001b[39;00m\u001b[39mdata\u001b[39;00m\u001b[39m.\u001b[39;00m\u001b[39mregression\u001b[39;00m \u001b[39mimport\u001b[39;00m (\n\u001b[0;32m     18\u001b[0m     polynomial,\n\u001b[0;32m     19\u001b[0m     linear,\n\u001b[0;32m     20\u001b[0m     swiss_roll\n\u001b[0;32m     21\u001b[0m )\n\u001b[0;32m     22\u001b[0m \u001b[39mfrom\u001b[39;00m \u001b[39mcml\u001b[39;00m\u001b[39m.\u001b[39;00m\u001b[39mdata\u001b[39;00m\u001b[39m.\u001b[39;00m\u001b[39mclassification\u001b[39;00m \u001b[39mimport\u001b[39;00m (\n\u001b[0;32m     23\u001b[0m     linear_separation,\n\u001b[0;32m     24\u001b[0m     xor_separation,\n\u001b[1;32m   (...)\u001b[0m\n\u001b[0;32m     27\u001b[0m     make_blobs\n\u001b[0;32m     28\u001b[0m )\n",
      "File \u001b[1;32mc:\\Users\\lxqse\\Documents\\ATIAM ML\\creative_ml\\cml\\data\\audio.py:4\u001b[0m\n\u001b[0;32m      1\u001b[0m \u001b[39m# -*- coding: utf-8 -*-\u001b[39;00m\n\u001b[0;32m      2\u001b[0m \n\u001b[0;32m      3\u001b[0m \u001b[39m#import pyo\u001b[39;00m\n\u001b[1;32m----> 4\u001b[0m \u001b[39mimport\u001b[39;00m \u001b[39mlibrosa\u001b[39;00m\n\u001b[0;32m      5\u001b[0m \u001b[39mimport\u001b[39;00m \u001b[39mnumpy\u001b[39;00m \u001b[39mas\u001b[39;00m \u001b[39mnp\u001b[39;00m\n\u001b[0;32m      6\u001b[0m \u001b[39mimport\u001b[39;00m \u001b[39mos\u001b[39;00m \u001b[39mas\u001b[39;00m \u001b[39mos\u001b[39;00m\n",
      "File \u001b[1;32mc:\\Users\\lxqse\\Documents\\ATIAM ML\\creative_ml\\venv\\Lib\\site-packages\\librosa\\__init__.py:211\u001b[0m\n\u001b[0;32m    209\u001b[0m \u001b[39m# And all the librosa sub-modules\u001b[39;00m\n\u001b[0;32m    210\u001b[0m \u001b[39mfrom\u001b[39;00m \u001b[39m.\u001b[39;00m\u001b[39m_cache\u001b[39;00m \u001b[39mimport\u001b[39;00m cache\n\u001b[1;32m--> 211\u001b[0m \u001b[39mfrom\u001b[39;00m \u001b[39m.\u001b[39;00m \u001b[39mimport\u001b[39;00m core\n\u001b[0;32m    212\u001b[0m \u001b[39mfrom\u001b[39;00m \u001b[39m.\u001b[39;00m \u001b[39mimport\u001b[39;00m beat\n\u001b[0;32m    213\u001b[0m \u001b[39mfrom\u001b[39;00m \u001b[39m.\u001b[39;00m \u001b[39mimport\u001b[39;00m decompose\n",
      "File \u001b[1;32mc:\\Users\\lxqse\\Documents\\ATIAM ML\\creative_ml\\venv\\Lib\\site-packages\\librosa\\core\\__init__.py:9\u001b[0m\n\u001b[0;32m      7\u001b[0m \u001b[39mfrom\u001b[39;00m \u001b[39m.\u001b[39;00m\u001b[39mspectrum\u001b[39;00m \u001b[39mimport\u001b[39;00m \u001b[39m*\u001b[39m  \u001b[39m# pylint: disable=wildcard-import\u001b[39;00m\n\u001b[0;32m      8\u001b[0m \u001b[39mfrom\u001b[39;00m \u001b[39m.\u001b[39;00m\u001b[39mpitch\u001b[39;00m \u001b[39mimport\u001b[39;00m \u001b[39m*\u001b[39m  \u001b[39m# pylint: disable=wildcard-import\u001b[39;00m\n\u001b[1;32m----> 9\u001b[0m \u001b[39mfrom\u001b[39;00m \u001b[39m.\u001b[39;00m\u001b[39mconstantq\u001b[39;00m \u001b[39mimport\u001b[39;00m \u001b[39m*\u001b[39m  \u001b[39m# pylint: disable=wildcard-import\u001b[39;00m\n\u001b[0;32m     10\u001b[0m \u001b[39mfrom\u001b[39;00m \u001b[39m.\u001b[39;00m\u001b[39mharmonic\u001b[39;00m \u001b[39mimport\u001b[39;00m \u001b[39m*\u001b[39m  \u001b[39m# pylint: disable=wildcard-import\u001b[39;00m\n\u001b[0;32m     11\u001b[0m \u001b[39mfrom\u001b[39;00m \u001b[39m.\u001b[39;00m\u001b[39mfft\u001b[39;00m \u001b[39mimport\u001b[39;00m \u001b[39m*\u001b[39m  \u001b[39m# pylint: disable=wildcard-import\u001b[39;00m\n",
      "File \u001b[1;32mc:\\Users\\lxqse\\Documents\\ATIAM ML\\creative_ml\\venv\\Lib\\site-packages\\librosa\\core\\constantq.py:1059\u001b[0m\n\u001b[0;32m   1042\u001b[0m         V \u001b[39m/\u001b[39m\u001b[39m=\u001b[39m np\u001b[39m.\u001b[39msqrt(lengths[:, np\u001b[39m.\u001b[39mnewaxis])\n\u001b[0;32m   1044\u001b[0m     \u001b[39mreturn\u001b[39;00m V\n\u001b[0;32m   1047\u001b[0m \u001b[39m@cache\u001b[39m(level\u001b[39m=\u001b[39m\u001b[39m10\u001b[39m)\n\u001b[0;32m   1048\u001b[0m \u001b[39mdef\u001b[39;00m \u001b[39m__cqt_filter_fft\u001b[39m(\n\u001b[0;32m   1049\u001b[0m     sr,\n\u001b[0;32m   1050\u001b[0m     fmin,\n\u001b[0;32m   1051\u001b[0m     n_bins,\n\u001b[0;32m   1052\u001b[0m     bins_per_octave,\n\u001b[0;32m   1053\u001b[0m     filter_scale,\n\u001b[0;32m   1054\u001b[0m     norm,\n\u001b[0;32m   1055\u001b[0m     sparsity,\n\u001b[0;32m   1056\u001b[0m     hop_length\u001b[39m=\u001b[39m\u001b[39mNone\u001b[39;00m,\n\u001b[0;32m   1057\u001b[0m     window\u001b[39m=\u001b[39m\u001b[39m\"\u001b[39m\u001b[39mhann\u001b[39m\u001b[39m\"\u001b[39m,\n\u001b[0;32m   1058\u001b[0m     gamma\u001b[39m=\u001b[39m\u001b[39m0.0\u001b[39m,\n\u001b[1;32m-> 1059\u001b[0m     dtype\u001b[39m=\u001b[39mnp\u001b[39m.\u001b[39;49mcomplex,\n\u001b[0;32m   1060\u001b[0m ):\n\u001b[0;32m   1061\u001b[0m \u001b[39m    \u001b[39m\u001b[39m\"\"\"Generate the frequency domain constant-Q filter basis.\"\"\"\u001b[39;00m\n\u001b[0;32m   1063\u001b[0m     basis, lengths \u001b[39m=\u001b[39m filters\u001b[39m.\u001b[39mconstant_q(\n\u001b[0;32m   1064\u001b[0m         sr,\n\u001b[0;32m   1065\u001b[0m         fmin\u001b[39m=\u001b[39mfmin,\n\u001b[1;32m   (...)\u001b[0m\n\u001b[0;32m   1072\u001b[0m         gamma\u001b[39m=\u001b[39mgamma,\n\u001b[0;32m   1073\u001b[0m     )\n",
      "File \u001b[1;32mc:\\Users\\lxqse\\Documents\\ATIAM ML\\creative_ml\\venv\\Lib\\site-packages\\numpy\\__init__.py:338\u001b[0m, in \u001b[0;36m__getattr__\u001b[1;34m(attr)\u001b[0m\n\u001b[0;32m    333\u001b[0m     warnings\u001b[39m.\u001b[39mwarn(\n\u001b[0;32m    334\u001b[0m         \u001b[39mf\u001b[39m\u001b[39m\"\u001b[39m\u001b[39mIn the future `np.\u001b[39m\u001b[39m{\u001b[39;00mattr\u001b[39m}\u001b[39;00m\u001b[39m` will be defined as the \u001b[39m\u001b[39m\"\u001b[39m\n\u001b[0;32m    335\u001b[0m         \u001b[39m\"\u001b[39m\u001b[39mcorresponding NumPy scalar.\u001b[39m\u001b[39m\"\u001b[39m, \u001b[39mFutureWarning\u001b[39;00m, stacklevel\u001b[39m=\u001b[39m\u001b[39m2\u001b[39m)\n\u001b[0;32m    337\u001b[0m \u001b[39mif\u001b[39;00m attr \u001b[39min\u001b[39;00m __former_attrs__:\n\u001b[1;32m--> 338\u001b[0m     \u001b[39mraise\u001b[39;00m \u001b[39mAttributeError\u001b[39;00m(__former_attrs__[attr])\n\u001b[0;32m    340\u001b[0m \u001b[39mif\u001b[39;00m attr \u001b[39m==\u001b[39m \u001b[39m'\u001b[39m\u001b[39mtesting\u001b[39m\u001b[39m'\u001b[39m:\n\u001b[0;32m    341\u001b[0m     \u001b[39mimport\u001b[39;00m \u001b[39mnumpy\u001b[39;00m\u001b[39m.\u001b[39;00m\u001b[39mtesting\u001b[39;00m \u001b[39mas\u001b[39;00m \u001b[39mtesting\u001b[39;00m\n",
      "\u001b[1;31mAttributeError\u001b[0m: module 'numpy' has no attribute 'complex'.\n`np.complex` was a deprecated alias for the builtin `complex`. To avoid this error in existing code, use `complex` by itself. Doing this will not modify any behavior and is safe. If you specifically wanted the numpy scalar type, use `np.complex128` here.\nThe aliases was originally deprecated in NumPy 1.20; for more details and guidance see the original release note at:\n    https://numpy.org/devdocs/release/1.20.0-notes.html#deprecations"
     ]
    }
   ],
   "source": [
    "from cml.plot import initialize_bokeh\n",
    "from cml.panel import initialize_panel\n",
    "from jupyterthemes.stylefx import set_nb_theme\n",
    "initialize_bokeh()\n",
    "initialize_panel()\n",
    "set_nb_theme(\"onedork\")"
   ]
  },
  {
   "cell_type": "markdown",
   "id": "1706067c-4be1-40d9-afbf-535f7770ad2f",
   "metadata": {},
   "source": [
    "The interactive problem explorer should appear if you evaluate the following cell. Here, we display a typical *polynomial regression* task with a given second-order polynomial. You can use the sliders to dynamically change the *number of observations*, *noise level* and *coefficients of the polynomial*. You can also add the *ground truth function* and display the *error residuals* for each point.\n",
    "\n",
    "The last part exposes the internal code that was used to define the problem itself."
   ]
  },
  {
   "cell_type": "code",
   "execution_count": null,
   "id": "462e745f-4408-4a47-bc9a-da9a8c6f1dda",
   "metadata": {},
   "outputs": [
    {
     "name": "stdout",
     "output_type": "stream",
     "text": [
      "Creating the object\n"
     ]
    },
    {
     "data": {},
     "metadata": {},
     "output_type": "display_data"
    },
    {
     "data": {
      "application/vnd.holoviews_exec.v0+json": "",
      "text/html": [
       "<div id='5931001b-39ef-4bcc-bb21-981348c32ee8'>\n",
       "  <div id=\"d316f4cc-ed37-4148-922d-f418eba1c118\" data-root-id=\"5931001b-39ef-4bcc-bb21-981348c32ee8\" style=\"display: contents;\"></div>\n",
       "</div>\n",
       "<script type=\"application/javascript\">(function(root) {\n",
       "  var docs_json = {\"d53e493d-6fbf-413e-a3e3-43ad7507671b\":{\"version\":\"3.2.0\",\"title\":\"Bokeh Application\",\"roots\":[{\"type\":\"object\",\"name\":\"Row\",\"id\":\"5931001b-39ef-4bcc-bb21-981348c32ee8\",\"attributes\":{\"name\":\"Row00865\",\"stylesheets\":[\"\\n:host(.pn-loading.pn-arc):before, .pn-loading.pn-arc:before {\\n  background-image: url(\\\"data:image/svg+xml;base64,PHN2ZyB4bWxucz0iaHR0cDovL3d3dy53My5vcmcvMjAwMC9zdmciIHN0eWxlPSJtYXJnaW46IGF1dG87IGJhY2tncm91bmQ6IG5vbmU7IGRpc3BsYXk6IGJsb2NrOyBzaGFwZS1yZW5kZXJpbmc6IGF1dG87IiB2aWV3Qm94PSIwIDAgMTAwIDEwMCIgcHJlc2VydmVBc3BlY3RSYXRpbz0ieE1pZFlNaWQiPiAgPGNpcmNsZSBjeD0iNTAiIGN5PSI1MCIgZmlsbD0ibm9uZSIgc3Ryb2tlPSIjYzNjM2MzIiBzdHJva2Utd2lkdGg9IjEwIiByPSIzNSIgc3Ryb2tlLWRhc2hhcnJheT0iMTY0LjkzMzYxNDMxMzQ2NDE1IDU2Ljk3Nzg3MTQzNzgyMTM4Ij4gICAgPGFuaW1hdGVUcmFuc2Zvcm0gYXR0cmlidXRlTmFtZT0idHJhbnNmb3JtIiB0eXBlPSJyb3RhdGUiIHJlcGVhdENvdW50PSJpbmRlZmluaXRlIiBkdXI9IjFzIiB2YWx1ZXM9IjAgNTAgNTA7MzYwIDUwIDUwIiBrZXlUaW1lcz0iMDsxIj48L2FuaW1hdGVUcmFuc2Zvcm0+ICA8L2NpcmNsZT48L3N2Zz4=\\\");\\n  background-size: auto calc(min(50%, 400px));\\n}\",{\"type\":\"object\",\"name\":\"ImportedStyleSheet\",\"id\":\"0d74ec2d-0222-48f9-a16d-6d93f2510a0e\",\"attributes\":{\"url\":\"https://cdn.holoviz.org/panel/1.1.0/dist/css/loading.css\"}},{\"type\":\"object\",\"name\":\"ImportedStyleSheet\",\"id\":\"3ced2e18-8f32-43e0-b13e-e70717bce838\",\"attributes\":{\"url\":\"cml/cml.css\"}},{\"type\":\"object\",\"name\":\"ImportedStyleSheet\",\"id\":\"16243846-c291-4333-a70e-7663299eb6cf\",\"attributes\":{\"url\":\"https://cdn.holoviz.org/panel/1.1.0/dist/css/listpanel.css\"}},{\"type\":\"object\",\"name\":\"ImportedStyleSheet\",\"id\":\"dfc702c4-2bd3-4f5d-a844-0a7a0734b10e\",\"attributes\":{\"url\":\"https://cdn.holoviz.org/panel/1.1.0/dist/bundled/theme/default.css\"}},{\"type\":\"object\",\"name\":\"ImportedStyleSheet\",\"id\":\"1276758d-2c45-44a2-a150-d6ea81b28a6b\",\"attributes\":{\"url\":\"https://cdn.holoviz.org/panel/1.1.0/dist/bundled/theme/native.css\"}}],\"margin\":0,\"sizing_mode\":\"stretch_width\",\"align\":\"start\",\"children\":[{\"type\":\"object\",\"name\":\"Spacer\",\"id\":\"753425c2-ddf2-46d7-befa-e2cb02800407\",\"attributes\":{\"name\":\"HSpacer00788\",\"stylesheets\":[\"\\n:host(.pn-loading.pn-arc):before, .pn-loading.pn-arc:before {\\n  background-image: url(\\\"data:image/svg+xml;base64,PHN2ZyB4bWxucz0iaHR0cDovL3d3dy53My5vcmcvMjAwMC9zdmciIHN0eWxlPSJtYXJnaW46IGF1dG87IGJhY2tncm91bmQ6IG5vbmU7IGRpc3BsYXk6IGJsb2NrOyBzaGFwZS1yZW5kZXJpbmc6IGF1dG87IiB2aWV3Qm94PSIwIDAgMTAwIDEwMCIgcHJlc2VydmVBc3BlY3RSYXRpbz0ieE1pZFlNaWQiPiAgPGNpcmNsZSBjeD0iNTAiIGN5PSI1MCIgZmlsbD0ibm9uZSIgc3Ryb2tlPSIjYzNjM2MzIiBzdHJva2Utd2lkdGg9IjEwIiByPSIzNSIgc3Ryb2tlLWRhc2hhcnJheT0iMTY0LjkzMzYxNDMxMzQ2NDE1IDU2Ljk3Nzg3MTQzNzgyMTM4Ij4gICAgPGFuaW1hdGVUcmFuc2Zvcm0gYXR0cmlidXRlTmFtZT0idHJhbnNmb3JtIiB0eXBlPSJyb3RhdGUiIHJlcGVhdENvdW50PSJpbmRlZmluaXRlIiBkdXI9IjFzIiB2YWx1ZXM9IjAgNTAgNTA7MzYwIDUwIDUwIiBrZXlUaW1lcz0iMDsxIj48L2FuaW1hdGVUcmFuc2Zvcm0+ICA8L2NpcmNsZT48L3N2Zz4=\\\");\\n  background-size: auto calc(min(50%, 400px));\\n}\",{\"id\":\"0d74ec2d-0222-48f9-a16d-6d93f2510a0e\"},{\"id\":\"3ced2e18-8f32-43e0-b13e-e70717bce838\"},{\"id\":\"dfc702c4-2bd3-4f5d-a844-0a7a0734b10e\"},{\"id\":\"1276758d-2c45-44a2-a150-d6ea81b28a6b\"}],\"margin\":0,\"sizing_mode\":\"stretch_width\",\"align\":\"start\"}},{\"type\":\"object\",\"name\":\"Column\",\"id\":\"f4871cfd-ebd6-47a6-81b4-8aaed506a7a1\",\"attributes\":{\"name\":\"Column00859\",\"stylesheets\":[\"\\n:host(.pn-loading.pn-arc):before, .pn-loading.pn-arc:before {\\n  background-image: url(\\\"data:image/svg+xml;base64,PHN2ZyB4bWxucz0iaHR0cDovL3d3dy53My5vcmcvMjAwMC9zdmciIHN0eWxlPSJtYXJnaW46IGF1dG87IGJhY2tncm91bmQ6IG5vbmU7IGRpc3BsYXk6IGJsb2NrOyBzaGFwZS1yZW5kZXJpbmc6IGF1dG87IiB2aWV3Qm94PSIwIDAgMTAwIDEwMCIgcHJlc2VydmVBc3BlY3RSYXRpbz0ieE1pZFlNaWQiPiAgPGNpcmNsZSBjeD0iNTAiIGN5PSI1MCIgZmlsbD0ibm9uZSIgc3Ryb2tlPSIjYzNjM2MzIiBzdHJva2Utd2lkdGg9IjEwIiByPSIzNSIgc3Ryb2tlLWRhc2hhcnJheT0iMTY0LjkzMzYxNDMxMzQ2NDE1IDU2Ljk3Nzg3MTQzNzgyMTM4Ij4gICAgPGFuaW1hdGVUcmFuc2Zvcm0gYXR0cmlidXRlTmFtZT0idHJhbnNmb3JtIiB0eXBlPSJyb3RhdGUiIHJlcGVhdENvdW50PSJpbmRlZmluaXRlIiBkdXI9IjFzIiB2YWx1ZXM9IjAgNTAgNTA7MzYwIDUwIDUwIiBrZXlUaW1lcz0iMDsxIj48L2FuaW1hdGVUcmFuc2Zvcm0+ICA8L2NpcmNsZT48L3N2Zz4=\\\");\\n  background-size: auto calc(min(50%, 400px));\\n}\",{\"id\":\"0d74ec2d-0222-48f9-a16d-6d93f2510a0e\"},{\"id\":\"3ced2e18-8f32-43e0-b13e-e70717bce838\"},{\"id\":\"16243846-c291-4333-a70e-7663299eb6cf\"},{\"id\":\"dfc702c4-2bd3-4f5d-a844-0a7a0734b10e\"},{\"id\":\"1276758d-2c45-44a2-a150-d6ea81b28a6b\"}],\"margin\":0,\"align\":\"start\",\"children\":[{\"type\":\"object\",\"name\":\"Row\",\"id\":\"f653a9e9-7385-403d-9326-e8842bfbff30\",\"attributes\":{\"name\":\"Row00852\",\"stylesheets\":[\"\\n:host(.pn-loading.pn-arc):before, .pn-loading.pn-arc:before {\\n  background-image: url(\\\"data:image/svg+xml;base64,PHN2ZyB4bWxucz0iaHR0cDovL3d3dy53My5vcmcvMjAwMC9zdmciIHN0eWxlPSJtYXJnaW46IGF1dG87IGJhY2tncm91bmQ6IG5vbmU7IGRpc3BsYXk6IGJsb2NrOyBzaGFwZS1yZW5kZXJpbmc6IGF1dG87IiB2aWV3Qm94PSIwIDAgMTAwIDEwMCIgcHJlc2VydmVBc3BlY3RSYXRpbz0ieE1pZFlNaWQiPiAgPGNpcmNsZSBjeD0iNTAiIGN5PSI1MCIgZmlsbD0ibm9uZSIgc3Ryb2tlPSIjYzNjM2MzIiBzdHJva2Utd2lkdGg9IjEwIiByPSIzNSIgc3Ryb2tlLWRhc2hhcnJheT0iMTY0LjkzMzYxNDMxMzQ2NDE1IDU2Ljk3Nzg3MTQzNzgyMTM4Ij4gICAgPGFuaW1hdGVUcmFuc2Zvcm0gYXR0cmlidXRlTmFtZT0idHJhbnNmb3JtIiB0eXBlPSJyb3RhdGUiIHJlcGVhdENvdW50PSJpbmRlZmluaXRlIiBkdXI9IjFzIiB2YWx1ZXM9IjAgNTAgNTA7MzYwIDUwIDUwIiBrZXlUaW1lcz0iMDsxIj48L2FuaW1hdGVUcmFuc2Zvcm0+ICA8L2NpcmNsZT48L3N2Zz4=\\\");\\n  background-size: auto calc(min(50%, 400px));\\n}\",{\"id\":\"0d74ec2d-0222-48f9-a16d-6d93f2510a0e\"},{\"id\":\"3ced2e18-8f32-43e0-b13e-e70717bce838\"},{\"id\":\"16243846-c291-4333-a70e-7663299eb6cf\"},{\"id\":\"dfc702c4-2bd3-4f5d-a844-0a7a0734b10e\"},{\"id\":\"1276758d-2c45-44a2-a150-d6ea81b28a6b\"}],\"margin\":0,\"align\":\"start\",\"children\":[{\"type\":\"object\",\"name\":\"Column\",\"id\":\"987e9976-4749-4475-8358-edbdfbe7a3da\",\"attributes\":{\"name\":\"Problem parameters\",\"stylesheets\":[\"\\n:host(.pn-loading.pn-arc):before, .pn-loading.pn-arc:before {\\n  background-image: url(\\\"data:image/svg+xml;base64,PHN2ZyB4bWxucz0iaHR0cDovL3d3dy53My5vcmcvMjAwMC9zdmciIHN0eWxlPSJtYXJnaW46IGF1dG87IGJhY2tncm91bmQ6IG5vbmU7IGRpc3BsYXk6IGJsb2NrOyBzaGFwZS1yZW5kZXJpbmc6IGF1dG87IiB2aWV3Qm94PSIwIDAgMTAwIDEwMCIgcHJlc2VydmVBc3BlY3RSYXRpbz0ieE1pZFlNaWQiPiAgPGNpcmNsZSBjeD0iNTAiIGN5PSI1MCIgZmlsbD0ibm9uZSIgc3Ryb2tlPSIjYzNjM2MzIiBzdHJva2Utd2lkdGg9IjEwIiByPSIzNSIgc3Ryb2tlLWRhc2hhcnJheT0iMTY0LjkzMzYxNDMxMzQ2NDE1IDU2Ljk3Nzg3MTQzNzgyMTM4Ij4gICAgPGFuaW1hdGVUcmFuc2Zvcm0gYXR0cmlidXRlTmFtZT0idHJhbnNmb3JtIiB0eXBlPSJyb3RhdGUiIHJlcGVhdENvdW50PSJpbmRlZmluaXRlIiBkdXI9IjFzIiB2YWx1ZXM9IjAgNTAgNTA7MzYwIDUwIDUwIiBrZXlUaW1lcz0iMDsxIj48L2FuaW1hdGVUcmFuc2Zvcm0+ICA8L2NpcmNsZT48L3N2Zz4=\\\");\\n  background-size: auto calc(min(50%, 400px));\\n}\",{\"id\":\"0d74ec2d-0222-48f9-a16d-6d93f2510a0e\"},{\"id\":\"3ced2e18-8f32-43e0-b13e-e70717bce838\"},{\"id\":\"16243846-c291-4333-a70e-7663299eb6cf\"},{\"id\":\"dfc702c4-2bd3-4f5d-a844-0a7a0734b10e\"},{\"id\":\"1276758d-2c45-44a2-a150-d6ea81b28a6b\"}],\"margin\":[5,10],\"align\":\"start\",\"children\":[{\"type\":\"object\",\"name\":\"Div\",\"id\":\"143b15da-2d2d-491f-a3a2-abd9db57604c\",\"attributes\":{\"stylesheets\":[\"\\n:host(.pn-loading.pn-arc):before, .pn-loading.pn-arc:before {\\n  background-image: url(\\\"data:image/svg+xml;base64,PHN2ZyB4bWxucz0iaHR0cDovL3d3dy53My5vcmcvMjAwMC9zdmciIHN0eWxlPSJtYXJnaW46IGF1dG87IGJhY2tncm91bmQ6IG5vbmU7IGRpc3BsYXk6IGJsb2NrOyBzaGFwZS1yZW5kZXJpbmc6IGF1dG87IiB2aWV3Qm94PSIwIDAgMTAwIDEwMCIgcHJlc2VydmVBc3BlY3RSYXRpbz0ieE1pZFlNaWQiPiAgPGNpcmNsZSBjeD0iNTAiIGN5PSI1MCIgZmlsbD0ibm9uZSIgc3Ryb2tlPSIjYzNjM2MzIiBzdHJva2Utd2lkdGg9IjEwIiByPSIzNSIgc3Ryb2tlLWRhc2hhcnJheT0iMTY0LjkzMzYxNDMxMzQ2NDE1IDU2Ljk3Nzg3MTQzNzgyMTM4Ij4gICAgPGFuaW1hdGVUcmFuc2Zvcm0gYXR0cmlidXRlTmFtZT0idHJhbnNmb3JtIiB0eXBlPSJyb3RhdGUiIHJlcGVhdENvdW50PSJpbmRlZmluaXRlIiBkdXI9IjFzIiB2YWx1ZXM9IjAgNTAgNTA7MzYwIDUwIDUwIiBrZXlUaW1lcz0iMDsxIj48L2FuaW1hdGVUcmFuc2Zvcm0+ICA8L2NpcmNsZT48L3N2Zz4=\\\");\\n  background-size: auto calc(min(50%, 400px));\\n}\",{\"id\":\"0d74ec2d-0222-48f9-a16d-6d93f2510a0e\"},{\"id\":\"3ced2e18-8f32-43e0-b13e-e70717bce838\"},{\"id\":\"dfc702c4-2bd3-4f5d-a844-0a7a0734b10e\"},{\"id\":\"1276758d-2c45-44a2-a150-d6ea81b28a6b\"}],\"margin\":[5,10],\"align\":\"start\",\"text\":\"<b>Problem parameters</b>\"}},{\"type\":\"object\",\"name\":\"Slider\",\"id\":\"f857a027-728e-4dca-b450-ca342ab0c612\",\"attributes\":{\"stylesheets\":[\"\\n:host(.pn-loading.pn-arc):before, .pn-loading.pn-arc:before {\\n  background-image: url(\\\"data:image/svg+xml;base64,PHN2ZyB4bWxucz0iaHR0cDovL3d3dy53My5vcmcvMjAwMC9zdmciIHN0eWxlPSJtYXJnaW46IGF1dG87IGJhY2tncm91bmQ6IG5vbmU7IGRpc3BsYXk6IGJsb2NrOyBzaGFwZS1yZW5kZXJpbmc6IGF1dG87IiB2aWV3Qm94PSIwIDAgMTAwIDEwMCIgcHJlc2VydmVBc3BlY3RSYXRpbz0ieE1pZFlNaWQiPiAgPGNpcmNsZSBjeD0iNTAiIGN5PSI1MCIgZmlsbD0ibm9uZSIgc3Ryb2tlPSIjYzNjM2MzIiBzdHJva2Utd2lkdGg9IjEwIiByPSIzNSIgc3Ryb2tlLWRhc2hhcnJheT0iMTY0LjkzMzYxNDMxMzQ2NDE1IDU2Ljk3Nzg3MTQzNzgyMTM4Ij4gICAgPGFuaW1hdGVUcmFuc2Zvcm0gYXR0cmlidXRlTmFtZT0idHJhbnNmb3JtIiB0eXBlPSJyb3RhdGUiIHJlcGVhdENvdW50PSJpbmRlZmluaXRlIiBkdXI9IjFzIiB2YWx1ZXM9IjAgNTAgNTA7MzYwIDUwIDUwIiBrZXlUaW1lcz0iMDsxIj48L2FuaW1hdGVUcmFuc2Zvcm0+ICA8L2NpcmNsZT48L3N2Zz4=\\\");\\n  background-size: auto calc(min(50%, 400px));\\n}\",{\"id\":\"0d74ec2d-0222-48f9-a16d-6d93f2510a0e\"},{\"id\":\"3ced2e18-8f32-43e0-b13e-e70717bce838\"},{\"id\":\"dfc702c4-2bd3-4f5d-a844-0a7a0734b10e\"},{\"id\":\"1276758d-2c45-44a2-a150-d6ea81b28a6b\"}],\"margin\":[5,10],\"align\":\"start\",\"title\":\"Number observations\",\"start\":10,\"end\":1000,\"value\":100}},{\"type\":\"object\",\"name\":\"Slider\",\"id\":\"86d63ae7-dab3-440e-bd35-abf6590e5935\",\"attributes\":{\"stylesheets\":[\"\\n:host(.pn-loading.pn-arc):before, .pn-loading.pn-arc:before {\\n  background-image: url(\\\"data:image/svg+xml;base64,PHN2ZyB4bWxucz0iaHR0cDovL3d3dy53My5vcmcvMjAwMC9zdmciIHN0eWxlPSJtYXJnaW46IGF1dG87IGJhY2tncm91bmQ6IG5vbmU7IGRpc3BsYXk6IGJsb2NrOyBzaGFwZS1yZW5kZXJpbmc6IGF1dG87IiB2aWV3Qm94PSIwIDAgMTAwIDEwMCIgcHJlc2VydmVBc3BlY3RSYXRpbz0ieE1pZFlNaWQiPiAgPGNpcmNsZSBjeD0iNTAiIGN5PSI1MCIgZmlsbD0ibm9uZSIgc3Ryb2tlPSIjYzNjM2MzIiBzdHJva2Utd2lkdGg9IjEwIiByPSIzNSIgc3Ryb2tlLWRhc2hhcnJheT0iMTY0LjkzMzYxNDMxMzQ2NDE1IDU2Ljk3Nzg3MTQzNzgyMTM4Ij4gICAgPGFuaW1hdGVUcmFuc2Zvcm0gYXR0cmlidXRlTmFtZT0idHJhbnNmb3JtIiB0eXBlPSJyb3RhdGUiIHJlcGVhdENvdW50PSJpbmRlZmluaXRlIiBkdXI9IjFzIiB2YWx1ZXM9IjAgNTAgNTA7MzYwIDUwIDUwIiBrZXlUaW1lcz0iMDsxIj48L2FuaW1hdGVUcmFuc2Zvcm0+ICA8L2NpcmNsZT48L3N2Zz4=\\\");\\n  background-size: auto calc(min(50%, 400px));\\n}\",{\"id\":\"0d74ec2d-0222-48f9-a16d-6d93f2510a0e\"},{\"id\":\"3ced2e18-8f32-43e0-b13e-e70717bce838\"},{\"id\":\"dfc702c4-2bd3-4f5d-a844-0a7a0734b10e\"},{\"id\":\"1276758d-2c45-44a2-a150-d6ea81b28a6b\"}],\"margin\":[5,10],\"align\":\"start\",\"title\":\"Noise level\",\"start\":0.0,\"end\":5.0,\"value\":0.1,\"step\":0.1}},{\"type\":\"object\",\"name\":\"Checkbox\",\"id\":\"d4b35db4-690a-479a-8000-724addc840eb\",\"attributes\":{\"stylesheets\":[\"\\n:host(.pn-loading.pn-arc):before, .pn-loading.pn-arc:before {\\n  background-image: url(\\\"data:image/svg+xml;base64,PHN2ZyB4bWxucz0iaHR0cDovL3d3dy53My5vcmcvMjAwMC9zdmciIHN0eWxlPSJtYXJnaW46IGF1dG87IGJhY2tncm91bmQ6IG5vbmU7IGRpc3BsYXk6IGJsb2NrOyBzaGFwZS1yZW5kZXJpbmc6IGF1dG87IiB2aWV3Qm94PSIwIDAgMTAwIDEwMCIgcHJlc2VydmVBc3BlY3RSYXRpbz0ieE1pZFlNaWQiPiAgPGNpcmNsZSBjeD0iNTAiIGN5PSI1MCIgZmlsbD0ibm9uZSIgc3Ryb2tlPSIjYzNjM2MzIiBzdHJva2Utd2lkdGg9IjEwIiByPSIzNSIgc3Ryb2tlLWRhc2hhcnJheT0iMTY0LjkzMzYxNDMxMzQ2NDE1IDU2Ljk3Nzg3MTQzNzgyMTM4Ij4gICAgPGFuaW1hdGVUcmFuc2Zvcm0gYXR0cmlidXRlTmFtZT0idHJhbnNmb3JtIiB0eXBlPSJyb3RhdGUiIHJlcGVhdENvdW50PSJpbmRlZmluaXRlIiBkdXI9IjFzIiB2YWx1ZXM9IjAgNTAgNTA7MzYwIDUwIDUwIiBrZXlUaW1lcz0iMDsxIj48L2FuaW1hdGVUcmFuc2Zvcm0+ICA8L2NpcmNsZT48L3N2Zz4=\\\");\\n  background-size: auto calc(min(50%, 400px));\\n}\",{\"id\":\"0d74ec2d-0222-48f9-a16d-6d93f2510a0e\"},{\"id\":\"3ced2e18-8f32-43e0-b13e-e70717bce838\"},{\"id\":\"dfc702c4-2bd3-4f5d-a844-0a7a0734b10e\"},{\"id\":\"1276758d-2c45-44a2-a150-d6ea81b28a6b\"}],\"margin\":[5,10],\"align\":\"start\",\"label\":\"Ground truth\"}},{\"type\":\"object\",\"name\":\"Checkbox\",\"id\":\"3d2a809c-832f-40dc-82d6-7430debef69a\",\"attributes\":{\"stylesheets\":[\"\\n:host(.pn-loading.pn-arc):before, .pn-loading.pn-arc:before {\\n  background-image: url(\\\"data:image/svg+xml;base64,PHN2ZyB4bWxucz0iaHR0cDovL3d3dy53My5vcmcvMjAwMC9zdmciIHN0eWxlPSJtYXJnaW46IGF1dG87IGJhY2tncm91bmQ6IG5vbmU7IGRpc3BsYXk6IGJsb2NrOyBzaGFwZS1yZW5kZXJpbmc6IGF1dG87IiB2aWV3Qm94PSIwIDAgMTAwIDEwMCIgcHJlc2VydmVBc3BlY3RSYXRpbz0ieE1pZFlNaWQiPiAgPGNpcmNsZSBjeD0iNTAiIGN5PSI1MCIgZmlsbD0ibm9uZSIgc3Ryb2tlPSIjYzNjM2MzIiBzdHJva2Utd2lkdGg9IjEwIiByPSIzNSIgc3Ryb2tlLWRhc2hhcnJheT0iMTY0LjkzMzYxNDMxMzQ2NDE1IDU2Ljk3Nzg3MTQzNzgyMTM4Ij4gICAgPGFuaW1hdGVUcmFuc2Zvcm0gYXR0cmlidXRlTmFtZT0idHJhbnNmb3JtIiB0eXBlPSJyb3RhdGUiIHJlcGVhdENvdW50PSJpbmRlZmluaXRlIiBkdXI9IjFzIiB2YWx1ZXM9IjAgNTAgNTA7MzYwIDUwIDUwIiBrZXlUaW1lcz0iMDsxIj48L2FuaW1hdGVUcmFuc2Zvcm0+ICA8L2NpcmNsZT48L3N2Zz4=\\\");\\n  background-size: auto calc(min(50%, 400px));\\n}\",{\"id\":\"0d74ec2d-0222-48f9-a16d-6d93f2510a0e\"},{\"id\":\"3ced2e18-8f32-43e0-b13e-e70717bce838\"},{\"id\":\"dfc702c4-2bd3-4f5d-a844-0a7a0734b10e\"},{\"id\":\"1276758d-2c45-44a2-a150-d6ea81b28a6b\"}],\"margin\":[5,10],\"align\":\"start\",\"label\":\"Error\"}},{\"type\":\"object\",\"name\":\"Slider\",\"id\":\"299184a1-e70e-44a8-8b48-b8f39afe8d8a\",\"attributes\":{\"stylesheets\":[\"\\n:host(.pn-loading.pn-arc):before, .pn-loading.pn-arc:before {\\n  background-image: url(\\\"data:image/svg+xml;base64,PHN2ZyB4bWxucz0iaHR0cDovL3d3dy53My5vcmcvMjAwMC9zdmciIHN0eWxlPSJtYXJnaW46IGF1dG87IGJhY2tncm91bmQ6IG5vbmU7IGRpc3BsYXk6IGJsb2NrOyBzaGFwZS1yZW5kZXJpbmc6IGF1dG87IiB2aWV3Qm94PSIwIDAgMTAwIDEwMCIgcHJlc2VydmVBc3BlY3RSYXRpbz0ieE1pZFlNaWQiPiAgPGNpcmNsZSBjeD0iNTAiIGN5PSI1MCIgZmlsbD0ibm9uZSIgc3Ryb2tlPSIjYzNjM2MzIiBzdHJva2Utd2lkdGg9IjEwIiByPSIzNSIgc3Ryb2tlLWRhc2hhcnJheT0iMTY0LjkzMzYxNDMxMzQ2NDE1IDU2Ljk3Nzg3MTQzNzgyMTM4Ij4gICAgPGFuaW1hdGVUcmFuc2Zvcm0gYXR0cmlidXRlTmFtZT0idHJhbnNmb3JtIiB0eXBlPSJyb3RhdGUiIHJlcGVhdENvdW50PSJpbmRlZmluaXRlIiBkdXI9IjFzIiB2YWx1ZXM9IjAgNTAgNTA7MzYwIDUwIDUwIiBrZXlUaW1lcz0iMDsxIj48L2FuaW1hdGVUcmFuc2Zvcm0+ICA8L2NpcmNsZT48L3N2Zz4=\\\");\\n  background-size: auto calc(min(50%, 400px));\\n}\",{\"id\":\"0d74ec2d-0222-48f9-a16d-6d93f2510a0e\"},{\"id\":\"3ced2e18-8f32-43e0-b13e-e70717bce838\"},{\"id\":\"dfc702c4-2bd3-4f5d-a844-0a7a0734b10e\"},{\"id\":\"1276758d-2c45-44a2-a150-d6ea81b28a6b\"}],\"margin\":[5,10],\"align\":\"start\",\"title\":\"X 2\",\"start\":-5.0,\"end\":5.0,\"value\":-2.0,\"step\":0.1}},{\"type\":\"object\",\"name\":\"Slider\",\"id\":\"116929af-1b07-4c43-bfa0-4acf96e2dd48\",\"attributes\":{\"stylesheets\":[\"\\n:host(.pn-loading.pn-arc):before, .pn-loading.pn-arc:before {\\n  background-image: url(\\\"data:image/svg+xml;base64,PHN2ZyB4bWxucz0iaHR0cDovL3d3dy53My5vcmcvMjAwMC9zdmciIHN0eWxlPSJtYXJnaW46IGF1dG87IGJhY2tncm91bmQ6IG5vbmU7IGRpc3BsYXk6IGJsb2NrOyBzaGFwZS1yZW5kZXJpbmc6IGF1dG87IiB2aWV3Qm94PSIwIDAgMTAwIDEwMCIgcHJlc2VydmVBc3BlY3RSYXRpbz0ieE1pZFlNaWQiPiAgPGNpcmNsZSBjeD0iNTAiIGN5PSI1MCIgZmlsbD0ibm9uZSIgc3Ryb2tlPSIjYzNjM2MzIiBzdHJva2Utd2lkdGg9IjEwIiByPSIzNSIgc3Ryb2tlLWRhc2hhcnJheT0iMTY0LjkzMzYxNDMxMzQ2NDE1IDU2Ljk3Nzg3MTQzNzgyMTM4Ij4gICAgPGFuaW1hdGVUcmFuc2Zvcm0gYXR0cmlidXRlTmFtZT0idHJhbnNmb3JtIiB0eXBlPSJyb3RhdGUiIHJlcGVhdENvdW50PSJpbmRlZmluaXRlIiBkdXI9IjFzIiB2YWx1ZXM9IjAgNTAgNTA7MzYwIDUwIDUwIiBrZXlUaW1lcz0iMDsxIj48L2FuaW1hdGVUcmFuc2Zvcm0+ICA8L2NpcmNsZT48L3N2Zz4=\\\");\\n  background-size: auto calc(min(50%, 400px));\\n}\",{\"id\":\"0d74ec2d-0222-48f9-a16d-6d93f2510a0e\"},{\"id\":\"3ced2e18-8f32-43e0-b13e-e70717bce838\"},{\"id\":\"dfc702c4-2bd3-4f5d-a844-0a7a0734b10e\"},{\"id\":\"1276758d-2c45-44a2-a150-d6ea81b28a6b\"}],\"margin\":[5,10],\"align\":\"start\",\"title\":\"X 1\",\"start\":-5.0,\"end\":5.0,\"value\":0.0,\"step\":0.1}},{\"type\":\"object\",\"name\":\"Slider\",\"id\":\"2e791602-fae9-4813-8942-facade764277\",\"attributes\":{\"stylesheets\":[\"\\n:host(.pn-loading.pn-arc):before, .pn-loading.pn-arc:before {\\n  background-image: url(\\\"data:image/svg+xml;base64,PHN2ZyB4bWxucz0iaHR0cDovL3d3dy53My5vcmcvMjAwMC9zdmciIHN0eWxlPSJtYXJnaW46IGF1dG87IGJhY2tncm91bmQ6IG5vbmU7IGRpc3BsYXk6IGJsb2NrOyBzaGFwZS1yZW5kZXJpbmc6IGF1dG87IiB2aWV3Qm94PSIwIDAgMTAwIDEwMCIgcHJlc2VydmVBc3BlY3RSYXRpbz0ieE1pZFlNaWQiPiAgPGNpcmNsZSBjeD0iNTAiIGN5PSI1MCIgZmlsbD0ibm9uZSIgc3Ryb2tlPSIjYzNjM2MzIiBzdHJva2Utd2lkdGg9IjEwIiByPSIzNSIgc3Ryb2tlLWRhc2hhcnJheT0iMTY0LjkzMzYxNDMxMzQ2NDE1IDU2Ljk3Nzg3MTQzNzgyMTM4Ij4gICAgPGFuaW1hdGVUcmFuc2Zvcm0gYXR0cmlidXRlTmFtZT0idHJhbnNmb3JtIiB0eXBlPSJyb3RhdGUiIHJlcGVhdENvdW50PSJpbmRlZmluaXRlIiBkdXI9IjFzIiB2YWx1ZXM9IjAgNTAgNTA7MzYwIDUwIDUwIiBrZXlUaW1lcz0iMDsxIj48L2FuaW1hdGVUcmFuc2Zvcm0+ICA8L2NpcmNsZT48L3N2Zz4=\\\");\\n  background-size: auto calc(min(50%, 400px));\\n}\",{\"id\":\"0d74ec2d-0222-48f9-a16d-6d93f2510a0e\"},{\"id\":\"3ced2e18-8f32-43e0-b13e-e70717bce838\"},{\"id\":\"dfc702c4-2bd3-4f5d-a844-0a7a0734b10e\"},{\"id\":\"1276758d-2c45-44a2-a150-d6ea81b28a6b\"}],\"margin\":[5,10],\"align\":\"start\",\"title\":\"X 0\",\"start\":-5.0,\"end\":5.0,\"value\":1.0,\"step\":0.1}}]}},{\"type\":\"object\",\"name\":\"Row\",\"id\":\"e5192994-a2e7-4e3d-a54a-bfd0bc60db53\",\"attributes\":{\"name\":\"Row00843\",\"stylesheets\":[\"\\n:host(.pn-loading.pn-arc):before, .pn-loading.pn-arc:before {\\n  background-image: url(\\\"data:image/svg+xml;base64,PHN2ZyB4bWxucz0iaHR0cDovL3d3dy53My5vcmcvMjAwMC9zdmciIHN0eWxlPSJtYXJnaW46IGF1dG87IGJhY2tncm91bmQ6IG5vbmU7IGRpc3BsYXk6IGJsb2NrOyBzaGFwZS1yZW5kZXJpbmc6IGF1dG87IiB2aWV3Qm94PSIwIDAgMTAwIDEwMCIgcHJlc2VydmVBc3BlY3RSYXRpbz0ieE1pZFlNaWQiPiAgPGNpcmNsZSBjeD0iNTAiIGN5PSI1MCIgZmlsbD0ibm9uZSIgc3Ryb2tlPSIjYzNjM2MzIiBzdHJva2Utd2lkdGg9IjEwIiByPSIzNSIgc3Ryb2tlLWRhc2hhcnJheT0iMTY0LjkzMzYxNDMxMzQ2NDE1IDU2Ljk3Nzg3MTQzNzgyMTM4Ij4gICAgPGFuaW1hdGVUcmFuc2Zvcm0gYXR0cmlidXRlTmFtZT0idHJhbnNmb3JtIiB0eXBlPSJyb3RhdGUiIHJlcGVhdENvdW50PSJpbmRlZmluaXRlIiBkdXI9IjFzIiB2YWx1ZXM9IjAgNTAgNTA7MzYwIDUwIDUwIiBrZXlUaW1lcz0iMDsxIj48L2FuaW1hdGVUcmFuc2Zvcm0+ICA8L2NpcmNsZT48L3N2Zz4=\\\");\\n  background-size: auto calc(min(50%, 400px));\\n}\",{\"id\":\"0d74ec2d-0222-48f9-a16d-6d93f2510a0e\"},{\"id\":\"3ced2e18-8f32-43e0-b13e-e70717bce838\"},{\"id\":\"16243846-c291-4333-a70e-7663299eb6cf\"},{\"id\":\"dfc702c4-2bd3-4f5d-a844-0a7a0734b10e\"},{\"id\":\"1276758d-2c45-44a2-a150-d6ea81b28a6b\"}],\"margin\":0,\"align\":\"start\",\"children\":[{\"type\":\"object\",\"name\":\"Figure\",\"id\":\"8ad07f4c-1409-4a06-92d2-dd7e98a39b5f\",\"attributes\":{\"height\":450,\"x_range\":{\"type\":\"object\",\"name\":\"DataRange1d\",\"id\":\"1b812a9a-9c02-446a-89ad-4e786368e18f\"},\"y_range\":{\"type\":\"object\",\"name\":\"DataRange1d\",\"id\":\"388c887a-ca37-4a09-8888-6d34dc7736b8\"},\"x_scale\":{\"type\":\"object\",\"name\":\"LinearScale\",\"id\":\"f33768ff-254f-4d46-94eb-fa077b141e39\"},\"y_scale\":{\"type\":\"object\",\"name\":\"LinearScale\",\"id\":\"ddc411f9-0bec-44c3-88c5-af0bd68e6afa\"},\"title\":{\"type\":\"object\",\"name\":\"Title\",\"id\":\"2ac81364-cc77-478d-be0c-02f233b82deb\",\"attributes\":{\"text\":\"Polynomial regression problem\",\"text_color\":\"#E0E0E0\",\"text_font\":\"Josefin Sans\",\"text_font_size\":\"2.1em\"}},\"outline_line_color\":\"#E0E0E0\",\"outline_line_alpha\":0.25,\"outline_line_width\":3,\"renderers\":[{\"type\":\"object\",\"name\":\"GlyphRenderer\",\"id\":\"10676eac-104d-4683-ae8e-8d3bbf54ee2a\",\"attributes\":{\"data_source\":{\"type\":\"object\",\"name\":\"ColumnDataSource\",\"id\":\"e8fc76c1-2262-48d7-9323-27338a8bfe47\",\"attributes\":{\"selected\":{\"type\":\"object\",\"name\":\"Selection\",\"id\":\"ad5bbd7d-dea2-4129-9e4e-848f929b4c56\",\"attributes\":{\"indices\":[],\"line_indices\":[]}},\"selection_policy\":{\"type\":\"object\",\"name\":\"UnionRenderers\",\"id\":\"b1d18ce0-dce9-49db-986e-689539032a96\"},\"data\":{\"type\":\"map\",\"entries\":[[\"x\",{\"type\":\"ndarray\",\"array\":{\"type\":\"bytes\",\"data\":\"AAAAALV+JTy1fqU8ED74PLV+JT1i3k49ED54Pd7OkD21fqU9jC66PWLezj05juM9ED74PfN2Bj7ezhA+yiYbPrV+JT6g1i8+jC46PneGRD5i3k4+TjZZPjmOYz4k5m0+ED54Pv1KgT7zdoY+6aKLPt7OkD7U+pU+yiabPr9SoD61fqU+q6qqPqDWrz6WArU+jC66PoFavz53hsQ+bbLJPmLezj5YCtQ+TjbZPkNi3j45juM+L7roPiTm7T4aEvM+ED74PgVq/T79SgE/+OADP/N2Bj/uDAk/6aILP+Q4Dj/ezhA/2WQTP9T6FT/PkBg/yiYbP8W8HT+/UiA/uugiP7V+JT+wFCg/q6oqP6VALT+g1i8/m2wyP5YCNT+RmDc/jC46P4bEPD+BWj8/fPBBP3eGRD9yHEc/bbJJP2dITD9i3k4/XXRRP1gKVD9ToFY/TjZZP0jMWz9DYl4/PvhgPzmOYz80JGY/L7poPylQaz8k5m0/H3xwPxoScz8VqHU/ED54PwrUej8Fan0/AACAPw==\"},\"shape\":[100],\"dtype\":\"float32\",\"order\":\"little\"}],[\"y\",{\"type\":\"ndarray\",\"array\":{\"type\":\"bytes\",\"data\":\"ki1uPx9TiT8UHoA/KL2KP9L1ij8FfHg/j02KP4J+iz+OAWc/8EiKP+36aD+Uq24/O3V9P4ckgT9ZE4A/erlcP4O2Xz8H9HI/dix4P2m1WT8cCYA/BBV9PzAeZD+wj1E/e4B4Py12cD+O418/MNdsPxx5Vj+HkTo/PUBRP9jNRz/MKjc/NiZXP98eST/k1ig//Eo4Pz1wPD9dT0c/UUsbPzfZFj9nKB8/ExktP6dtHD8kvx4//RskPwtcGz/0AQ8/aVP6PvePCz8y/wk/7HvwPjHoAj/45ds+kKb8Pu/Zsj5fadI+xBLYPogAxj5I3sM+FNFPPrgFqT5KvlU+1T5CPgRDej6S6zs+l2hLPen1Dz1iq/U9OeAyPSJgWjwm0HQ90AEyOyBkwzsEu/O8sk4avs6D0b0fp/q9GiMnvijpZb4c63K+06y+vucAsb48dt++FNvovhDTDr9JMAy/hZsevwYMCL8dGBC/8rIdvw9GG79AkD2/ofYtv+9MOr9l1kK/4mlxvxL3Vr8PD4C//ciIvw==\"},\"shape\":[100],\"dtype\":\"float32\",\"order\":\"little\"}]]}}},\"view\":{\"type\":\"object\",\"name\":\"CDSView\",\"id\":\"13df8faa-ca93-4b69-afe0-6fb17d1d4d60\",\"attributes\":{\"filter\":{\"type\":\"object\",\"name\":\"AllIndices\",\"id\":\"1c5f41cc-3e51-481b-b202-9862af2d41e4\"}}},\"glyph\":{\"type\":\"object\",\"name\":\"Circle\",\"id\":\"e22633b7-776d-4793-aaa8-5330a886077e\",\"attributes\":{\"x\":{\"type\":\"field\",\"field\":\"x\"},\"y\":{\"type\":\"field\",\"field\":\"y\"},\"size\":{\"type\":\"value\",\"value\":10},\"line_color\":{\"type\":\"value\",\"value\":\"white\"},\"line_alpha\":{\"type\":\"value\",\"value\":0.25},\"fill_color\":{\"type\":\"value\",\"value\":\"midnightblue\"},\"fill_alpha\":{\"type\":\"value\",\"value\":0.25},\"hatch_alpha\":{\"type\":\"value\",\"value\":0.25}}},\"selection_glyph\":{\"type\":\"object\",\"name\":\"Circle\",\"id\":\"15e4eecf-391e-4136-87c3-06df27f20b58\",\"attributes\":{\"line_color\":{\"type\":\"value\",\"value\":\"white\"},\"fill_color\":{\"type\":\"value\",\"value\":\"red\"},\"fill_alpha\":{\"type\":\"value\",\"value\":0.8}}},\"nonselection_glyph\":{\"type\":\"object\",\"name\":\"Circle\",\"id\":\"96a57c26-40f0-4b13-a846-515e6c28d4dd\",\"attributes\":{\"line_color\":{\"type\":\"value\",\"value\":\"white\"},\"fill_color\":{\"type\":\"value\",\"value\":\"midnightblue\"},\"fill_alpha\":{\"type\":\"value\",\"value\":0.5}}},\"hover_glyph\":{\"type\":\"object\",\"name\":\"Circle\",\"id\":\"fac577d8-ad33-4f40-b8a8-6cb1b5cbfba3\",\"attributes\":{\"x\":{\"type\":\"field\",\"field\":\"x\"},\"y\":{\"type\":\"field\",\"field\":\"y\"},\"size\":{\"type\":\"value\",\"value\":10},\"line_color\":{\"type\":\"value\",\"value\":\"white\"},\"line_alpha\":{\"type\":\"value\",\"value\":0.5},\"fill_color\":{\"type\":\"value\",\"value\":\"red\"},\"fill_alpha\":{\"type\":\"value\",\"value\":0.5},\"hatch_alpha\":{\"type\":\"value\",\"value\":0.5}}},\"muted_glyph\":{\"type\":\"object\",\"name\":\"Circle\",\"id\":\"397e5ad1-2b2d-40b3-84d5-2b0154b0c137\",\"attributes\":{\"x\":{\"type\":\"field\",\"field\":\"x\"},\"y\":{\"type\":\"field\",\"field\":\"y\"},\"size\":{\"type\":\"value\",\"value\":10},\"line_color\":{\"type\":\"value\",\"value\":\"white\"},\"line_alpha\":{\"type\":\"value\",\"value\":0.2},\"fill_color\":{\"type\":\"value\",\"value\":\"midnightblue\"},\"fill_alpha\":{\"type\":\"value\",\"value\":0.2},\"hatch_alpha\":{\"type\":\"value\",\"value\":0.2}}}}}],\"toolbar\":{\"type\":\"object\",\"name\":\"Toolbar\",\"id\":\"720a0e1e-1e7e-4185-97a3-9bd914d4356a\",\"attributes\":{\"tools\":[{\"type\":\"object\",\"name\":\"PanTool\",\"id\":\"aada9042-5da8-49d9-81fc-a6f971eb2c69\"},{\"type\":\"object\",\"name\":\"WheelZoomTool\",\"id\":\"ac66ddb6-f12c-4b1f-80a3-dc0da12cf084\"},{\"type\":\"object\",\"name\":\"BoxZoomTool\",\"id\":\"cc32910c-05c1-44c3-a09d-8d1cccd1396e\",\"attributes\":{\"overlay\":{\"type\":\"object\",\"name\":\"BoxAnnotation\",\"id\":\"be94d253-891d-4f06-b444-c3fcc73dfc24\",\"attributes\":{\"syncable\":false,\"level\":\"overlay\",\"visible\":false,\"left_units\":\"canvas\",\"right_units\":\"canvas\",\"bottom_units\":\"canvas\",\"top_units\":\"canvas\",\"line_color\":\"black\",\"line_alpha\":1.0,\"line_width\":2,\"line_dash\":[4,4],\"fill_color\":\"lightgrey\",\"fill_alpha\":0.5}}}},{\"type\":\"object\",\"name\":\"SaveTool\",\"id\":\"311e6e84-23f2-4e7b-935e-c6ec4897e906\"},{\"type\":\"object\",\"name\":\"ResetTool\",\"id\":\"459f6183-b45d-477d-a4cd-22f8c6cd458c\"},{\"type\":\"object\",\"name\":\"HelpTool\",\"id\":\"fb921d35-7dfa-44bb-8fef-0e81a0cec288\"},{\"type\":\"object\",\"name\":\"HoverTool\",\"id\":\"83e39c76-7a31-42f1-b541-151759f30f91\",\"attributes\":{\"renderers\":[{\"id\":\"10676eac-104d-4683-ae8e-8d3bbf54ee2a\"}],\"tooltips\":null,\"mode\":\"vline\"}},{\"type\":\"object\",\"name\":\"BoxSelectTool\",\"id\":\"7abd59fa-f7fc-4a34-9689-ee358bc86b20\",\"attributes\":{\"renderers\":[{\"id\":\"10676eac-104d-4683-ae8e-8d3bbf54ee2a\"}],\"mode\":\"append\",\"overlay\":{\"type\":\"object\",\"name\":\"BoxAnnotation\",\"id\":\"881c506e-c845-4942-adaa-9cc2892e824a\",\"attributes\":{\"syncable\":false,\"level\":\"overlay\",\"visible\":false,\"editable\":true,\"line_color\":\"black\",\"line_alpha\":1.0,\"line_width\":2,\"line_dash\":[4,4],\"fill_color\":\"lightgrey\",\"fill_alpha\":0.5}}}}]}},\"toolbar_location\":null,\"left\":[{\"type\":\"object\",\"name\":\"LinearAxis\",\"id\":\"2a2e3cfc-62de-483c-a83c-7a1fdda99aa0\",\"attributes\":{\"ticker\":{\"type\":\"object\",\"name\":\"BasicTicker\",\"id\":\"01f7f0ce-9fe6-4ac5-be8a-0075cedea7bd\",\"attributes\":{\"mantissas\":[1,2,5]}},\"formatter\":{\"type\":\"object\",\"name\":\"BasicTickFormatter\",\"id\":\"eb76decc-4283-4676-87db-ae20fed090ee\"},\"axis_label\":\"$$\\\\color{white} -2.0x^2 + 0.0x^1 + 1.0x^0$$\",\"axis_label_standoff\":10,\"axis_label_text_color\":\"#FFFFFF\",\"axis_label_text_font\":\"Josefin Sans\",\"axis_label_text_font_size\":\"1.9em\",\"axis_label_text_font_style\":\"bold\",\"major_label_policy\":{\"type\":\"object\",\"name\":\"AllLabels\",\"id\":\"676d5c45-9cfd-456a-bea2-40f9e2104f4d\"},\"major_label_text_color\":\"#E0E0E0\",\"major_label_text_font\":\"Josefin Sans\",\"major_label_text_font_size\":\"1.15em\",\"axis_line_color\":\"#E0E0E0\",\"axis_line_alpha\":0.4,\"major_tick_line_color\":\"#E0E0E0\",\"major_tick_line_alpha\":0.4,\"minor_tick_line_color\":\"#E0E0E0\",\"minor_tick_line_alpha\":0.4}}],\"below\":[{\"type\":\"object\",\"name\":\"LinearAxis\",\"id\":\"0cf3f441-2899-482f-8c68-4be30dd4527d\",\"attributes\":{\"ticker\":{\"type\":\"object\",\"name\":\"BasicTicker\",\"id\":\"355f140f-886f-4a2e-b36f-76f7d4bc3c2d\",\"attributes\":{\"mantissas\":[1,2,5]}},\"formatter\":{\"type\":\"object\",\"name\":\"BasicTickFormatter\",\"id\":\"43d4ace8-c897-4952-8e41-38bae07c198d\"},\"axis_label\":\"$$\\\\color{white} x$$\",\"axis_label_standoff\":10,\"axis_label_text_color\":\"#FFFFFF\",\"axis_label_text_font\":\"Josefin Sans\",\"axis_label_text_font_size\":\"1.9em\",\"axis_label_text_font_style\":\"bold\",\"major_label_policy\":{\"type\":\"object\",\"name\":\"AllLabels\",\"id\":\"98d0e8d5-21a7-45cb-827f-ce0dc930dff7\"},\"major_label_text_color\":\"#E0E0E0\",\"major_label_text_font\":\"Josefin Sans\",\"major_label_text_font_size\":\"1.15em\",\"axis_line_color\":\"#E0E0E0\",\"axis_line_alpha\":0.4,\"major_tick_line_color\":\"#E0E0E0\",\"major_tick_line_alpha\":0.4,\"minor_tick_line_color\":\"#E0E0E0\",\"minor_tick_line_alpha\":0.4}}],\"center\":[{\"type\":\"object\",\"name\":\"Grid\",\"id\":\"0847a212-0c73-439b-b13e-a6c620fe9804\",\"attributes\":{\"axis\":{\"id\":\"0cf3f441-2899-482f-8c68-4be30dd4527d\"},\"grid_line_color\":\"#E0E0E0\",\"grid_line_alpha\":0.15}},{\"type\":\"object\",\"name\":\"Grid\",\"id\":\"607a58f8-4617-4a2f-886c-bc76002634e9\",\"attributes\":{\"dimension\":1,\"axis\":{\"id\":\"2a2e3cfc-62de-483c-a83c-7a1fdda99aa0\"},\"grid_line_color\":\"#E0E0E0\",\"grid_line_alpha\":0.15}},{\"type\":\"object\",\"name\":\"Legend\",\"id\":\"127e89e5-a34e-4e48-8227-ad387415996c\",\"attributes\":{\"border_line_alpha\":0.25,\"background_fill_color\":\"#505050\",\"background_fill_alpha\":0.25,\"label_text_color\":\"#E0E0E0\",\"label_text_font\":\"Josefin Sans\",\"label_text_font_size\":\"1.15em\",\"label_standoff\":8,\"spacing\":8,\"items\":[{\"type\":\"object\",\"name\":\"LegendItem\",\"id\":\"c3fa5165-4b8b-4c64-8bdc-786375e69019\",\"attributes\":{\"label\":{\"type\":\"value\",\"value\":\"Observations\"},\"renderers\":[{\"id\":\"10676eac-104d-4683-ae8e-8d3bbf54ee2a\"}]}}]}}],\"background_fill_color\":\"#0f0f0f\",\"background_fill_alpha\":0.9,\"border_fill_color\":\"#111111\",\"border_fill_alpha\":0.8}}]}}]}},{\"type\":\"object\",\"name\":\"panel.models.ace.AcePlot\",\"id\":\"3e382b03-be8b-499d-8784-6734701cdfbd\",\"attributes\":{\"js_property_callbacks\":{\"type\":\"map\",\"entries\":[[\"change:readonly\",[{\"type\":\"object\",\"name\":\"CustomJS\",\"id\":\"2439fd6e-1733-4c86-8716-836a9b89c207\",\"attributes\":{\"tags\":[[12319841440,[null,\"readonly\"],[null,\"disabled\"]]],\"args\":{\"type\":\"map\",\"entries\":[[\"bidirectional\",true],[\"properties\",{\"type\":\"map\",\"entries\":[[\"readonly\",\"disabled\"]]}],[\"source\",{\"id\":\"3e382b03-be8b-499d-8784-6734701cdfbd\"}],[\"target\",{\"id\":\"3e382b03-be8b-499d-8784-6734701cdfbd\"}]]},\"code\":\"\\n    var value = source['readonly'];\\n    value = value;\\n    value = value;\\n    try {\\n      var property = target.properties['disabled'];\\n      if (property !== undefined) { property.validate(value); }\\n    } catch(err) {\\n      console.log('WARNING: Could not set disabled on target, raised error: ' + err);\\n      return;\\n    }\\n    try {\\n      target['disabled'] = value;\\n    } catch(err) {\\n      console.log(err)\\n    }\\n    \"}}]],[\"change:disabled\",[{\"type\":\"object\",\"name\":\"CustomJS\",\"id\":\"b36d4fe3-eeb0-4dfa-813f-02e27ae08cc1\",\"attributes\":{\"tags\":[[12319841440,[null,\"readonly\"],[null,\"disabled\"]]],\"args\":{\"type\":\"map\",\"entries\":[[\"bidirectional\",true],[\"properties\",{\"type\":\"map\",\"entries\":[[\"readonly\",\"disabled\"]]}],[\"source\",{\"id\":\"3e382b03-be8b-499d-8784-6734701cdfbd\"}],[\"target\",{\"id\":\"3e382b03-be8b-499d-8784-6734701cdfbd\"}]]},\"code\":\"\\n    var value = source['disabled'];\\n    value = value;\\n    value = value;\\n    try {\\n      var property = target.properties['readonly'];\\n      if (property !== undefined) { property.validate(value); }\\n    } catch(err) {\\n      console.log('WARNING: Could not set readonly on target, raised error: ' + err);\\n      return;\\n    }\\n    try {\\n      target['readonly'] = value;\\n    } catch(err) {\\n      console.log(err)\\n    }\\n    \"}}]]]},\"stylesheets\":[\"\\n:host(.pn-loading.pn-arc):before, .pn-loading.pn-arc:before {\\n  background-image: url(\\\"data:image/svg+xml;base64,PHN2ZyB4bWxucz0iaHR0cDovL3d3dy53My5vcmcvMjAwMC9zdmciIHN0eWxlPSJtYXJnaW46IGF1dG87IGJhY2tncm91bmQ6IG5vbmU7IGRpc3BsYXk6IGJsb2NrOyBzaGFwZS1yZW5kZXJpbmc6IGF1dG87IiB2aWV3Qm94PSIwIDAgMTAwIDEwMCIgcHJlc2VydmVBc3BlY3RSYXRpbz0ieE1pZFlNaWQiPiAgPGNpcmNsZSBjeD0iNTAiIGN5PSI1MCIgZmlsbD0ibm9uZSIgc3Ryb2tlPSIjYzNjM2MzIiBzdHJva2Utd2lkdGg9IjEwIiByPSIzNSIgc3Ryb2tlLWRhc2hhcnJheT0iMTY0LjkzMzYxNDMxMzQ2NDE1IDU2Ljk3Nzg3MTQzNzgyMTM4Ij4gICAgPGFuaW1hdGVUcmFuc2Zvcm0gYXR0cmlidXRlTmFtZT0idHJhbnNmb3JtIiB0eXBlPSJyb3RhdGUiIHJlcGVhdENvdW50PSJpbmRlZmluaXRlIiBkdXI9IjFzIiB2YWx1ZXM9IjAgNTAgNTA7MzYwIDUwIDUwIiBrZXlUaW1lcz0iMDsxIj48L2FuaW1hdGVUcmFuc2Zvcm0+ICA8L2NpcmNsZT48L3N2Zz4=\\\");\\n  background-size: auto calc(min(50%, 400px));\\n}\",{\"id\":\"0d74ec2d-0222-48f9-a16d-6d93f2510a0e\"},{\"id\":\"3ced2e18-8f32-43e0-b13e-e70717bce838\"},{\"id\":\"dfc702c4-2bd3-4f5d-a844-0a7a0734b10e\"},{\"id\":\"1276758d-2c45-44a2-a150-d6ea81b28a6b\"}],\"width\":640,\"height\":150,\"margin\":[5,10],\"sizing_mode\":\"fixed\",\"align\":\"start\",\"code\":\"def polynomial(\\n        coefficients: jnp.ndarray,\\n        n_observations: int = 100) -> [jnp.ndarray, jnp.ndarray]:\\n    x = jnp.linspace(0, 1, n_observations)\\n    y = jnp.polyval(coefficients, x)\\n    return x, \",\"theme\":\"chaos\",\"filename\":\"\",\"language\":\"python\"}}]}},{\"type\":\"object\",\"name\":\"Spacer\",\"id\":\"37c5cc52-4a7e-4860-8f28-f86440906f8a\",\"attributes\":{\"name\":\"HSpacer00862\",\"stylesheets\":[\"\\n:host(.pn-loading.pn-arc):before, .pn-loading.pn-arc:before {\\n  background-image: url(\\\"data:image/svg+xml;base64,PHN2ZyB4bWxucz0iaHR0cDovL3d3dy53My5vcmcvMjAwMC9zdmciIHN0eWxlPSJtYXJnaW46IGF1dG87IGJhY2tncm91bmQ6IG5vbmU7IGRpc3BsYXk6IGJsb2NrOyBzaGFwZS1yZW5kZXJpbmc6IGF1dG87IiB2aWV3Qm94PSIwIDAgMTAwIDEwMCIgcHJlc2VydmVBc3BlY3RSYXRpbz0ieE1pZFlNaWQiPiAgPGNpcmNsZSBjeD0iNTAiIGN5PSI1MCIgZmlsbD0ibm9uZSIgc3Ryb2tlPSIjYzNjM2MzIiBzdHJva2Utd2lkdGg9IjEwIiByPSIzNSIgc3Ryb2tlLWRhc2hhcnJheT0iMTY0LjkzMzYxNDMxMzQ2NDE1IDU2Ljk3Nzg3MTQzNzgyMTM4Ij4gICAgPGFuaW1hdGVUcmFuc2Zvcm0gYXR0cmlidXRlTmFtZT0idHJhbnNmb3JtIiB0eXBlPSJyb3RhdGUiIHJlcGVhdENvdW50PSJpbmRlZmluaXRlIiBkdXI9IjFzIiB2YWx1ZXM9IjAgNTAgNTA7MzYwIDUwIDUwIiBrZXlUaW1lcz0iMDsxIj48L2FuaW1hdGVUcmFuc2Zvcm0+ICA8L2NpcmNsZT48L3N2Zz4=\\\");\\n  background-size: auto calc(min(50%, 400px));\\n}\",{\"id\":\"0d74ec2d-0222-48f9-a16d-6d93f2510a0e\"},{\"id\":\"3ced2e18-8f32-43e0-b13e-e70717bce838\"},{\"id\":\"dfc702c4-2bd3-4f5d-a844-0a7a0734b10e\"},{\"id\":\"1276758d-2c45-44a2-a150-d6ea81b28a6b\"}],\"margin\":0,\"sizing_mode\":\"stretch_width\",\"align\":\"start\"}}]}},{\"type\":\"object\",\"name\":\"panel.models.comm_manager.CommManager\",\"id\":\"bde25552-7070-40a7-857c-7e14982eb280\",\"attributes\":{\"plot_id\":\"5931001b-39ef-4bcc-bb21-981348c32ee8\",\"comm_id\":\"48dedecfb28f49a89b30b23e39ed8f2f\",\"client_comm_id\":\"cf414495072449529e5f5b9565e8a47e\"}},{\"type\":\"object\",\"name\":\"panel.models.location.Location\",\"id\":\"04417912-1844-4a76-b19e-fc25cef803e5\",\"attributes\":{\"reload\":false}}],\"defs\":[{\"type\":\"model\",\"name\":\"ReactiveHTML1\"},{\"type\":\"model\",\"name\":\"FlexBox1\",\"properties\":[{\"name\":\"align_content\",\"kind\":\"Any\",\"default\":\"flex-start\"},{\"name\":\"align_items\",\"kind\":\"Any\",\"default\":\"flex-start\"},{\"name\":\"flex_direction\",\"kind\":\"Any\",\"default\":\"row\"},{\"name\":\"flex_wrap\",\"kind\":\"Any\",\"default\":\"wrap\"},{\"name\":\"justify_content\",\"kind\":\"Any\",\"default\":\"flex-start\"}]},{\"type\":\"model\",\"name\":\"FloatPanel1\",\"properties\":[{\"name\":\"config\",\"kind\":\"Any\",\"default\":{\"type\":\"map\"}},{\"name\":\"contained\",\"kind\":\"Any\",\"default\":true},{\"name\":\"position\",\"kind\":\"Any\",\"default\":\"right-top\"},{\"name\":\"offsetx\",\"kind\":\"Any\",\"default\":null},{\"name\":\"offsety\",\"kind\":\"Any\",\"default\":null},{\"name\":\"theme\",\"kind\":\"Any\",\"default\":\"primary\"},{\"name\":\"status\",\"kind\":\"Any\",\"default\":\"normalized\"}]},{\"type\":\"model\",\"name\":\"GridStack1\",\"properties\":[{\"name\":\"mode\",\"kind\":\"Any\",\"default\":\"warn\"},{\"name\":\"ncols\",\"kind\":\"Any\",\"default\":null},{\"name\":\"nrows\",\"kind\":\"Any\",\"default\":null},{\"name\":\"allow_resize\",\"kind\":\"Any\",\"default\":true},{\"name\":\"allow_drag\",\"kind\":\"Any\",\"default\":true},{\"name\":\"state\",\"kind\":\"Any\",\"default\":[]}]},{\"type\":\"model\",\"name\":\"drag1\",\"properties\":[{\"name\":\"slider_width\",\"kind\":\"Any\",\"default\":5},{\"name\":\"slider_color\",\"kind\":\"Any\",\"default\":\"black\"},{\"name\":\"value\",\"kind\":\"Any\",\"default\":50}]},{\"type\":\"model\",\"name\":\"click1\",\"properties\":[{\"name\":\"terminal_output\",\"kind\":\"Any\",\"default\":\"\"},{\"name\":\"debug_name\",\"kind\":\"Any\",\"default\":\"\"},{\"name\":\"clears\",\"kind\":\"Any\",\"default\":0}]},{\"type\":\"model\",\"name\":\"FastWrapper1\",\"properties\":[{\"name\":\"object\",\"kind\":\"Any\",\"default\":null},{\"name\":\"style\",\"kind\":\"Any\",\"default\":null}]},{\"type\":\"model\",\"name\":\"NotificationAreaBase1\",\"properties\":[{\"name\":\"position\",\"kind\":\"Any\",\"default\":\"bottom-right\"},{\"name\":\"_clear\",\"kind\":\"Any\",\"default\":0}]},{\"type\":\"model\",\"name\":\"NotificationArea1\",\"properties\":[{\"name\":\"notifications\",\"kind\":\"Any\",\"default\":[]},{\"name\":\"position\",\"kind\":\"Any\",\"default\":\"bottom-right\"},{\"name\":\"_clear\",\"kind\":\"Any\",\"default\":0},{\"name\":\"types\",\"kind\":\"Any\",\"default\":[{\"type\":\"map\",\"entries\":[[\"type\",\"warning\"],[\"background\",\"#ffc107\"],[\"icon\",{\"type\":\"map\",\"entries\":[[\"className\",\"fas fa-exclamation-triangle\"],[\"tagName\",\"i\"],[\"color\",\"white\"]]}]]},{\"type\":\"map\",\"entries\":[[\"type\",\"info\"],[\"background\",\"#007bff\"],[\"icon\",{\"type\":\"map\",\"entries\":[[\"className\",\"fas fa-info-circle\"],[\"tagName\",\"i\"],[\"color\",\"white\"]]}]]}]}]},{\"type\":\"model\",\"name\":\"Notification\",\"properties\":[{\"name\":\"background\",\"kind\":\"Any\",\"default\":null},{\"name\":\"duration\",\"kind\":\"Any\",\"default\":3000},{\"name\":\"icon\",\"kind\":\"Any\",\"default\":null},{\"name\":\"message\",\"kind\":\"Any\",\"default\":\"\"},{\"name\":\"notification_type\",\"kind\":\"Any\",\"default\":null},{\"name\":\"_destroyed\",\"kind\":\"Any\",\"default\":false}]},{\"type\":\"model\",\"name\":\"TemplateActions1\",\"properties\":[{\"name\":\"open_modal\",\"kind\":\"Any\",\"default\":0},{\"name\":\"close_modal\",\"kind\":\"Any\",\"default\":0}]},{\"type\":\"model\",\"name\":\"BootstrapTemplateActions1\",\"properties\":[{\"name\":\"open_modal\",\"kind\":\"Any\",\"default\":0},{\"name\":\"close_modal\",\"kind\":\"Any\",\"default\":0}]},{\"type\":\"model\",\"name\":\"MaterialTemplateActions1\",\"properties\":[{\"name\":\"open_modal\",\"kind\":\"Any\",\"default\":0},{\"name\":\"close_modal\",\"kind\":\"Any\",\"default\":0}]}]}};\n",
       "  var render_items = [{\"docid\":\"d53e493d-6fbf-413e-a3e3-43ad7507671b\",\"roots\":{\"5931001b-39ef-4bcc-bb21-981348c32ee8\":\"d316f4cc-ed37-4148-922d-f418eba1c118\"},\"root_ids\":[\"5931001b-39ef-4bcc-bb21-981348c32ee8\"]}];\n",
       "  var docs = Object.values(docs_json)\n",
       "  if (!docs) {\n",
       "    return\n",
       "  }\n",
       "  const py_version = docs[0].version.replace('rc', '-rc.')\n",
       "  const is_dev = py_version.indexOf(\"+\") !== -1 || py_version.indexOf(\"-\") !== -1\n",
       "  function embed_document(root) {\n",
       "    var Bokeh = get_bokeh(root)\n",
       "    Bokeh.embed.embed_items_notebook(docs_json, render_items);\n",
       "    for (const render_item of render_items) {\n",
       "      for (const root_id of render_item.root_ids) {\n",
       "\tconst id_el = document.getElementById(root_id)\n",
       "\tif (id_el.children.length && (id_el.children[0].className === 'bk-root')) {\n",
       "\t  const root_el = id_el.children[0]\n",
       "\t  root_el.id = root_el.id + '-rendered'\n",
       "\t}\n",
       "      }\n",
       "    }\n",
       "  }\n",
       "  function get_bokeh(root) {\n",
       "    if (root.Bokeh === undefined) {\n",
       "      return null\n",
       "    } else if (root.Bokeh.version !== py_version && !is_dev) {\n",
       "      if (root.Bokeh.versions === undefined || !root.Bokeh.versions.has(py_version)) {\n",
       "\treturn null\n",
       "      }\n",
       "      return root.Bokeh.versions.get(py_version);\n",
       "    } else if (root.Bokeh.version === py_version) {\n",
       "      return root.Bokeh\n",
       "    }\n",
       "    return null\n",
       "  }\n",
       "  function is_loaded(root) {\n",
       "    var Bokeh = get_bokeh(root)\n",
       "    return (Bokeh != null && Bokeh.Panel !== undefined)\n",
       "  }\n",
       "  if (is_loaded(root)) {\n",
       "    embed_document(root);\n",
       "  } else {\n",
       "    var attempts = 0;\n",
       "    var timer = setInterval(function(root) {\n",
       "      if (is_loaded(root)) {\n",
       "        clearInterval(timer);\n",
       "        embed_document(root);\n",
       "      } else if (document.readyState == \"complete\") {\n",
       "        attempts++;\n",
       "        if (attempts > 200) {\n",
       "          clearInterval(timer);\n",
       "\t  var Bokeh = get_bokeh(root)\n",
       "\t  if (Bokeh == null || Bokeh.Panel == null) {\n",
       "            console.warn(\"Panel: ERROR: Unable to run Panel code because Bokeh or Panel library is missing\");\n",
       "\t  } else {\n",
       "\t    console.warn(\"Panel: WARNING: Attempting to render but not all required libraries could be resolved.\")\n",
       "\t    embed_document(root)\n",
       "\t  }\n",
       "        }\n",
       "      }\n",
       "    }, 25, root)\n",
       "  }\n",
       "})(window);</script>"
      ],
      "text/plain": [
       "Row\n",
       "    [0] HSpacer()\n",
       "    [1] Column\n",
       "        [0] Row\n",
       "            [0] Param(RegressionPolynomial, name='Problem parameters', widgets={})\n",
       "            [1] ParamMethod(method, _pane=Bokeh)\n",
       "        [1] CodeEditor(height=150, language='python', sizing_mode='fixed', theme='chaos', value='def polynomial(\\n        ..., width=640)\n",
       "    [2] HSpacer()"
      ]
     },
     "execution_count": 11,
     "metadata": {
      "application/vnd.holoviews_exec.v0+json": {
       "id": "5931001b-39ef-4bcc-bb21-981348c32ee8"
      }
     },
     "output_type": "execute_result"
    }
   ],
   "source": [
    "from cml.tasks import RegressionPolynomial\n",
    "explorer = RegressionPolynomial()\n",
    "explorer.render()"
   ]
  },
  {
   "cell_type": "markdown",
   "id": "130e198b-c792-4b16-86de-d3f415f907f6",
   "metadata": {},
   "source": [
    "We will also use the same interface principles in order to solve machine learning exercises, in which you are asked to fill in the code that performs the model definition or problem optimization."
   ]
  },
  {
   "cell_type": "code",
   "execution_count": null,
   "id": "78867593-6b0c-4960-9706-c674e20679f7",
   "metadata": {},
   "outputs": [],
   "source": [
    "import numpy as np\n",
    "import jax.numpy as jnp\n",
    "from sklearn.linear_model import LinearRegression\n",
    "from sklearn.preprocessing import PolynomialFeatures\n",
    "from sklearn.pipeline import make_pipeline\n",
    "from cml.tasks import RegressionPolynomialSolver\n",
    "explorer = RegressionPolynomialSolver()"
   ]
  },
  {
   "cell_type": "markdown",
   "id": "d9b17a56-12c1-48f9-ac76-1bb0e2f4c59f",
   "metadata": {},
   "source": [
    "As an example, here you can change the code for the solve function and re-evaluate the cell in order to test your code dynamically in a whole range of situations "
   ]
  },
  {
   "cell_type": "code",
   "execution_count": null,
   "id": "876a3a54-e123-42f1-8db7-d25dc92f1e0f",
   "metadata": {},
   "outputs": [
    {
     "data": {},
     "metadata": {},
     "output_type": "display_data"
    },
    {
     "data": {
      "application/vnd.holoviews_exec.v0+json": "",
      "text/html": [
       "<div id='8f17f76f-afbe-4c78-9cd9-b6b7678273e0'>\n",
       "  <div id=\"cd85990c-29df-49d5-9675-afee22f0fbfd\" data-root-id=\"8f17f76f-afbe-4c78-9cd9-b6b7678273e0\" style=\"display: contents;\"></div>\n",
       "</div>\n",
       "<script type=\"application/javascript\">(function(root) {\n",
       "  var docs_json = {\"e92e8c0b-7243-4e1d-b689-b0639800782d\":{\"version\":\"3.2.0\",\"title\":\"Bokeh Application\",\"roots\":[{\"type\":\"object\",\"name\":\"Row\",\"id\":\"8f17f76f-afbe-4c78-9cd9-b6b7678273e0\",\"attributes\":{\"name\":\"Row00969\",\"stylesheets\":[\"\\n:host(.pn-loading.pn-arc):before, .pn-loading.pn-arc:before {\\n  background-image: url(\\\"data:image/svg+xml;base64,PHN2ZyB4bWxucz0iaHR0cDovL3d3dy53My5vcmcvMjAwMC9zdmciIHN0eWxlPSJtYXJnaW46IGF1dG87IGJhY2tncm91bmQ6IG5vbmU7IGRpc3BsYXk6IGJsb2NrOyBzaGFwZS1yZW5kZXJpbmc6IGF1dG87IiB2aWV3Qm94PSIwIDAgMTAwIDEwMCIgcHJlc2VydmVBc3BlY3RSYXRpbz0ieE1pZFlNaWQiPiAgPGNpcmNsZSBjeD0iNTAiIGN5PSI1MCIgZmlsbD0ibm9uZSIgc3Ryb2tlPSIjYzNjM2MzIiBzdHJva2Utd2lkdGg9IjEwIiByPSIzNSIgc3Ryb2tlLWRhc2hhcnJheT0iMTY0LjkzMzYxNDMxMzQ2NDE1IDU2Ljk3Nzg3MTQzNzgyMTM4Ij4gICAgPGFuaW1hdGVUcmFuc2Zvcm0gYXR0cmlidXRlTmFtZT0idHJhbnNmb3JtIiB0eXBlPSJyb3RhdGUiIHJlcGVhdENvdW50PSJpbmRlZmluaXRlIiBkdXI9IjFzIiB2YWx1ZXM9IjAgNTAgNTA7MzYwIDUwIDUwIiBrZXlUaW1lcz0iMDsxIj48L2FuaW1hdGVUcmFuc2Zvcm0+ICA8L2NpcmNsZT48L3N2Zz4=\\\");\\n  background-size: auto calc(min(50%, 400px));\\n}\",{\"type\":\"object\",\"name\":\"ImportedStyleSheet\",\"id\":\"2952c4d5-6d53-49b0-8356-12d8144b8b7c\",\"attributes\":{\"url\":\"https://cdn.holoviz.org/panel/1.1.0/dist/css/loading.css\"}},{\"type\":\"object\",\"name\":\"ImportedStyleSheet\",\"id\":\"325b07d2-e1e6-4150-ad78-8b89b7946a6e\",\"attributes\":{\"url\":\"cml/cml.css\"}},{\"type\":\"object\",\"name\":\"ImportedStyleSheet\",\"id\":\"e671c545-fe3f-487e-8379-270460fa2f90\",\"attributes\":{\"url\":\"https://cdn.holoviz.org/panel/1.1.0/dist/css/listpanel.css\"}},{\"type\":\"object\",\"name\":\"ImportedStyleSheet\",\"id\":\"2c0d7a2c-44f7-4af6-b17c-f3acb55c58a1\",\"attributes\":{\"url\":\"https://cdn.holoviz.org/panel/1.1.0/dist/bundled/theme/default.css\"}},{\"type\":\"object\",\"name\":\"ImportedStyleSheet\",\"id\":\"2edbd365-3378-4b02-9e9b-506f53c273f2\",\"attributes\":{\"url\":\"https://cdn.holoviz.org/panel/1.1.0/dist/bundled/theme/native.css\"}}],\"margin\":0,\"sizing_mode\":\"stretch_width\",\"align\":\"start\",\"children\":[{\"type\":\"object\",\"name\":\"Spacer\",\"id\":\"231e5e45-5b1f-48fe-9583-15fe818a6868\",\"attributes\":{\"name\":\"HSpacer00888\",\"stylesheets\":[\"\\n:host(.pn-loading.pn-arc):before, .pn-loading.pn-arc:before {\\n  background-image: url(\\\"data:image/svg+xml;base64,PHN2ZyB4bWxucz0iaHR0cDovL3d3dy53My5vcmcvMjAwMC9zdmciIHN0eWxlPSJtYXJnaW46IGF1dG87IGJhY2tncm91bmQ6IG5vbmU7IGRpc3BsYXk6IGJsb2NrOyBzaGFwZS1yZW5kZXJpbmc6IGF1dG87IiB2aWV3Qm94PSIwIDAgMTAwIDEwMCIgcHJlc2VydmVBc3BlY3RSYXRpbz0ieE1pZFlNaWQiPiAgPGNpcmNsZSBjeD0iNTAiIGN5PSI1MCIgZmlsbD0ibm9uZSIgc3Ryb2tlPSIjYzNjM2MzIiBzdHJva2Utd2lkdGg9IjEwIiByPSIzNSIgc3Ryb2tlLWRhc2hhcnJheT0iMTY0LjkzMzYxNDMxMzQ2NDE1IDU2Ljk3Nzg3MTQzNzgyMTM4Ij4gICAgPGFuaW1hdGVUcmFuc2Zvcm0gYXR0cmlidXRlTmFtZT0idHJhbnNmb3JtIiB0eXBlPSJyb3RhdGUiIHJlcGVhdENvdW50PSJpbmRlZmluaXRlIiBkdXI9IjFzIiB2YWx1ZXM9IjAgNTAgNTA7MzYwIDUwIDUwIiBrZXlUaW1lcz0iMDsxIj48L2FuaW1hdGVUcmFuc2Zvcm0+ICA8L2NpcmNsZT48L3N2Zz4=\\\");\\n  background-size: auto calc(min(50%, 400px));\\n}\",{\"id\":\"2952c4d5-6d53-49b0-8356-12d8144b8b7c\"},{\"id\":\"325b07d2-e1e6-4150-ad78-8b89b7946a6e\"},{\"id\":\"2c0d7a2c-44f7-4af6-b17c-f3acb55c58a1\"},{\"id\":\"2edbd365-3378-4b02-9e9b-506f53c273f2\"}],\"margin\":0,\"sizing_mode\":\"stretch_width\",\"align\":\"start\"}},{\"type\":\"object\",\"name\":\"Column\",\"id\":\"5d4c4f6d-30bc-4d90-9d23-9084e079c758\",\"attributes\":{\"name\":\"Column00963\",\"stylesheets\":[\"\\n:host(.pn-loading.pn-arc):before, .pn-loading.pn-arc:before {\\n  background-image: url(\\\"data:image/svg+xml;base64,PHN2ZyB4bWxucz0iaHR0cDovL3d3dy53My5vcmcvMjAwMC9zdmciIHN0eWxlPSJtYXJnaW46IGF1dG87IGJhY2tncm91bmQ6IG5vbmU7IGRpc3BsYXk6IGJsb2NrOyBzaGFwZS1yZW5kZXJpbmc6IGF1dG87IiB2aWV3Qm94PSIwIDAgMTAwIDEwMCIgcHJlc2VydmVBc3BlY3RSYXRpbz0ieE1pZFlNaWQiPiAgPGNpcmNsZSBjeD0iNTAiIGN5PSI1MCIgZmlsbD0ibm9uZSIgc3Ryb2tlPSIjYzNjM2MzIiBzdHJva2Utd2lkdGg9IjEwIiByPSIzNSIgc3Ryb2tlLWRhc2hhcnJheT0iMTY0LjkzMzYxNDMxMzQ2NDE1IDU2Ljk3Nzg3MTQzNzgyMTM4Ij4gICAgPGFuaW1hdGVUcmFuc2Zvcm0gYXR0cmlidXRlTmFtZT0idHJhbnNmb3JtIiB0eXBlPSJyb3RhdGUiIHJlcGVhdENvdW50PSJpbmRlZmluaXRlIiBkdXI9IjFzIiB2YWx1ZXM9IjAgNTAgNTA7MzYwIDUwIDUwIiBrZXlUaW1lcz0iMDsxIj48L2FuaW1hdGVUcmFuc2Zvcm0+ICA8L2NpcmNsZT48L3N2Zz4=\\\");\\n  background-size: auto calc(min(50%, 400px));\\n}\",{\"id\":\"2952c4d5-6d53-49b0-8356-12d8144b8b7c\"},{\"id\":\"325b07d2-e1e6-4150-ad78-8b89b7946a6e\"},{\"id\":\"e671c545-fe3f-487e-8379-270460fa2f90\"},{\"id\":\"2c0d7a2c-44f7-4af6-b17c-f3acb55c58a1\"},{\"id\":\"2edbd365-3378-4b02-9e9b-506f53c273f2\"}],\"margin\":0,\"align\":\"start\",\"children\":[{\"type\":\"object\",\"name\":\"Row\",\"id\":\"5229d8a5-268b-44dd-8988-02a4a95016d7\",\"attributes\":{\"name\":\"Row00956\",\"stylesheets\":[\"\\n:host(.pn-loading.pn-arc):before, .pn-loading.pn-arc:before {\\n  background-image: url(\\\"data:image/svg+xml;base64,PHN2ZyB4bWxucz0iaHR0cDovL3d3dy53My5vcmcvMjAwMC9zdmciIHN0eWxlPSJtYXJnaW46IGF1dG87IGJhY2tncm91bmQ6IG5vbmU7IGRpc3BsYXk6IGJsb2NrOyBzaGFwZS1yZW5kZXJpbmc6IGF1dG87IiB2aWV3Qm94PSIwIDAgMTAwIDEwMCIgcHJlc2VydmVBc3BlY3RSYXRpbz0ieE1pZFlNaWQiPiAgPGNpcmNsZSBjeD0iNTAiIGN5PSI1MCIgZmlsbD0ibm9uZSIgc3Ryb2tlPSIjYzNjM2MzIiBzdHJva2Utd2lkdGg9IjEwIiByPSIzNSIgc3Ryb2tlLWRhc2hhcnJheT0iMTY0LjkzMzYxNDMxMzQ2NDE1IDU2Ljk3Nzg3MTQzNzgyMTM4Ij4gICAgPGFuaW1hdGVUcmFuc2Zvcm0gYXR0cmlidXRlTmFtZT0idHJhbnNmb3JtIiB0eXBlPSJyb3RhdGUiIHJlcGVhdENvdW50PSJpbmRlZmluaXRlIiBkdXI9IjFzIiB2YWx1ZXM9IjAgNTAgNTA7MzYwIDUwIDUwIiBrZXlUaW1lcz0iMDsxIj48L2FuaW1hdGVUcmFuc2Zvcm0+ICA8L2NpcmNsZT48L3N2Zz4=\\\");\\n  background-size: auto calc(min(50%, 400px));\\n}\",{\"id\":\"2952c4d5-6d53-49b0-8356-12d8144b8b7c\"},{\"id\":\"325b07d2-e1e6-4150-ad78-8b89b7946a6e\"},{\"id\":\"e671c545-fe3f-487e-8379-270460fa2f90\"},{\"id\":\"2c0d7a2c-44f7-4af6-b17c-f3acb55c58a1\"},{\"id\":\"2edbd365-3378-4b02-9e9b-506f53c273f2\"}],\"margin\":0,\"align\":\"start\",\"children\":[{\"type\":\"object\",\"name\":\"Column\",\"id\":\"11109e39-255d-4be4-9de2-a26278e074d5\",\"attributes\":{\"name\":\"Problem parameters\",\"stylesheets\":[\"\\n:host(.pn-loading.pn-arc):before, .pn-loading.pn-arc:before {\\n  background-image: url(\\\"data:image/svg+xml;base64,PHN2ZyB4bWxucz0iaHR0cDovL3d3dy53My5vcmcvMjAwMC9zdmciIHN0eWxlPSJtYXJnaW46IGF1dG87IGJhY2tncm91bmQ6IG5vbmU7IGRpc3BsYXk6IGJsb2NrOyBzaGFwZS1yZW5kZXJpbmc6IGF1dG87IiB2aWV3Qm94PSIwIDAgMTAwIDEwMCIgcHJlc2VydmVBc3BlY3RSYXRpbz0ieE1pZFlNaWQiPiAgPGNpcmNsZSBjeD0iNTAiIGN5PSI1MCIgZmlsbD0ibm9uZSIgc3Ryb2tlPSIjYzNjM2MzIiBzdHJva2Utd2lkdGg9IjEwIiByPSIzNSIgc3Ryb2tlLWRhc2hhcnJheT0iMTY0LjkzMzYxNDMxMzQ2NDE1IDU2Ljk3Nzg3MTQzNzgyMTM4Ij4gICAgPGFuaW1hdGVUcmFuc2Zvcm0gYXR0cmlidXRlTmFtZT0idHJhbnNmb3JtIiB0eXBlPSJyb3RhdGUiIHJlcGVhdENvdW50PSJpbmRlZmluaXRlIiBkdXI9IjFzIiB2YWx1ZXM9IjAgNTAgNTA7MzYwIDUwIDUwIiBrZXlUaW1lcz0iMDsxIj48L2FuaW1hdGVUcmFuc2Zvcm0+ICA8L2NpcmNsZT48L3N2Zz4=\\\");\\n  background-size: auto calc(min(50%, 400px));\\n}\",{\"id\":\"2952c4d5-6d53-49b0-8356-12d8144b8b7c\"},{\"id\":\"325b07d2-e1e6-4150-ad78-8b89b7946a6e\"},{\"id\":\"e671c545-fe3f-487e-8379-270460fa2f90\"},{\"id\":\"2c0d7a2c-44f7-4af6-b17c-f3acb55c58a1\"},{\"id\":\"2edbd365-3378-4b02-9e9b-506f53c273f2\"}],\"margin\":[5,10],\"align\":\"start\",\"children\":[{\"type\":\"object\",\"name\":\"Div\",\"id\":\"908312ff-28b9-4f9a-8bb2-055d2c5a442d\",\"attributes\":{\"stylesheets\":[\"\\n:host(.pn-loading.pn-arc):before, .pn-loading.pn-arc:before {\\n  background-image: url(\\\"data:image/svg+xml;base64,PHN2ZyB4bWxucz0iaHR0cDovL3d3dy53My5vcmcvMjAwMC9zdmciIHN0eWxlPSJtYXJnaW46IGF1dG87IGJhY2tncm91bmQ6IG5vbmU7IGRpc3BsYXk6IGJsb2NrOyBzaGFwZS1yZW5kZXJpbmc6IGF1dG87IiB2aWV3Qm94PSIwIDAgMTAwIDEwMCIgcHJlc2VydmVBc3BlY3RSYXRpbz0ieE1pZFlNaWQiPiAgPGNpcmNsZSBjeD0iNTAiIGN5PSI1MCIgZmlsbD0ibm9uZSIgc3Ryb2tlPSIjYzNjM2MzIiBzdHJva2Utd2lkdGg9IjEwIiByPSIzNSIgc3Ryb2tlLWRhc2hhcnJheT0iMTY0LjkzMzYxNDMxMzQ2NDE1IDU2Ljk3Nzg3MTQzNzgyMTM4Ij4gICAgPGFuaW1hdGVUcmFuc2Zvcm0gYXR0cmlidXRlTmFtZT0idHJhbnNmb3JtIiB0eXBlPSJyb3RhdGUiIHJlcGVhdENvdW50PSJpbmRlZmluaXRlIiBkdXI9IjFzIiB2YWx1ZXM9IjAgNTAgNTA7MzYwIDUwIDUwIiBrZXlUaW1lcz0iMDsxIj48L2FuaW1hdGVUcmFuc2Zvcm0+ICA8L2NpcmNsZT48L3N2Zz4=\\\");\\n  background-size: auto calc(min(50%, 400px));\\n}\",{\"id\":\"2952c4d5-6d53-49b0-8356-12d8144b8b7c\"},{\"id\":\"325b07d2-e1e6-4150-ad78-8b89b7946a6e\"},{\"id\":\"2c0d7a2c-44f7-4af6-b17c-f3acb55c58a1\"},{\"id\":\"2edbd365-3378-4b02-9e9b-506f53c273f2\"}],\"margin\":[5,10],\"align\":\"start\",\"text\":\"<b>Problem parameters</b>\"}},{\"type\":\"object\",\"name\":\"Slider\",\"id\":\"6b6e3c28-a903-4aa2-92bd-a1f3c667e70c\",\"attributes\":{\"stylesheets\":[\"\\n:host(.pn-loading.pn-arc):before, .pn-loading.pn-arc:before {\\n  background-image: url(\\\"data:image/svg+xml;base64,PHN2ZyB4bWxucz0iaHR0cDovL3d3dy53My5vcmcvMjAwMC9zdmciIHN0eWxlPSJtYXJnaW46IGF1dG87IGJhY2tncm91bmQ6IG5vbmU7IGRpc3BsYXk6IGJsb2NrOyBzaGFwZS1yZW5kZXJpbmc6IGF1dG87IiB2aWV3Qm94PSIwIDAgMTAwIDEwMCIgcHJlc2VydmVBc3BlY3RSYXRpbz0ieE1pZFlNaWQiPiAgPGNpcmNsZSBjeD0iNTAiIGN5PSI1MCIgZmlsbD0ibm9uZSIgc3Ryb2tlPSIjYzNjM2MzIiBzdHJva2Utd2lkdGg9IjEwIiByPSIzNSIgc3Ryb2tlLWRhc2hhcnJheT0iMTY0LjkzMzYxNDMxMzQ2NDE1IDU2Ljk3Nzg3MTQzNzgyMTM4Ij4gICAgPGFuaW1hdGVUcmFuc2Zvcm0gYXR0cmlidXRlTmFtZT0idHJhbnNmb3JtIiB0eXBlPSJyb3RhdGUiIHJlcGVhdENvdW50PSJpbmRlZmluaXRlIiBkdXI9IjFzIiB2YWx1ZXM9IjAgNTAgNTA7MzYwIDUwIDUwIiBrZXlUaW1lcz0iMDsxIj48L2FuaW1hdGVUcmFuc2Zvcm0+ICA8L2NpcmNsZT48L3N2Zz4=\\\");\\n  background-size: auto calc(min(50%, 400px));\\n}\",{\"id\":\"2952c4d5-6d53-49b0-8356-12d8144b8b7c\"},{\"id\":\"325b07d2-e1e6-4150-ad78-8b89b7946a6e\"},{\"id\":\"2c0d7a2c-44f7-4af6-b17c-f3acb55c58a1\"},{\"id\":\"2edbd365-3378-4b02-9e9b-506f53c273f2\"}],\"margin\":[5,10],\"align\":\"start\",\"title\":\"Number observations\",\"start\":10,\"end\":1000,\"value\":100}},{\"type\":\"object\",\"name\":\"Slider\",\"id\":\"6d9e0bc5-859b-4cf5-87a7-fd4920962b31\",\"attributes\":{\"stylesheets\":[\"\\n:host(.pn-loading.pn-arc):before, .pn-loading.pn-arc:before {\\n  background-image: url(\\\"data:image/svg+xml;base64,PHN2ZyB4bWxucz0iaHR0cDovL3d3dy53My5vcmcvMjAwMC9zdmciIHN0eWxlPSJtYXJnaW46IGF1dG87IGJhY2tncm91bmQ6IG5vbmU7IGRpc3BsYXk6IGJsb2NrOyBzaGFwZS1yZW5kZXJpbmc6IGF1dG87IiB2aWV3Qm94PSIwIDAgMTAwIDEwMCIgcHJlc2VydmVBc3BlY3RSYXRpbz0ieE1pZFlNaWQiPiAgPGNpcmNsZSBjeD0iNTAiIGN5PSI1MCIgZmlsbD0ibm9uZSIgc3Ryb2tlPSIjYzNjM2MzIiBzdHJva2Utd2lkdGg9IjEwIiByPSIzNSIgc3Ryb2tlLWRhc2hhcnJheT0iMTY0LjkzMzYxNDMxMzQ2NDE1IDU2Ljk3Nzg3MTQzNzgyMTM4Ij4gICAgPGFuaW1hdGVUcmFuc2Zvcm0gYXR0cmlidXRlTmFtZT0idHJhbnNmb3JtIiB0eXBlPSJyb3RhdGUiIHJlcGVhdENvdW50PSJpbmRlZmluaXRlIiBkdXI9IjFzIiB2YWx1ZXM9IjAgNTAgNTA7MzYwIDUwIDUwIiBrZXlUaW1lcz0iMDsxIj48L2FuaW1hdGVUcmFuc2Zvcm0+ICA8L2NpcmNsZT48L3N2Zz4=\\\");\\n  background-size: auto calc(min(50%, 400px));\\n}\",{\"id\":\"2952c4d5-6d53-49b0-8356-12d8144b8b7c\"},{\"id\":\"325b07d2-e1e6-4150-ad78-8b89b7946a6e\"},{\"id\":\"2c0d7a2c-44f7-4af6-b17c-f3acb55c58a1\"},{\"id\":\"2edbd365-3378-4b02-9e9b-506f53c273f2\"}],\"margin\":[5,10],\"align\":\"start\",\"title\":\"Noise level\",\"start\":0.0,\"end\":5.0,\"value\":0.1,\"step\":0.1}},{\"type\":\"object\",\"name\":\"Checkbox\",\"id\":\"b78ee728-18cf-4711-9a20-36cd45e0322a\",\"attributes\":{\"stylesheets\":[\"\\n:host(.pn-loading.pn-arc):before, .pn-loading.pn-arc:before {\\n  background-image: url(\\\"data:image/svg+xml;base64,PHN2ZyB4bWxucz0iaHR0cDovL3d3dy53My5vcmcvMjAwMC9zdmciIHN0eWxlPSJtYXJnaW46IGF1dG87IGJhY2tncm91bmQ6IG5vbmU7IGRpc3BsYXk6IGJsb2NrOyBzaGFwZS1yZW5kZXJpbmc6IGF1dG87IiB2aWV3Qm94PSIwIDAgMTAwIDEwMCIgcHJlc2VydmVBc3BlY3RSYXRpbz0ieE1pZFlNaWQiPiAgPGNpcmNsZSBjeD0iNTAiIGN5PSI1MCIgZmlsbD0ibm9uZSIgc3Ryb2tlPSIjYzNjM2MzIiBzdHJva2Utd2lkdGg9IjEwIiByPSIzNSIgc3Ryb2tlLWRhc2hhcnJheT0iMTY0LjkzMzYxNDMxMzQ2NDE1IDU2Ljk3Nzg3MTQzNzgyMTM4Ij4gICAgPGFuaW1hdGVUcmFuc2Zvcm0gYXR0cmlidXRlTmFtZT0idHJhbnNmb3JtIiB0eXBlPSJyb3RhdGUiIHJlcGVhdENvdW50PSJpbmRlZmluaXRlIiBkdXI9IjFzIiB2YWx1ZXM9IjAgNTAgNTA7MzYwIDUwIDUwIiBrZXlUaW1lcz0iMDsxIj48L2FuaW1hdGVUcmFuc2Zvcm0+ICA8L2NpcmNsZT48L3N2Zz4=\\\");\\n  background-size: auto calc(min(50%, 400px));\\n}\",{\"id\":\"2952c4d5-6d53-49b0-8356-12d8144b8b7c\"},{\"id\":\"325b07d2-e1e6-4150-ad78-8b89b7946a6e\"},{\"id\":\"2c0d7a2c-44f7-4af6-b17c-f3acb55c58a1\"},{\"id\":\"2edbd365-3378-4b02-9e9b-506f53c273f2\"}],\"margin\":[5,10],\"align\":\"start\",\"label\":\"Ground truth\"}},{\"type\":\"object\",\"name\":\"Checkbox\",\"id\":\"17aea5af-c236-446b-9253-b1c6a86ac9a0\",\"attributes\":{\"stylesheets\":[\"\\n:host(.pn-loading.pn-arc):before, .pn-loading.pn-arc:before {\\n  background-image: url(\\\"data:image/svg+xml;base64,PHN2ZyB4bWxucz0iaHR0cDovL3d3dy53My5vcmcvMjAwMC9zdmciIHN0eWxlPSJtYXJnaW46IGF1dG87IGJhY2tncm91bmQ6IG5vbmU7IGRpc3BsYXk6IGJsb2NrOyBzaGFwZS1yZW5kZXJpbmc6IGF1dG87IiB2aWV3Qm94PSIwIDAgMTAwIDEwMCIgcHJlc2VydmVBc3BlY3RSYXRpbz0ieE1pZFlNaWQiPiAgPGNpcmNsZSBjeD0iNTAiIGN5PSI1MCIgZmlsbD0ibm9uZSIgc3Ryb2tlPSIjYzNjM2MzIiBzdHJva2Utd2lkdGg9IjEwIiByPSIzNSIgc3Ryb2tlLWRhc2hhcnJheT0iMTY0LjkzMzYxNDMxMzQ2NDE1IDU2Ljk3Nzg3MTQzNzgyMTM4Ij4gICAgPGFuaW1hdGVUcmFuc2Zvcm0gYXR0cmlidXRlTmFtZT0idHJhbnNmb3JtIiB0eXBlPSJyb3RhdGUiIHJlcGVhdENvdW50PSJpbmRlZmluaXRlIiBkdXI9IjFzIiB2YWx1ZXM9IjAgNTAgNTA7MzYwIDUwIDUwIiBrZXlUaW1lcz0iMDsxIj48L2FuaW1hdGVUcmFuc2Zvcm0+ICA8L2NpcmNsZT48L3N2Zz4=\\\");\\n  background-size: auto calc(min(50%, 400px));\\n}\",{\"id\":\"2952c4d5-6d53-49b0-8356-12d8144b8b7c\"},{\"id\":\"325b07d2-e1e6-4150-ad78-8b89b7946a6e\"},{\"id\":\"2c0d7a2c-44f7-4af6-b17c-f3acb55c58a1\"},{\"id\":\"2edbd365-3378-4b02-9e9b-506f53c273f2\"}],\"margin\":[5,10],\"align\":\"start\",\"label\":\"Error\"}},{\"type\":\"object\",\"name\":\"Slider\",\"id\":\"74d9f4d1-0855-4dd0-9f6e-173c4f8d9137\",\"attributes\":{\"stylesheets\":[\"\\n:host(.pn-loading.pn-arc):before, .pn-loading.pn-arc:before {\\n  background-image: url(\\\"data:image/svg+xml;base64,PHN2ZyB4bWxucz0iaHR0cDovL3d3dy53My5vcmcvMjAwMC9zdmciIHN0eWxlPSJtYXJnaW46IGF1dG87IGJhY2tncm91bmQ6IG5vbmU7IGRpc3BsYXk6IGJsb2NrOyBzaGFwZS1yZW5kZXJpbmc6IGF1dG87IiB2aWV3Qm94PSIwIDAgMTAwIDEwMCIgcHJlc2VydmVBc3BlY3RSYXRpbz0ieE1pZFlNaWQiPiAgPGNpcmNsZSBjeD0iNTAiIGN5PSI1MCIgZmlsbD0ibm9uZSIgc3Ryb2tlPSIjYzNjM2MzIiBzdHJva2Utd2lkdGg9IjEwIiByPSIzNSIgc3Ryb2tlLWRhc2hhcnJheT0iMTY0LjkzMzYxNDMxMzQ2NDE1IDU2Ljk3Nzg3MTQzNzgyMTM4Ij4gICAgPGFuaW1hdGVUcmFuc2Zvcm0gYXR0cmlidXRlTmFtZT0idHJhbnNmb3JtIiB0eXBlPSJyb3RhdGUiIHJlcGVhdENvdW50PSJpbmRlZmluaXRlIiBkdXI9IjFzIiB2YWx1ZXM9IjAgNTAgNTA7MzYwIDUwIDUwIiBrZXlUaW1lcz0iMDsxIj48L2FuaW1hdGVUcmFuc2Zvcm0+ICA8L2NpcmNsZT48L3N2Zz4=\\\");\\n  background-size: auto calc(min(50%, 400px));\\n}\",{\"id\":\"2952c4d5-6d53-49b0-8356-12d8144b8b7c\"},{\"id\":\"325b07d2-e1e6-4150-ad78-8b89b7946a6e\"},{\"id\":\"2c0d7a2c-44f7-4af6-b17c-f3acb55c58a1\"},{\"id\":\"2edbd365-3378-4b02-9e9b-506f53c273f2\"}],\"margin\":[5,10],\"align\":\"start\",\"title\":\"X 2\",\"start\":-5.0,\"end\":5.0,\"value\":-2.0,\"step\":0.1}},{\"type\":\"object\",\"name\":\"Slider\",\"id\":\"20fc52b9-d8b4-4289-bf85-0cb7dff99ae3\",\"attributes\":{\"stylesheets\":[\"\\n:host(.pn-loading.pn-arc):before, .pn-loading.pn-arc:before {\\n  background-image: url(\\\"data:image/svg+xml;base64,PHN2ZyB4bWxucz0iaHR0cDovL3d3dy53My5vcmcvMjAwMC9zdmciIHN0eWxlPSJtYXJnaW46IGF1dG87IGJhY2tncm91bmQ6IG5vbmU7IGRpc3BsYXk6IGJsb2NrOyBzaGFwZS1yZW5kZXJpbmc6IGF1dG87IiB2aWV3Qm94PSIwIDAgMTAwIDEwMCIgcHJlc2VydmVBc3BlY3RSYXRpbz0ieE1pZFlNaWQiPiAgPGNpcmNsZSBjeD0iNTAiIGN5PSI1MCIgZmlsbD0ibm9uZSIgc3Ryb2tlPSIjYzNjM2MzIiBzdHJva2Utd2lkdGg9IjEwIiByPSIzNSIgc3Ryb2tlLWRhc2hhcnJheT0iMTY0LjkzMzYxNDMxMzQ2NDE1IDU2Ljk3Nzg3MTQzNzgyMTM4Ij4gICAgPGFuaW1hdGVUcmFuc2Zvcm0gYXR0cmlidXRlTmFtZT0idHJhbnNmb3JtIiB0eXBlPSJyb3RhdGUiIHJlcGVhdENvdW50PSJpbmRlZmluaXRlIiBkdXI9IjFzIiB2YWx1ZXM9IjAgNTAgNTA7MzYwIDUwIDUwIiBrZXlUaW1lcz0iMDsxIj48L2FuaW1hdGVUcmFuc2Zvcm0+ICA8L2NpcmNsZT48L3N2Zz4=\\\");\\n  background-size: auto calc(min(50%, 400px));\\n}\",{\"id\":\"2952c4d5-6d53-49b0-8356-12d8144b8b7c\"},{\"id\":\"325b07d2-e1e6-4150-ad78-8b89b7946a6e\"},{\"id\":\"2c0d7a2c-44f7-4af6-b17c-f3acb55c58a1\"},{\"id\":\"2edbd365-3378-4b02-9e9b-506f53c273f2\"}],\"margin\":[5,10],\"align\":\"start\",\"title\":\"X 1\",\"start\":-5.0,\"end\":5.0,\"value\":0.0,\"step\":0.1}},{\"type\":\"object\",\"name\":\"Slider\",\"id\":\"7b5e9679-d6e0-47bc-bcbb-ffd3810095ed\",\"attributes\":{\"stylesheets\":[\"\\n:host(.pn-loading.pn-arc):before, .pn-loading.pn-arc:before {\\n  background-image: url(\\\"data:image/svg+xml;base64,PHN2ZyB4bWxucz0iaHR0cDovL3d3dy53My5vcmcvMjAwMC9zdmciIHN0eWxlPSJtYXJnaW46IGF1dG87IGJhY2tncm91bmQ6IG5vbmU7IGRpc3BsYXk6IGJsb2NrOyBzaGFwZS1yZW5kZXJpbmc6IGF1dG87IiB2aWV3Qm94PSIwIDAgMTAwIDEwMCIgcHJlc2VydmVBc3BlY3RSYXRpbz0ieE1pZFlNaWQiPiAgPGNpcmNsZSBjeD0iNTAiIGN5PSI1MCIgZmlsbD0ibm9uZSIgc3Ryb2tlPSIjYzNjM2MzIiBzdHJva2Utd2lkdGg9IjEwIiByPSIzNSIgc3Ryb2tlLWRhc2hhcnJheT0iMTY0LjkzMzYxNDMxMzQ2NDE1IDU2Ljk3Nzg3MTQzNzgyMTM4Ij4gICAgPGFuaW1hdGVUcmFuc2Zvcm0gYXR0cmlidXRlTmFtZT0idHJhbnNmb3JtIiB0eXBlPSJyb3RhdGUiIHJlcGVhdENvdW50PSJpbmRlZmluaXRlIiBkdXI9IjFzIiB2YWx1ZXM9IjAgNTAgNTA7MzYwIDUwIDUwIiBrZXlUaW1lcz0iMDsxIj48L2FuaW1hdGVUcmFuc2Zvcm0+ICA8L2NpcmNsZT48L3N2Zz4=\\\");\\n  background-size: auto calc(min(50%, 400px));\\n}\",{\"id\":\"2952c4d5-6d53-49b0-8356-12d8144b8b7c\"},{\"id\":\"325b07d2-e1e6-4150-ad78-8b89b7946a6e\"},{\"id\":\"2c0d7a2c-44f7-4af6-b17c-f3acb55c58a1\"},{\"id\":\"2edbd365-3378-4b02-9e9b-506f53c273f2\"}],\"margin\":[5,10],\"align\":\"start\",\"title\":\"X 0\",\"start\":-5.0,\"end\":5.0,\"value\":1.0,\"step\":0.1}},{\"type\":\"object\",\"name\":\"Slider\",\"id\":\"7bc96539-58d8-4340-9432-166782750fc6\",\"attributes\":{\"stylesheets\":[\"\\n:host(.pn-loading.pn-arc):before, .pn-loading.pn-arc:before {\\n  background-image: url(\\\"data:image/svg+xml;base64,PHN2ZyB4bWxucz0iaHR0cDovL3d3dy53My5vcmcvMjAwMC9zdmciIHN0eWxlPSJtYXJnaW46IGF1dG87IGJhY2tncm91bmQ6IG5vbmU7IGRpc3BsYXk6IGJsb2NrOyBzaGFwZS1yZW5kZXJpbmc6IGF1dG87IiB2aWV3Qm94PSIwIDAgMTAwIDEwMCIgcHJlc2VydmVBc3BlY3RSYXRpbz0ieE1pZFlNaWQiPiAgPGNpcmNsZSBjeD0iNTAiIGN5PSI1MCIgZmlsbD0ibm9uZSIgc3Ryb2tlPSIjYzNjM2MzIiBzdHJva2Utd2lkdGg9IjEwIiByPSIzNSIgc3Ryb2tlLWRhc2hhcnJheT0iMTY0LjkzMzYxNDMxMzQ2NDE1IDU2Ljk3Nzg3MTQzNzgyMTM4Ij4gICAgPGFuaW1hdGVUcmFuc2Zvcm0gYXR0cmlidXRlTmFtZT0idHJhbnNmb3JtIiB0eXBlPSJyb3RhdGUiIHJlcGVhdENvdW50PSJpbmRlZmluaXRlIiBkdXI9IjFzIiB2YWx1ZXM9IjAgNTAgNTA7MzYwIDUwIDUwIiBrZXlUaW1lcz0iMDsxIj48L2FuaW1hdGVUcmFuc2Zvcm0+ICA8L2NpcmNsZT48L3N2Zz4=\\\");\\n  background-size: auto calc(min(50%, 400px));\\n}\",{\"id\":\"2952c4d5-6d53-49b0-8356-12d8144b8b7c\"},{\"id\":\"325b07d2-e1e6-4150-ad78-8b89b7946a6e\"},{\"id\":\"2c0d7a2c-44f7-4af6-b17c-f3acb55c58a1\"},{\"id\":\"2edbd365-3378-4b02-9e9b-506f53c273f2\"}],\"margin\":[5,10],\"align\":\"start\",\"title\":\"Degree\",\"start\":1,\"end\":30,\"value\":1}}]}},{\"type\":\"object\",\"name\":\"Row\",\"id\":\"0ddfc1cc-9055-426b-95ea-c55320c6faff\",\"attributes\":{\"name\":\"Row00947\",\"stylesheets\":[\"\\n:host(.pn-loading.pn-arc):before, .pn-loading.pn-arc:before {\\n  background-image: url(\\\"data:image/svg+xml;base64,PHN2ZyB4bWxucz0iaHR0cDovL3d3dy53My5vcmcvMjAwMC9zdmciIHN0eWxlPSJtYXJnaW46IGF1dG87IGJhY2tncm91bmQ6IG5vbmU7IGRpc3BsYXk6IGJsb2NrOyBzaGFwZS1yZW5kZXJpbmc6IGF1dG87IiB2aWV3Qm94PSIwIDAgMTAwIDEwMCIgcHJlc2VydmVBc3BlY3RSYXRpbz0ieE1pZFlNaWQiPiAgPGNpcmNsZSBjeD0iNTAiIGN5PSI1MCIgZmlsbD0ibm9uZSIgc3Ryb2tlPSIjYzNjM2MzIiBzdHJva2Utd2lkdGg9IjEwIiByPSIzNSIgc3Ryb2tlLWRhc2hhcnJheT0iMTY0LjkzMzYxNDMxMzQ2NDE1IDU2Ljk3Nzg3MTQzNzgyMTM4Ij4gICAgPGFuaW1hdGVUcmFuc2Zvcm0gYXR0cmlidXRlTmFtZT0idHJhbnNmb3JtIiB0eXBlPSJyb3RhdGUiIHJlcGVhdENvdW50PSJpbmRlZmluaXRlIiBkdXI9IjFzIiB2YWx1ZXM9IjAgNTAgNTA7MzYwIDUwIDUwIiBrZXlUaW1lcz0iMDsxIj48L2FuaW1hdGVUcmFuc2Zvcm0+ICA8L2NpcmNsZT48L3N2Zz4=\\\");\\n  background-size: auto calc(min(50%, 400px));\\n}\",{\"id\":\"2952c4d5-6d53-49b0-8356-12d8144b8b7c\"},{\"id\":\"325b07d2-e1e6-4150-ad78-8b89b7946a6e\"},{\"id\":\"e671c545-fe3f-487e-8379-270460fa2f90\"},{\"id\":\"2c0d7a2c-44f7-4af6-b17c-f3acb55c58a1\"},{\"id\":\"2edbd365-3378-4b02-9e9b-506f53c273f2\"}],\"margin\":0,\"align\":\"start\",\"children\":[{\"type\":\"object\",\"name\":\"Figure\",\"id\":\"c56aa7e7-40a7-4aec-bf63-39ce809483ce\",\"attributes\":{\"height\":450,\"x_range\":{\"type\":\"object\",\"name\":\"DataRange1d\",\"id\":\"59fc60c0-4be8-4d87-82f7-65092f8635e5\"},\"y_range\":{\"type\":\"object\",\"name\":\"DataRange1d\",\"id\":\"7c2e289b-8464-4bf8-958a-7d838ca4e93e\"},\"x_scale\":{\"type\":\"object\",\"name\":\"LinearScale\",\"id\":\"013891de-14eb-47e9-a3b9-625822773883\"},\"y_scale\":{\"type\":\"object\",\"name\":\"LinearScale\",\"id\":\"ea8b7d26-75df-4b3f-a03e-5246322a5344\"},\"title\":{\"type\":\"object\",\"name\":\"Title\",\"id\":\"e29f5ec9-a461-49f5-a37a-7cb047421c90\",\"attributes\":{\"text\":\"Polynomial regression problem\",\"text_color\":\"#E0E0E0\",\"text_font\":\"Josefin Sans\",\"text_font_size\":\"2.1em\"}},\"outline_line_color\":\"#E0E0E0\",\"outline_line_alpha\":0.25,\"outline_line_width\":3,\"renderers\":[{\"type\":\"object\",\"name\":\"GlyphRenderer\",\"id\":\"d6159e44-47a5-438b-997e-c134096ceb1f\",\"attributes\":{\"data_source\":{\"type\":\"object\",\"name\":\"ColumnDataSource\",\"id\":\"14bc41ac-6183-421f-833f-ce667548bb8b\",\"attributes\":{\"selected\":{\"type\":\"object\",\"name\":\"Selection\",\"id\":\"9c2f96bb-5a2e-461c-93ab-92feb94078ad\",\"attributes\":{\"indices\":[],\"line_indices\":[]}},\"selection_policy\":{\"type\":\"object\",\"name\":\"UnionRenderers\",\"id\":\"615edee5-f3f6-4176-9c19-e8c9dfcc31c7\"},\"data\":{\"type\":\"map\",\"entries\":[[\"x\",{\"type\":\"ndarray\",\"array\":{\"type\":\"bytes\",\"data\":\"AAAAALV+JTy1fqU8ED74PLV+JT1i3k49ED54Pd7OkD21fqU9jC66PWLezj05juM9ED74PfN2Bj7ezhA+yiYbPrV+JT6g1i8+jC46PneGRD5i3k4+TjZZPjmOYz4k5m0+ED54Pv1KgT7zdoY+6aKLPt7OkD7U+pU+yiabPr9SoD61fqU+q6qqPqDWrz6WArU+jC66PoFavz53hsQ+bbLJPmLezj5YCtQ+TjbZPkNi3j45juM+L7roPiTm7T4aEvM+ED74PgVq/T79SgE/+OADP/N2Bj/uDAk/6aILP+Q4Dj/ezhA/2WQTP9T6FT/PkBg/yiYbP8W8HT+/UiA/uugiP7V+JT+wFCg/q6oqP6VALT+g1i8/m2wyP5YCNT+RmDc/jC46P4bEPD+BWj8/fPBBP3eGRD9yHEc/bbJJP2dITD9i3k4/XXRRP1gKVD9ToFY/TjZZP0jMWz9DYl4/PvhgPzmOYz80JGY/L7poPylQaz8k5m0/H3xwPxoScz8VqHU/ED54PwrUej8Fan0/AACAPw==\"},\"shape\":[100],\"dtype\":\"float32\",\"order\":\"little\"}],[\"y\",{\"type\":\"ndarray\",\"array\":{\"type\":\"bytes\",\"data\":\"IDeMP+jsbz+WJYM/l/uKP8uxfD8FqmU/PvZrP7IOgD8tbYY/x62CP2aJdT9BXoA/bD5kP4LkXj94Vns/cRZkP5Zjgj94L2w/oMl2P8LMcT9h1GM/rzt+Pwojdj8q3Gg/Lk9gPyZ6VT8ewVQ/3QpvP8PtRT8ANkw/lPFhPyK3ZT9bOEc/oQ83P3bXOT8nVjY/mm5HP60+Ij9kwEs/KNcrP1O0Kj84JRE/p8MdP54yEj8i2TE/Wd0MP7eLBz/fyxg/rf4XPxtK2j7sLuU+WWfCPtzztz7ISeA+TIP3PoRXuj7Osao+EkKcPguepD7g5ZQ+RuSKPk7ZNT5ElWI+rdgoPuQbaD6RKR0+wUcyPiLLGz765ws+fab3PfDJt7sxGIK9BsiEPL40s73X3S6+H1oSvpyODL7GUx6+q4WOvhqpnb4rA8K+6szHvjh6kL5ufKS+14T6vm8E/b4i+wG/WJUcv+11I7+2mS+/2JIcv2vUN7+t+jS/Fl03vz9pZr/lBFq/Md9Hv2DCbL9Wn4C/dJJ4vw==\"},\"shape\":[100],\"dtype\":\"float32\",\"order\":\"little\"}]]}}},\"view\":{\"type\":\"object\",\"name\":\"CDSView\",\"id\":\"cb9fa509-7770-473a-bf80-dcb4b9c419f5\",\"attributes\":{\"filter\":{\"type\":\"object\",\"name\":\"AllIndices\",\"id\":\"108435ae-69e4-49bf-9b3e-bf8ac53124f1\"}}},\"glyph\":{\"type\":\"object\",\"name\":\"Circle\",\"id\":\"da2eb118-4439-45d1-9b54-28d09c985349\",\"attributes\":{\"x\":{\"type\":\"field\",\"field\":\"x\"},\"y\":{\"type\":\"field\",\"field\":\"y\"},\"size\":{\"type\":\"value\",\"value\":10},\"line_color\":{\"type\":\"value\",\"value\":\"white\"},\"line_alpha\":{\"type\":\"value\",\"value\":0.25},\"fill_color\":{\"type\":\"value\",\"value\":\"midnightblue\"},\"fill_alpha\":{\"type\":\"value\",\"value\":0.25},\"hatch_alpha\":{\"type\":\"value\",\"value\":0.25}}},\"selection_glyph\":{\"type\":\"object\",\"name\":\"Circle\",\"id\":\"12ab57bd-2465-4416-9522-72fcc5de58e6\",\"attributes\":{\"line_color\":{\"type\":\"value\",\"value\":\"white\"},\"fill_color\":{\"type\":\"value\",\"value\":\"red\"},\"fill_alpha\":{\"type\":\"value\",\"value\":0.8}}},\"nonselection_glyph\":{\"type\":\"object\",\"name\":\"Circle\",\"id\":\"03ce3f7b-2919-43fa-ad0e-232144121695\",\"attributes\":{\"line_color\":{\"type\":\"value\",\"value\":\"white\"},\"fill_color\":{\"type\":\"value\",\"value\":\"midnightblue\"},\"fill_alpha\":{\"type\":\"value\",\"value\":0.5}}},\"hover_glyph\":{\"type\":\"object\",\"name\":\"Circle\",\"id\":\"e68165d7-290b-4826-86dc-21f2718345c7\",\"attributes\":{\"x\":{\"type\":\"field\",\"field\":\"x\"},\"y\":{\"type\":\"field\",\"field\":\"y\"},\"size\":{\"type\":\"value\",\"value\":10},\"line_color\":{\"type\":\"value\",\"value\":\"white\"},\"line_alpha\":{\"type\":\"value\",\"value\":0.5},\"fill_color\":{\"type\":\"value\",\"value\":\"red\"},\"fill_alpha\":{\"type\":\"value\",\"value\":0.5},\"hatch_alpha\":{\"type\":\"value\",\"value\":0.5}}},\"muted_glyph\":{\"type\":\"object\",\"name\":\"Circle\",\"id\":\"5b4979a2-ac91-4c18-8df5-3d13323251d6\",\"attributes\":{\"x\":{\"type\":\"field\",\"field\":\"x\"},\"y\":{\"type\":\"field\",\"field\":\"y\"},\"size\":{\"type\":\"value\",\"value\":10},\"line_color\":{\"type\":\"value\",\"value\":\"white\"},\"line_alpha\":{\"type\":\"value\",\"value\":0.2},\"fill_color\":{\"type\":\"value\",\"value\":\"midnightblue\"},\"fill_alpha\":{\"type\":\"value\",\"value\":0.2},\"hatch_alpha\":{\"type\":\"value\",\"value\":0.2}}}}},{\"type\":\"object\",\"name\":\"GlyphRenderer\",\"id\":\"6a901d28-e40f-455c-896e-b08b8a3d3860\",\"attributes\":{\"data_source\":{\"type\":\"object\",\"name\":\"ColumnDataSource\",\"id\":\"60071505-1115-4ccd-8957-e59e0470daea\",\"attributes\":{\"selected\":{\"type\":\"object\",\"name\":\"Selection\",\"id\":\"38934e50-882c-412a-890b-650be34ee2f6\",\"attributes\":{\"indices\":[],\"line_indices\":[]}},\"selection_policy\":{\"type\":\"object\",\"name\":\"UnionRenderers\",\"id\":\"44624666-f475-4348-8df0-007dea183fa6\"},\"data\":{\"type\":\"map\",\"entries\":[[\"x\",{\"type\":\"ndarray\",\"array\":{\"type\":\"bytes\",\"data\":\"AAAAAM+ppDvPqSQ8tv52PM+ppDxD1M08tv72PJUUED3PqSQ9CT85PUPUTT19aWI9tv52PfjJhT2VFJA9Ml+aPc+ppD1s9K49CT+5PaaJwz1D1M094B7YPX1p4j0atOw9tv72PaqkAD74yQU+R+8KPpUUED7kORU+Ml8aPoGEHz7PqSQ+Hc8pPmz0Lj66GTQ+CT85PldkPj6miUM+9K5IPkPUTT6R+VI+4B5YPi5EXT59aWI+y45nPhq0bD5o2XE+tv52PgUkfD6qpIA+UTeDPvjJhT6fXIg+R++KPu6BjT6VFJA+PKeSPuQ5lT6LzJc+Ml+aPtnxnD6BhJ8+KBeiPs+ppD52PKc+Hc+pPsVhrD5s9K4+E4exProZtD5irLY+CT+5PrDRuz5XZL4+//bAPqaJwz5NHMY+9K7IPpxByz5D1M0+6mbQPpH50j44jNU+4B7YPoex2j4uRN0+1dbfPn1p4j4k/OQ+y47nPnIh6j4atOw+wUbvPmjZ8T4PbPQ+tv72Pl6R+T4FJPw+rLb+PqqkAD/97QE/UTcDP6WABD/4yQU/TBMHP59cCD/zpQk/R+8KP5o4DD/ugQ0/QssOP5UUED/pXRE/PKcSP5DwEz/kORU/N4MWP4vMFz/eFRk/Ml8aP4aoGz/Z8Rw/LTseP4GEHz/UzSA/KBciP3tgIz/PqSQ/I/MlP3Y8Jz/KhSg/Hc8pP3EYKz/FYSw/GKstP2z0Lj/APTA/E4cxP2fQMj+6GTQ/DmM1P2KsNj+19Tc/CT85P1yIOj+w0Ts/BBs9P1dkPj+rrT8///ZAP1JAQj+miUM/+dJEP00cRj+hZUc/9K5IP0j4ST+cQUs/74pMP0PUTT+WHU8/6mZQPz6wUT+R+VI/5UJUPziMVT+M1VY/4B5YPzNoWT+HsVo/2/pbPy5EXT+CjV4/1dZfPykgYT99aWI/0LJjPyT8ZD93RWY/y45nPx/YaD9yIWo/xmprPxq0bD9t/W0/wUZvPxSQcD9o2XE/vCJzPw9sdD9jtXU/tv52PwpIeD9ekXk/sdp6PwUkfD9ZbX0/rLZ+PwAAgD8=\"},\"shape\":[200],\"dtype\":\"float32\",\"order\":\"little\"}],[\"y\",{\"type\":\"ndarray\",\"array\":{\"type\":\"bytes\",\"data\":\"qCmqPx7gqD+Ulqc/CU2mP38DpT/1uaM/a3CiP+AmoT9W3Z8/zJOeP0JKnT+3AJw/LbeaP6NtmT8ZJJg/jtqWPwSRlT96R5Q/8P2SP2W0kT/bapA/USGPP8fXjT88jow/skSLPyj7iT+esYg/FGiHP4kehj//1IQ/dYuDP+pBgj9g+IA/rF1/P5jKfD+EN3o/bqR3P1oRdT9GfnI/MutvPxxYbT8IxWo/9DFoP+CeZT/KC2M/tnhgP6LlXT+OUls/eb9YP2QsVj9QmVM/OwZRPydzTj8T4Es//kxJP+m5Rj/VJkQ/wZNBP6wAPz+XbTw/g9o5P29HNz9atDQ/RSEyPzGOLz8d+yw/CWgqP/TUJz/fQSU/y64iP7cbID+iiB0/jfUaP3liGD9lzxU/UDwTPzupED8nFg4/E4MLP/7vCD/pXAY/1ckDP8E2AT9aR/0+LiH4Pgb78j7e1O0+tq7oPoqI4z5iYt4+OjzZPhIW1D7m784+vsnJPpajxD5ufb8+RFe6PhoxtT7yCrA+yuSqPqC+pT54mKA+THKbPiRMlj78JZE+1P+LPqzZhj6As4E+sBp5PmDObj4IgmQ+uDVaPmjpTz4YnUU+yFA7PnAEMT4guCY+0GscPngfEj4w0wc+sA37PRB15j1w3NE9wEO9PSCrqD2AEpQ9oPN+PYDCVT0gkSw94F8DPUBdtDwA9UM8AIT5OgCVBbwALZW8gI/nvCD5HL1gKka9oFtvvYBGjL0Q36C9wHe1vWAQyr0Aqd69sEHzvSDtA754OQ6+0IUYvhjSIr5wHi2+wGo3vhC3Qb5oA0y+sE9WvgicYL5g6Gq+qDR1vgCBf76o5oS+0AyKvvwyj74gWZS+TH+Zvnilnr6cy6O+yPGovuwXrr4YPrO+RGS4vmiKvb6UsMK+wNbHvuT8zL4QI9K+NEnXvmBv3L6MleG+sLvmvtzh674ECPG+LC72vlhU+74+PQC/VNACv2pjBb989ge/kokKv6YcDb+6rw+/0EISv+LVFL/4aBe/DPwZvyCPHL82Ih+/SrUhv15IJL902ya/hm4pv5wBLL8=\"},\"shape\":[200],\"dtype\":\"float32\",\"order\":\"little\"}]]}}},\"view\":{\"type\":\"object\",\"name\":\"CDSView\",\"id\":\"db6ab782-037c-4922-ba2c-a6fde3c08b77\",\"attributes\":{\"filter\":{\"type\":\"object\",\"name\":\"AllIndices\",\"id\":\"31b43cd7-ec28-46aa-a57d-a5792bb9aaf1\"}}},\"glyph\":{\"type\":\"object\",\"name\":\"Line\",\"id\":\"c87cac44-f974-4b7a-8ef9-073fbc2ded14\",\"attributes\":{\"x\":{\"type\":\"field\",\"field\":\"x\"},\"y\":{\"type\":\"field\",\"field\":\"y\"},\"line_color\":\"red\",\"line_alpha\":0.7,\"line_width\":4}},\"nonselection_glyph\":{\"type\":\"object\",\"name\":\"Line\",\"id\":\"6508b622-7977-4c68-a434-61dd2586758d\",\"attributes\":{\"x\":{\"type\":\"field\",\"field\":\"x\"},\"y\":{\"type\":\"field\",\"field\":\"y\"},\"line_color\":\"red\",\"line_alpha\":0.1,\"line_width\":4}},\"muted_glyph\":{\"type\":\"object\",\"name\":\"Line\",\"id\":\"01407657-b7f4-4e04-a9d2-58b90f6a94d3\",\"attributes\":{\"x\":{\"type\":\"field\",\"field\":\"x\"},\"y\":{\"type\":\"field\",\"field\":\"y\"},\"line_color\":\"red\",\"line_alpha\":0.2,\"line_width\":4}}}}],\"toolbar\":{\"type\":\"object\",\"name\":\"Toolbar\",\"id\":\"36cc6012-1cbd-4be0-97a9-e43492fdd5d4\",\"attributes\":{\"tools\":[{\"type\":\"object\",\"name\":\"PanTool\",\"id\":\"2a0c6b38-1548-4556-bf68-1f1c2ea3f761\"},{\"type\":\"object\",\"name\":\"WheelZoomTool\",\"id\":\"e6b98691-16bf-4ccc-8a67-878ffaba8492\"},{\"type\":\"object\",\"name\":\"BoxZoomTool\",\"id\":\"fbf6dbd2-9dea-4d85-810c-4a922877c875\",\"attributes\":{\"overlay\":{\"type\":\"object\",\"name\":\"BoxAnnotation\",\"id\":\"897f457b-3c44-495a-84f3-1785f93538dc\",\"attributes\":{\"syncable\":false,\"level\":\"overlay\",\"visible\":false,\"left_units\":\"canvas\",\"right_units\":\"canvas\",\"bottom_units\":\"canvas\",\"top_units\":\"canvas\",\"line_color\":\"black\",\"line_alpha\":1.0,\"line_width\":2,\"line_dash\":[4,4],\"fill_color\":\"lightgrey\",\"fill_alpha\":0.5}}}},{\"type\":\"object\",\"name\":\"SaveTool\",\"id\":\"a216ce29-3a15-4d41-a198-c1196647c8bf\"},{\"type\":\"object\",\"name\":\"ResetTool\",\"id\":\"f5e4d021-417c-4914-831d-c0811409b193\"},{\"type\":\"object\",\"name\":\"HelpTool\",\"id\":\"6e4cf33d-e9fa-4d28-a8e3-03e7d3e99dc1\"},{\"type\":\"object\",\"name\":\"HoverTool\",\"id\":\"cc931b62-0fdd-417e-81dd-2604cf9c0c00\",\"attributes\":{\"renderers\":[{\"id\":\"d6159e44-47a5-438b-997e-c134096ceb1f\"}],\"tooltips\":null,\"mode\":\"vline\"}},{\"type\":\"object\",\"name\":\"BoxSelectTool\",\"id\":\"6ddf09c3-ab1c-4c70-a108-e3d41ae3655e\",\"attributes\":{\"renderers\":[{\"id\":\"d6159e44-47a5-438b-997e-c134096ceb1f\"}],\"mode\":\"append\",\"overlay\":{\"type\":\"object\",\"name\":\"BoxAnnotation\",\"id\":\"5e4627b7-450c-4414-8218-637d4a26ae0b\",\"attributes\":{\"syncable\":false,\"level\":\"overlay\",\"visible\":false,\"editable\":true,\"line_color\":\"black\",\"line_alpha\":1.0,\"line_width\":2,\"line_dash\":[4,4],\"fill_color\":\"lightgrey\",\"fill_alpha\":0.5}}}}]}},\"toolbar_location\":null,\"left\":[{\"type\":\"object\",\"name\":\"LinearAxis\",\"id\":\"eda62312-3136-4837-8278-af581ffc37e1\",\"attributes\":{\"ticker\":{\"type\":\"object\",\"name\":\"BasicTicker\",\"id\":\"857b2ba8-29d9-44b6-9dd6-4f001443d0fb\",\"attributes\":{\"mantissas\":[1,2,5]}},\"formatter\":{\"type\":\"object\",\"name\":\"BasicTickFormatter\",\"id\":\"90173e9b-dfa6-4184-afd5-e8e93c61d758\"},\"axis_label\":\"$$\\\\color{white} -2.0x^2 + 0.0x^1 + 1.0x^0$$\",\"axis_label_standoff\":10,\"axis_label_text_color\":\"#FFFFFF\",\"axis_label_text_font\":\"Josefin Sans\",\"axis_label_text_font_size\":\"1.9em\",\"axis_label_text_font_style\":\"bold\",\"major_label_policy\":{\"type\":\"object\",\"name\":\"AllLabels\",\"id\":\"db3720a1-fa0d-4c2b-9fe5-f33c085c37cb\"},\"major_label_text_color\":\"#E0E0E0\",\"major_label_text_font\":\"Josefin Sans\",\"major_label_text_font_size\":\"1.15em\",\"axis_line_color\":\"#E0E0E0\",\"axis_line_alpha\":0.4,\"major_tick_line_color\":\"#E0E0E0\",\"major_tick_line_alpha\":0.4,\"minor_tick_line_color\":\"#E0E0E0\",\"minor_tick_line_alpha\":0.4}}],\"below\":[{\"type\":\"object\",\"name\":\"LinearAxis\",\"id\":\"b8ac1232-dffe-42e4-be30-deb75eec8f24\",\"attributes\":{\"ticker\":{\"type\":\"object\",\"name\":\"BasicTicker\",\"id\":\"22b296f1-56e2-47c9-9b64-a50e2dd26762\",\"attributes\":{\"mantissas\":[1,2,5]}},\"formatter\":{\"type\":\"object\",\"name\":\"BasicTickFormatter\",\"id\":\"3e9c6eea-fa40-4a74-9126-1e964162c2da\"},\"axis_label\":\"$$\\\\color{white} x$$\",\"axis_label_standoff\":10,\"axis_label_text_color\":\"#FFFFFF\",\"axis_label_text_font\":\"Josefin Sans\",\"axis_label_text_font_size\":\"1.9em\",\"axis_label_text_font_style\":\"bold\",\"major_label_policy\":{\"type\":\"object\",\"name\":\"AllLabels\",\"id\":\"e33c80b0-57ce-483f-9edf-6b871bb15688\"},\"major_label_text_color\":\"#E0E0E0\",\"major_label_text_font\":\"Josefin Sans\",\"major_label_text_font_size\":\"1.15em\",\"axis_line_color\":\"#E0E0E0\",\"axis_line_alpha\":0.4,\"major_tick_line_color\":\"#E0E0E0\",\"major_tick_line_alpha\":0.4,\"minor_tick_line_color\":\"#E0E0E0\",\"minor_tick_line_alpha\":0.4}}],\"center\":[{\"type\":\"object\",\"name\":\"Grid\",\"id\":\"856347f0-c474-416a-ae85-fadadf027ed5\",\"attributes\":{\"axis\":{\"id\":\"b8ac1232-dffe-42e4-be30-deb75eec8f24\"},\"grid_line_color\":\"#E0E0E0\",\"grid_line_alpha\":0.15}},{\"type\":\"object\",\"name\":\"Grid\",\"id\":\"3b1438d7-9314-4f1b-8eb0-76c9f551a906\",\"attributes\":{\"dimension\":1,\"axis\":{\"id\":\"eda62312-3136-4837-8278-af581ffc37e1\"},\"grid_line_color\":\"#E0E0E0\",\"grid_line_alpha\":0.15}},{\"type\":\"object\",\"name\":\"Legend\",\"id\":\"b628660e-0f18-47d4-9ccf-8e9481ed68b8\",\"attributes\":{\"border_line_alpha\":0.25,\"background_fill_color\":\"#505050\",\"background_fill_alpha\":0.25,\"label_text_color\":\"#E0E0E0\",\"label_text_font\":\"Josefin Sans\",\"label_text_font_size\":\"1.15em\",\"label_standoff\":8,\"spacing\":8,\"items\":[{\"type\":\"object\",\"name\":\"LegendItem\",\"id\":\"959e7964-a82c-4ec7-9510-a1dfb4a2cb29\",\"attributes\":{\"label\":{\"type\":\"value\",\"value\":\"Observations\"},\"renderers\":[{\"id\":\"d6159e44-47a5-438b-997e-c134096ceb1f\"}]}}]}}],\"background_fill_color\":\"#0f0f0f\",\"background_fill_alpha\":0.9,\"border_fill_color\":\"#111111\",\"border_fill_alpha\":0.8}}]}}]}},{\"type\":\"object\",\"name\":\"panel.models.ace.AcePlot\",\"id\":\"240745cc-19f0-45ce-b86a-d4ebf045d63c\",\"attributes\":{\"js_property_callbacks\":{\"type\":\"map\",\"entries\":[[\"change:readonly\",[{\"type\":\"object\",\"name\":\"CustomJS\",\"id\":\"eef93521-52b2-4a40-8cfa-25a77bc8a1c2\",\"attributes\":{\"tags\":[[12342192640,[null,\"readonly\"],[null,\"disabled\"]]],\"args\":{\"type\":\"map\",\"entries\":[[\"bidirectional\",true],[\"properties\",{\"type\":\"map\",\"entries\":[[\"readonly\",\"disabled\"]]}],[\"source\",{\"id\":\"240745cc-19f0-45ce-b86a-d4ebf045d63c\"}],[\"target\",{\"id\":\"240745cc-19f0-45ce-b86a-d4ebf045d63c\"}]]},\"code\":\"\\n    var value = source['readonly'];\\n    value = value;\\n    value = value;\\n    try {\\n      var property = target.properties['disabled'];\\n      if (property !== undefined) { property.validate(value); }\\n    } catch(err) {\\n      console.log('WARNING: Could not set disabled on target, raised error: ' + err);\\n      return;\\n    }\\n    try {\\n      target['disabled'] = value;\\n    } catch(err) {\\n      console.log(err)\\n    }\\n    \"}}]],[\"change:disabled\",[{\"type\":\"object\",\"name\":\"CustomJS\",\"id\":\"7ee75cb8-0312-4cb9-9193-76ce382f913c\",\"attributes\":{\"tags\":[[12342192640,[null,\"readonly\"],[null,\"disabled\"]]],\"args\":{\"type\":\"map\",\"entries\":[[\"bidirectional\",true],[\"properties\",{\"type\":\"map\",\"entries\":[[\"readonly\",\"disabled\"]]}],[\"source\",{\"id\":\"240745cc-19f0-45ce-b86a-d4ebf045d63c\"}],[\"target\",{\"id\":\"240745cc-19f0-45ce-b86a-d4ebf045d63c\"}]]},\"code\":\"\\n    var value = source['disabled'];\\n    value = value;\\n    value = value;\\n    try {\\n      var property = target.properties['readonly'];\\n      if (property !== undefined) { property.validate(value); }\\n    } catch(err) {\\n      console.log('WARNING: Could not set readonly on target, raised error: ' + err);\\n      return;\\n    }\\n    try {\\n      target['readonly'] = value;\\n    } catch(err) {\\n      console.log(err)\\n    }\\n    \"}}]]]},\"stylesheets\":[\"\\n:host(.pn-loading.pn-arc):before, .pn-loading.pn-arc:before {\\n  background-image: url(\\\"data:image/svg+xml;base64,PHN2ZyB4bWxucz0iaHR0cDovL3d3dy53My5vcmcvMjAwMC9zdmciIHN0eWxlPSJtYXJnaW46IGF1dG87IGJhY2tncm91bmQ6IG5vbmU7IGRpc3BsYXk6IGJsb2NrOyBzaGFwZS1yZW5kZXJpbmc6IGF1dG87IiB2aWV3Qm94PSIwIDAgMTAwIDEwMCIgcHJlc2VydmVBc3BlY3RSYXRpbz0ieE1pZFlNaWQiPiAgPGNpcmNsZSBjeD0iNTAiIGN5PSI1MCIgZmlsbD0ibm9uZSIgc3Ryb2tlPSIjYzNjM2MzIiBzdHJva2Utd2lkdGg9IjEwIiByPSIzNSIgc3Ryb2tlLWRhc2hhcnJheT0iMTY0LjkzMzYxNDMxMzQ2NDE1IDU2Ljk3Nzg3MTQzNzgyMTM4Ij4gICAgPGFuaW1hdGVUcmFuc2Zvcm0gYXR0cmlidXRlTmFtZT0idHJhbnNmb3JtIiB0eXBlPSJyb3RhdGUiIHJlcGVhdENvdW50PSJpbmRlZmluaXRlIiBkdXI9IjFzIiB2YWx1ZXM9IjAgNTAgNTA7MzYwIDUwIDUwIiBrZXlUaW1lcz0iMDsxIj48L2FuaW1hdGVUcmFuc2Zvcm0+ICA8L2NpcmNsZT48L3N2Zz4=\\\");\\n  background-size: auto calc(min(50%, 400px));\\n}\",{\"id\":\"2952c4d5-6d53-49b0-8356-12d8144b8b7c\"},{\"id\":\"325b07d2-e1e6-4150-ad78-8b89b7946a6e\"},{\"id\":\"2c0d7a2c-44f7-4af6-b17c-f3acb55c58a1\"},{\"id\":\"2edbd365-3378-4b02-9e9b-506f53c273f2\"}],\"width\":640,\"height\":150,\"margin\":[5,10],\"sizing_mode\":\"fixed\",\"align\":\"start\",\"code\":\"def polynomial(\\n        coefficients: jnp.ndarray,\\n        n_observations: int = 100) -> [jnp.ndarray, jnp.ndarray]:\\n    x = jnp.linspace(0, 1, n_observations)\\n    y = jnp.polyval(coefficients, x)\\n    return x, \",\"theme\":\"chaos\",\"filename\":\"\",\"language\":\"python\"}}]}},{\"type\":\"object\",\"name\":\"Spacer\",\"id\":\"f6423de7-ac33-4c3a-8047-7bc31518c032\",\"attributes\":{\"name\":\"HSpacer00966\",\"stylesheets\":[\"\\n:host(.pn-loading.pn-arc):before, .pn-loading.pn-arc:before {\\n  background-image: url(\\\"data:image/svg+xml;base64,PHN2ZyB4bWxucz0iaHR0cDovL3d3dy53My5vcmcvMjAwMC9zdmciIHN0eWxlPSJtYXJnaW46IGF1dG87IGJhY2tncm91bmQ6IG5vbmU7IGRpc3BsYXk6IGJsb2NrOyBzaGFwZS1yZW5kZXJpbmc6IGF1dG87IiB2aWV3Qm94PSIwIDAgMTAwIDEwMCIgcHJlc2VydmVBc3BlY3RSYXRpbz0ieE1pZFlNaWQiPiAgPGNpcmNsZSBjeD0iNTAiIGN5PSI1MCIgZmlsbD0ibm9uZSIgc3Ryb2tlPSIjYzNjM2MzIiBzdHJva2Utd2lkdGg9IjEwIiByPSIzNSIgc3Ryb2tlLWRhc2hhcnJheT0iMTY0LjkzMzYxNDMxMzQ2NDE1IDU2Ljk3Nzg3MTQzNzgyMTM4Ij4gICAgPGFuaW1hdGVUcmFuc2Zvcm0gYXR0cmlidXRlTmFtZT0idHJhbnNmb3JtIiB0eXBlPSJyb3RhdGUiIHJlcGVhdENvdW50PSJpbmRlZmluaXRlIiBkdXI9IjFzIiB2YWx1ZXM9IjAgNTAgNTA7MzYwIDUwIDUwIiBrZXlUaW1lcz0iMDsxIj48L2FuaW1hdGVUcmFuc2Zvcm0+ICA8L2NpcmNsZT48L3N2Zz4=\\\");\\n  background-size: auto calc(min(50%, 400px));\\n}\",{\"id\":\"2952c4d5-6d53-49b0-8356-12d8144b8b7c\"},{\"id\":\"325b07d2-e1e6-4150-ad78-8b89b7946a6e\"},{\"id\":\"2c0d7a2c-44f7-4af6-b17c-f3acb55c58a1\"},{\"id\":\"2edbd365-3378-4b02-9e9b-506f53c273f2\"}],\"margin\":0,\"sizing_mode\":\"stretch_width\",\"align\":\"start\"}}]}},{\"type\":\"object\",\"name\":\"panel.models.comm_manager.CommManager\",\"id\":\"166781c1-fa52-4217-8f93-d670ec207bb5\",\"attributes\":{\"plot_id\":\"8f17f76f-afbe-4c78-9cd9-b6b7678273e0\",\"comm_id\":\"ce33275331cf421c8730782ae2f8dbb3\",\"client_comm_id\":\"fd747a8a78234fada2bfefb090e19d7c\"}}],\"defs\":[{\"type\":\"model\",\"name\":\"ReactiveHTML1\"},{\"type\":\"model\",\"name\":\"FlexBox1\",\"properties\":[{\"name\":\"align_content\",\"kind\":\"Any\",\"default\":\"flex-start\"},{\"name\":\"align_items\",\"kind\":\"Any\",\"default\":\"flex-start\"},{\"name\":\"flex_direction\",\"kind\":\"Any\",\"default\":\"row\"},{\"name\":\"flex_wrap\",\"kind\":\"Any\",\"default\":\"wrap\"},{\"name\":\"justify_content\",\"kind\":\"Any\",\"default\":\"flex-start\"}]},{\"type\":\"model\",\"name\":\"FloatPanel1\",\"properties\":[{\"name\":\"config\",\"kind\":\"Any\",\"default\":{\"type\":\"map\"}},{\"name\":\"contained\",\"kind\":\"Any\",\"default\":true},{\"name\":\"position\",\"kind\":\"Any\",\"default\":\"right-top\"},{\"name\":\"offsetx\",\"kind\":\"Any\",\"default\":null},{\"name\":\"offsety\",\"kind\":\"Any\",\"default\":null},{\"name\":\"theme\",\"kind\":\"Any\",\"default\":\"primary\"},{\"name\":\"status\",\"kind\":\"Any\",\"default\":\"normalized\"}]},{\"type\":\"model\",\"name\":\"GridStack1\",\"properties\":[{\"name\":\"mode\",\"kind\":\"Any\",\"default\":\"warn\"},{\"name\":\"ncols\",\"kind\":\"Any\",\"default\":null},{\"name\":\"nrows\",\"kind\":\"Any\",\"default\":null},{\"name\":\"allow_resize\",\"kind\":\"Any\",\"default\":true},{\"name\":\"allow_drag\",\"kind\":\"Any\",\"default\":true},{\"name\":\"state\",\"kind\":\"Any\",\"default\":[]}]},{\"type\":\"model\",\"name\":\"drag1\",\"properties\":[{\"name\":\"slider_width\",\"kind\":\"Any\",\"default\":5},{\"name\":\"slider_color\",\"kind\":\"Any\",\"default\":\"black\"},{\"name\":\"value\",\"kind\":\"Any\",\"default\":50}]},{\"type\":\"model\",\"name\":\"click1\",\"properties\":[{\"name\":\"terminal_output\",\"kind\":\"Any\",\"default\":\"\"},{\"name\":\"debug_name\",\"kind\":\"Any\",\"default\":\"\"},{\"name\":\"clears\",\"kind\":\"Any\",\"default\":0}]},{\"type\":\"model\",\"name\":\"FastWrapper1\",\"properties\":[{\"name\":\"object\",\"kind\":\"Any\",\"default\":null},{\"name\":\"style\",\"kind\":\"Any\",\"default\":null}]},{\"type\":\"model\",\"name\":\"NotificationAreaBase1\",\"properties\":[{\"name\":\"position\",\"kind\":\"Any\",\"default\":\"bottom-right\"},{\"name\":\"_clear\",\"kind\":\"Any\",\"default\":0}]},{\"type\":\"model\",\"name\":\"NotificationArea1\",\"properties\":[{\"name\":\"notifications\",\"kind\":\"Any\",\"default\":[]},{\"name\":\"position\",\"kind\":\"Any\",\"default\":\"bottom-right\"},{\"name\":\"_clear\",\"kind\":\"Any\",\"default\":0},{\"name\":\"types\",\"kind\":\"Any\",\"default\":[{\"type\":\"map\",\"entries\":[[\"type\",\"warning\"],[\"background\",\"#ffc107\"],[\"icon\",{\"type\":\"map\",\"entries\":[[\"className\",\"fas fa-exclamation-triangle\"],[\"tagName\",\"i\"],[\"color\",\"white\"]]}]]},{\"type\":\"map\",\"entries\":[[\"type\",\"info\"],[\"background\",\"#007bff\"],[\"icon\",{\"type\":\"map\",\"entries\":[[\"className\",\"fas fa-info-circle\"],[\"tagName\",\"i\"],[\"color\",\"white\"]]}]]}]}]},{\"type\":\"model\",\"name\":\"Notification\",\"properties\":[{\"name\":\"background\",\"kind\":\"Any\",\"default\":null},{\"name\":\"duration\",\"kind\":\"Any\",\"default\":3000},{\"name\":\"icon\",\"kind\":\"Any\",\"default\":null},{\"name\":\"message\",\"kind\":\"Any\",\"default\":\"\"},{\"name\":\"notification_type\",\"kind\":\"Any\",\"default\":null},{\"name\":\"_destroyed\",\"kind\":\"Any\",\"default\":false}]},{\"type\":\"model\",\"name\":\"TemplateActions1\",\"properties\":[{\"name\":\"open_modal\",\"kind\":\"Any\",\"default\":0},{\"name\":\"close_modal\",\"kind\":\"Any\",\"default\":0}]},{\"type\":\"model\",\"name\":\"BootstrapTemplateActions1\",\"properties\":[{\"name\":\"open_modal\",\"kind\":\"Any\",\"default\":0},{\"name\":\"close_modal\",\"kind\":\"Any\",\"default\":0}]},{\"type\":\"model\",\"name\":\"MaterialTemplateActions1\",\"properties\":[{\"name\":\"open_modal\",\"kind\":\"Any\",\"default\":0},{\"name\":\"close_modal\",\"kind\":\"Any\",\"default\":0}]}]}};\n",
       "  var render_items = [{\"docid\":\"e92e8c0b-7243-4e1d-b689-b0639800782d\",\"roots\":{\"8f17f76f-afbe-4c78-9cd9-b6b7678273e0\":\"cd85990c-29df-49d5-9675-afee22f0fbfd\"},\"root_ids\":[\"8f17f76f-afbe-4c78-9cd9-b6b7678273e0\"]}];\n",
       "  var docs = Object.values(docs_json)\n",
       "  if (!docs) {\n",
       "    return\n",
       "  }\n",
       "  const py_version = docs[0].version.replace('rc', '-rc.')\n",
       "  const is_dev = py_version.indexOf(\"+\") !== -1 || py_version.indexOf(\"-\") !== -1\n",
       "  function embed_document(root) {\n",
       "    var Bokeh = get_bokeh(root)\n",
       "    Bokeh.embed.embed_items_notebook(docs_json, render_items);\n",
       "    for (const render_item of render_items) {\n",
       "      for (const root_id of render_item.root_ids) {\n",
       "\tconst id_el = document.getElementById(root_id)\n",
       "\tif (id_el.children.length && (id_el.children[0].className === 'bk-root')) {\n",
       "\t  const root_el = id_el.children[0]\n",
       "\t  root_el.id = root_el.id + '-rendered'\n",
       "\t}\n",
       "      }\n",
       "    }\n",
       "  }\n",
       "  function get_bokeh(root) {\n",
       "    if (root.Bokeh === undefined) {\n",
       "      return null\n",
       "    } else if (root.Bokeh.version !== py_version && !is_dev) {\n",
       "      if (root.Bokeh.versions === undefined || !root.Bokeh.versions.has(py_version)) {\n",
       "\treturn null\n",
       "      }\n",
       "      return root.Bokeh.versions.get(py_version);\n",
       "    } else if (root.Bokeh.version === py_version) {\n",
       "      return root.Bokeh\n",
       "    }\n",
       "    return null\n",
       "  }\n",
       "  function is_loaded(root) {\n",
       "    var Bokeh = get_bokeh(root)\n",
       "    return (Bokeh != null && Bokeh.Panel !== undefined)\n",
       "  }\n",
       "  if (is_loaded(root)) {\n",
       "    embed_document(root);\n",
       "  } else {\n",
       "    var attempts = 0;\n",
       "    var timer = setInterval(function(root) {\n",
       "      if (is_loaded(root)) {\n",
       "        clearInterval(timer);\n",
       "        embed_document(root);\n",
       "      } else if (document.readyState == \"complete\") {\n",
       "        attempts++;\n",
       "        if (attempts > 200) {\n",
       "          clearInterval(timer);\n",
       "\t  var Bokeh = get_bokeh(root)\n",
       "\t  if (Bokeh == null || Bokeh.Panel == null) {\n",
       "            console.warn(\"Panel: ERROR: Unable to run Panel code because Bokeh or Panel library is missing\");\n",
       "\t  } else {\n",
       "\t    console.warn(\"Panel: WARNING: Attempting to render but not all required libraries could be resolved.\")\n",
       "\t    embed_document(root)\n",
       "\t  }\n",
       "        }\n",
       "      }\n",
       "    }, 25, root)\n",
       "  }\n",
       "})(window);</script>"
      ],
      "text/plain": [
       "Row\n",
       "    [0] HSpacer()\n",
       "    [1] Column\n",
       "        [0] Row\n",
       "            [0] Param(RegressionPolynomialSolver, name='Problem parameters', widgets={})\n",
       "            [1] ParamMethod(method, _pane=Bokeh)\n",
       "        [1] CodeEditor(height=150, language='python', sizing_mode='fixed', theme='chaos', value='def polynomial(\\n        ..., width=640)\n",
       "    [2] HSpacer()"
      ]
     },
     "execution_count": 13,
     "metadata": {
      "application/vnd.holoviews_exec.v0+json": {
       "id": "8f17f76f-afbe-4c78-9cd9-b6b7678273e0"
      }
     },
     "output_type": "execute_result"
    }
   ],
   "source": [
    "def solve(x, y, degree):\n",
    "    X = x[:, np.newaxis]\n",
    "    # Create our polynomial model for regression\n",
    "    model = make_pipeline(PolynomialFeatures(degree), LinearRegression())\n",
    "    # Fit the parameters of this model\n",
    "    model.fit(X, y)\n",
    "    # Predict the values\n",
    "    x_predict = jnp.linspace(jnp.min(x), jnp.max(x), 200)[:, np.newaxis]\n",
    "    y_model = model.predict(x_predict)\n",
    "    return x_predict[:, 0], y_model #np.array(jnp.zeros(y_model.shape))\n",
    "\n",
    "explorer.solve = solve\n",
    "explorer.render()"
   ]
  },
  {
   "cell_type": "markdown",
   "id": "90f3afcf-1dc7-4e9a-8407-9b3ee1f2d217",
   "metadata": {},
   "source": [
    "## Animations\n",
    "\n",
    "The course also relies on providing interactive animations that depict intuitive understanding of otherwise complex problems. To do so, we rely on the great [Manim](https://github.com/3b1b/manim) library and make all the underlying source-code open and available to students. Note however that all this code is under the CC-BY-NC-SA 4.0 license. Here is an exemple of regenerating one of the video animation from the course."
   ]
  },
  {
   "cell_type": "code",
   "execution_count": null,
   "id": "fbd40ab2-53ec-42d6-a150-2cddf9321116",
   "metadata": {},
   "outputs": [
    {
     "name": "stderr",
     "output_type": "stream",
     "text": [
      "/Users/esling/Coding/git/esling/creative_ml/cml/animation/tasks.py:42: RankWarning: Polyfit may be poorly conditioned\n",
      "  coef = np.polyfit(x_coords, y_coords, order)\n",
      "                                                                                                                                                                                   \r"
     ]
    },
    {
     "data": {
      "text/html": [
       "<video src=\"media/jupyter/PolyRegression@2023-11-10@11-37-45.mp4\" controls autoplay loop style=\"max-width: 60%;\"  >\n",
       "      Your browser does not support the <code>video</code> element.\n",
       "    </video>"
      ],
      "text/plain": [
       "<IPython.core.display.Video object>"
      ]
     },
     "metadata": {},
     "output_type": "display_data"
    }
   ],
   "source": [
    "%%manim -v WARNING --disable_caching -qm PolyRegression\n",
    "from cml.animation import PolyRegression"
   ]
  },
  {
   "cell_type": "markdown",
   "id": "d2d66f6e-408d-4364-a5a2-b72982205568",
   "metadata": {},
   "source": [
    "## Supplementary notebooks\n",
    "\n",
    "As the course relies on a wide set of libraries and concepts, we try to provide as much material as possible so that people can try to develop and sharpen their skills in various aspects related to the course. Introductory notebooks can be found in the tutorials/ folder for the following libraries.\n",
    "- JAX\n",
    "- Pytorch\n",
    "- Bokeh\n",
    "\n",
    "We strongly encourage students to also look for official tutorials and documentations in order to have an in-depth understanding of the different libraries and concepts."
   ]
  },
  {
   "cell_type": "markdown",
   "id": "91e79c69-ebfe-4f52-9eeb-fac922ac69cf",
   "metadata": {},
   "source": [
    "## References"
   ]
  },
  {
   "cell_type": "markdown",
   "id": "edcfb21c-e94c-4832-89a8-783202c20206",
   "metadata": {},
   "source": [
    "We provide a set of references and supplementary resources that can provide essential background knowledge, especially for aspects that are not covered in the course. \n",
    "\n",
    "#### Mathematical foundations\n",
    "- [Vector Calculus, Linear Algebra, and Differential Forms: A Unified Approach (5th edition) by John and Barbara Burke Hubbard](https://www.amazon.com/Vector-Calculus-Linear-Algebra-Differential/dp/0971576688) provides the most complete source of information over calculus and linear algebra.\n",
    "- [Foundations of the Theory of Probability Paperback by A. N. Kolmogorov](https://www.york.ac.uk/depts/maths/histstat/kolmogorov_foundations.pdf) provides an in-depth and extensive formal presentation of all concepts required in prrobability\n",
    "- The amazing video series created by [3Blue1Brown]() provide an excellent starting point to understand basic concepts\n",
    "    - [Essence of linear algebra](https://www.youtube.com/playlist?list=PLZHQObOWTQDPD3MizzM2xVFitgF8hE_ab)\n",
    "    - [Essence of calculus](https://www.youtube.com/playlist?list=PLZHQObOWTQDMsr9K-rj53DwVRMYO3t5Yr)\n",
    "\n",
    "#### Machine Learning\n",
    "- [\"Pattern Recognition and Machine Learning\" by Christopher M. Bishop](https://www.microsoft.com/en-us/research/uploads/prod/2006/01/Bishop-Pattern-Recognition-and-Machine-Learning-2006.pdf) is the most valuable resource, providing an in-depth look at the mathematical foundations of various machine learning algorithms.\n",
    "- [\"The Mathematics of Machine Learning\" by Peter D. Grünwald, Elad Hazan, and Satyen Kale](https://arxiv.org/abs/1912.13230) offers an introduction to core concepts for understanding the mathematical basis of machine learning\n",
    "\n",
    "#### Deep learning\n",
    "- [\"Deep Learning\" by Ian Goodfellow, Yoshua Bengio, and Aaron Courville](https://www.deeplearningbook.org/) - *Provides solid foundation on deep learning concepts and techniques.*\n",
    "- [\"Generative Deep Learning\" by David Foster](https://www.oreilly.com/library/view/generative-deep-learning/9781492041931/) - Broader perspective on generative models and various generative techniques, including Variational Autoencoders (VAEs) and Generative Adversarial Networks (GANs)\n",
    "\n",
    "#### Audio processing\n",
    "- [\"The Scientist and Engineer's Guide to Digital Signal Processing\" by Steven W. Smith](http://www.dspguide.com/pdfbook.htm) is an excellent resource that covers the essential mathematical concepts behind digital signal processing.\n",
    "- [\"Music and Computers\" by Phil Burk, Larry Polansky, Douglas Repetto, and Mary Roberts](https://sites.music.columbia.edu/cmc/MusicAndComputers/) - *Starting point for understanding music theory and digital audio.*\n",
    "- [\"Audio Processing in Python\" by Allen Downey](http://greenteapress.com/thinkdsp/html/) - *Practical tutorials on audio processing in Python*\n",
    "\n"
   ]
  },
  {
   "cell_type": "code",
   "execution_count": null,
   "id": "998be827-78a7-47f7-9ca0-8fbaaed724e3",
   "metadata": {},
   "outputs": [],
   "source": []
  }
 ],
 "metadata": {
  "kernelspec": {
   "display_name": "Python 3 (ipykernel)",
   "language": "python",
   "name": "python3"
  },
  "language_info": {
   "codemirror_mode": {
    "name": "ipython",
    "version": 3
   },
   "file_extension": ".py",
   "mimetype": "text/x-python",
   "name": "python",
   "nbconvert_exporter": "python",
   "pygments_lexer": "ipython3",
   "version": "3.11.3"
  }
 },
 "nbformat": 4,
 "nbformat_minor": 5
}
